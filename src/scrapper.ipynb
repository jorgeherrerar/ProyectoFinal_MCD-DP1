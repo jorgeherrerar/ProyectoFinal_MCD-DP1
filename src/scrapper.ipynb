{
 "cells": [
  {
   "cell_type": "code",
   "execution_count": 1,
   "metadata": {},
   "outputs": [],
   "source": [
    "# librerías\n",
    "from bs4 import BeautifulSoup\n",
    "import requests"
   ]
  },
  {
   "cell_type": "markdown",
   "metadata": {},
   "source": [
    "## Código para obtener asin de televisiones (prueba)"
   ]
  },
  {
   "cell_type": "code",
   "execution_count": 27,
   "metadata": {},
   "outputs": [],
   "source": [
    "url = 'https://www.amazon.com.mx/s?k=televisiones'\n",
    "\n",
    "headers = {'User-Agent': 'Mozilla/5.0 (Windows NT 6.3; Win64; x64) AppleWebKit/537.36 (KHTML, like Gecko) Chrome/54.0.2840.71 Safari/537.36'}\n",
    "\n",
    "r = requests.get(url,headers=headers)\n",
    "content = r.content\n",
    "soup = BeautifulSoup(content)"
   ]
  },
  {
   "cell_type": "code",
   "execution_count": 28,
   "metadata": {},
   "outputs": [
    {
     "data": {
      "text/plain": [
       "<!DOCTYPE html>\n",
       "<html><head><meta charset=\"utf-8\"/><meta content=\"ie=edge\" http-equiv=\"x-ua-compatible\"/><meta content=\"width=device-width, initial-scale=1, shrink-to-fit=no\" name=\"viewport\"/><title>Amazon.com.mx Algo falló</title><style>html,body{padding:0;margin:0}img{border:0}#a,#b{background:#232f3e;padding:11px;height:35px}#c{position:absolute;left:22px;top:12px}#e{position:relative;max-width:800px;padding:0 40px 0 171px}#f,#g{height:35px;border:0;font-size:1em}#f{width:100%;margin:0;padding:0 10px;border-radius:4px 0 0 4px}#g{cursor:pointer;background:#febd69;font-weight:bold;border-radius:0 4px 4px 0;-webkit-appearance:none;position:absolute;top:0;right:0;padding:0 12px}@media(max-width:500px){#e{padding-left:0}#b{padding:55px 10px 10px}#c{left:6px}}#h{text-align:center;margin:30px 0}#h img{max-width:90%}#d{display:none}#d[src]{display:inline}</style></head><body><form accept-charset=\"utf-8\" action=\"/s\" id=\"b\" method=\"GET\" role=\"search\"><a href=\"/\"><img alt=\"Amazon.com.mx\" id=\"c\" src=\"https://images-na.ssl-images-amazon.com/images/G/33/error/logo._TTD_.png\"/></a><div id=\"e\"><input id=\"f\" name=\"field-keywords\" placeholder=\"Buscar\"/><input id=\"g\" type=\"submit\" value=\"Ir\"/></div></form><div id=\"h\"><div><a href=\"/\"><img alt=\"Lo sentimos! Algo falló de nuestra parte. Por favor intenta de nuevo o visita la página principal de Amazon Mexico.\" src=\"https://images-na.ssl-images-amazon.com/images/G/33/error/500-title._TTD_.png\"/></a></div><img alt=\"Los perros de Amazon\" id=\"d\"/><script>document.getElementById(\"d\").src=\"https://images-na.ssl-images-amazon.com/images/G/33/error/\"+(Math.floor(Math.random()*200)+1)+\"._TTD_.jpg\";</script></div></body></html>"
      ]
     },
     "execution_count": 28,
     "metadata": {},
     "output_type": "execute_result"
    }
   ],
   "source": [
    "soup"
   ]
  },
  {
   "cell_type": "markdown",
   "metadata": {},
   "source": [
    "El componente div que contiene cada televisión tiene las clases: s-result-item s-asin"
   ]
  },
  {
   "cell_type": "code",
   "execution_count": 9,
   "metadata": {},
   "outputs": [],
   "source": [
    "# Find all div elements with the specified classes\n",
    "result_divs = soup.find_all('div', class_='s-result-item s-asin')\n",
    "\n",
    "# Print the list of matching div elements\n",
    "for div in result_divs:\n",
    "    print(div)"
   ]
  },
  {
   "cell_type": "code",
   "execution_count": null,
   "metadata": {},
   "outputs": [],
   "source": [
    "asin_ejemplo = 'B08GFB24R7'\n",
    "url_resenas = f'https://www.amazon.com.mx/product-reviews/{asin_ejemplo}/ref=cm_cr_dp_d_show_all_btm?ie=UTF8&reviewerType=all_reviews'"
   ]
  }
 ],
 "metadata": {
  "kernelspec": {
   "display_name": "Python 3",
   "language": "python",
   "name": "python3"
  },
  "language_info": {
   "codemirror_mode": {
    "name": "ipython",
    "version": 3
   },
   "file_extension": ".py",
   "mimetype": "text/x-python",
   "name": "python",
   "nbconvert_exporter": "python",
   "pygments_lexer": "ipython3",
   "version": "3.11.2"
  }
 },
 "nbformat": 4,
 "nbformat_minor": 2
}
