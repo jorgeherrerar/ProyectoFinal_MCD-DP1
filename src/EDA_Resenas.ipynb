{
 "cells": [
  {
   "cell_type": "code",
   "execution_count": 1,
   "metadata": {},
   "outputs": [
    {
     "data": {
      "text/plain": [
       "RendererRegistry.enable('mimetype')"
      ]
     },
     "execution_count": 1,
     "metadata": {},
     "output_type": "execute_result"
    }
   ],
   "source": [
    "import pandas as pd\n",
    "import altair as alt\n",
    "alt.renderers.enable('mimetype')"
   ]
  },
  {
   "cell_type": "code",
   "execution_count": 2,
   "metadata": {},
   "outputs": [],
   "source": [
    "resenas = pd.read_csv('../results/all_amazon_reviews.csv')"
   ]
  },
  {
   "cell_type": "code",
   "execution_count": 3,
   "metadata": {},
   "outputs": [
    {
     "data": {
      "text/plain": [
       "star_rating\n",
       "5.0 de 5 estrellas    203\n",
       "No rating              95\n",
       "4.0 de 5 estrellas     47\n",
       "1.0 de 5 estrellas     22\n",
       "2.0 de 5 estrellas      7\n",
       "3.0 de 5 estrellas      6\n",
       "Name: count, dtype: int64"
      ]
     },
     "execution_count": 3,
     "metadata": {},
     "output_type": "execute_result"
    }
   ],
   "source": [
    "resenas['star_rating'].value_counts()"
   ]
  },
  {
   "cell_type": "code",
   "execution_count": 4,
   "metadata": {},
   "outputs": [
    {
     "data": {
      "application/vnd.vegalite.v5+json": {
       "$schema": "https://vega.github.io/schema/vega-lite/v5.15.1.json",
       "config": {
        "view": {
         "continuousHeight": 300,
         "continuousWidth": 300
        }
       },
       "data": {
        "name": "data-79b1abf830e1d4fbf3d9fa79f94f1cd4"
       },
       "datasets": {
        "data-79b1abf830e1d4fbf3d9fa79f94f1cd4": [
         {
          "asin": "B0CJNQBKX9",
          "review_text": "Me fascino por la versatilidad de sus contrastes, la verdad no había trabajado con la marca pero se me hace muy funcional, de buena calidad y excelente relación precio - beneficio. muy recomendable volvería a comprar sin dudas.",
          "star_rating": "5.0 de 5 estrellas",
          "title": "EXCELENTE NITIDEZ Y CALIDAD DE IMAGEN"
         },
         {
          "asin": "B0CJNQBKX9",
          "review_text": "Excelente calidad de imagenMe gustó mucho la marca, la verdad no había trabajado con la marca, y se me hace funcional, de buana calidad y nitidez, yo se las recomiendo.Muy buena para el uso cotidiano.",
          "star_rating": "5.0 de 5 estrellas",
          "title": "Excelente producto"
         },
         {
          "asin": "B0C47PZ6HR",
          "review_text": "La pantalla llegó sin el soporte para mesa",
          "star_rating": "4.0 de 5 estrellas",
          "title": "Llegó sin base"
         },
         {
          "asin": "B0C47PZ6HR",
          "review_text": "Todo muy bien, en su publicacion aparecen unos audifonos que no llegaron, fuera de eso, muy bien",
          "star_rating": "4.0 de 5 estrellas",
          "title": "BUENA"
         },
         {
          "asin": "B0C47PZ6HR",
          "review_text": "Buen producto pero no viene los audífonos la verda la compré por eso, eso fue lo que me hizo escoger la Tv",
          "star_rating": "5.0 de 5 estrellas",
          "title": "Bien producto"
         },
         {
          "asin": "B0C47PZ6HR",
          "review_text": "Llego todo en orden, con patas y control.  Funcionando correctamente y la calidad de imagen es muy buena",
          "star_rating": "5.0 de 5 estrellas",
          "title": "Funcionando excelente"
         },
         {
          "asin": "B0C47PZ6HR",
          "review_text": "Superó mis expectativas",
          "star_rating": "5.0 de 5 estrellas",
          "title": "Excelente"
         },
         {
          "asin": "B0C47PZ6HR",
          "review_text": "Lo único que le recomiendo es que no llego con su empaque original me llegó como una Samsung de 65 pulgadas y ya la iba a regresar sin abrir  no trae manual ni garantía el control remoto estaba suelto en fin afortunadamente si era la pantalla y funcionó a la perfección",
          "star_rating": "4.0 de 5 estrellas",
          "title": "Muy buena"
         },
         {
          "asin": "B0C47PZ6HR",
          "review_text": "Buen día recibí mi producto la tele funciona al 100 pero el control no funciona, ya lo intentamos con más baterías",
          "star_rating": "3.0 de 5 estrellas",
          "title": "Control venía sin funcionamiento"
         },
         {
          "asin": "B0C47PZ6HR",
          "review_text": "muy buen producto, justo lo que buscábamos para un aula de clases",
          "star_rating": "5.0 de 5 estrellas",
          "title": "excelente imagen y sonido"
         },
         {
          "asin": "B0C47PZ6HR",
          "review_text": "No puedo opinar del funcionamiento to porque la devolví, ya que las patas de la pantalla no correspondían al equipo y la devolví de inmediato.No hay imagen por la devolución.",
          "star_rating": "2.0 de 5 estrellas",
          "title": "Es una pena que las patas no correspondieran a la pantalla."
         },
         {
          "asin": "B0C47PZ6HR",
          "review_text": "Esto es una pantalla 50 reacondicionada y con garantía! Viene sin control remoto y sin tornillos de las patitas, ni la probe!!! Si así es la presentación me imagino el control de calidad!Lista para que la recojan!!",
          "star_rating": "1.0 de 5 estrellas",
          "title": "Amazon vende esto???"
         },
         {
          "asin": "B0C47PZ6HR",
          "review_text": "Funciona perfecto",
          "star_rating": "5.0 de 5 estrellas",
          "title": "Bien para el precio"
         },
         {
          "asin": "B0C47PZ6HR",
          "review_text": "No lo compren aún que diga que viene garantizado no es cierto, la pedí y llegó destapada de la parte de abajo de la pantalla y no funcionaba, el display se veía Azul y solo se escuchaba, muy mala experiencia",
          "star_rating": "1.0 de 5 estrellas",
          "title": "Muy mala experiencia"
         },
         {
          "asin": "B0C47PZ6HR",
          "review_text": "Me llego y apenas conectado empezó a fallar, se trababa y se apagaba. No recomiendo para nada gastar su dinero en esto.",
          "star_rating": "1.0 de 5 estrellas",
          "title": "Producto defectuoso"
         },
         {
          "asin": "B0C47PZ6HR",
          "review_text": "Producto llega dañadoEl display dañado Z",
          "star_rating": "1.0 de 5 estrellas",
          "title": "Producto defectuoso"
         },
         {
          "asin": "B0C47PZ6HR",
          "review_text": "No funciono",
          "star_rating": "1.0 de 5 estrellas",
          "title": "Súper mal, la tv no funciono"
         },
         {
          "asin": "B0C47PZ6HR",
          "review_text": "El producto llego sin base",
          "star_rating": "1.0 de 5 estrellas",
          "title": "Me llego el producto sin base, no se puede usar"
         },
         {
          "asin": "B0C47PZ6HR",
          "review_text": "El artículo llegó bien empaquetado con control, sin garantía pero funciona perfecta",
          "star_rating": "5.0 de 5 estrellas",
          "title": "Excelente"
         },
         {
          "asin": "B0C47PZ6HR",
          "review_text": "Buena compra",
          "star_rating": "5.0 de 5 estrellas",
          "title": "Llego a tiempo"
         },
         {
          "asin": "B0C47PZ6HR",
          "review_text": "La tv venía bien envalada su calidad de colores me sorprendió y está súper bien",
          "star_rating": "5.0 de 5 estrellas",
          "title": "Se ve súper bien"
         },
         {
          "asin": "B08TVSM195",
          "review_text": "Me gusto mucho",
          "star_rating": "5.0 de 5 estrellas",
          "title": "Bien cuidado"
         },
         {
          "asin": "B08TVSM195",
          "review_text": "Me convencí por esta tele por 2 motivos; principalmente por la relación calidad-precio y porque los reviews eran muy buenos.A mí me tocó la tele sellada, con plásticos y sin ningún mal detalle. El tamaño muy bien, ya había usado Roku y sabía que podía ofrecer más aplicaciones que una smart y muy bien.La única crítica rigurosa que tengo es que la calidad de imagen para videojuegos está ok sí hace algunos ajustes manuales, pero no es lo más criticable, para ver Netflix, etc l calidad es mejor, bastante buena por el precio.Le doy 4 estrellas por que creo que la resolución de videojuegos puede ser mejor o más práctica y porque me falta darle tiempo de uso.  Si está bien en unos años es un producto 5 estrellas.",
          "star_rating": "4.0 de 5 estrellas",
          "title": "Satisfecho. Sellada y el n Perfecto estado"
         },
         {
          "asin": "B08TVSM195",
          "review_text": "Es una buena tele, por el precio que tiene y las prestaciones que ofrece, vale la pena. Llegó bien, sin desperfecto, además cuenta con Roku TV que es excelente. Su construcción es estándar pero los materiales son buenos y resistentes. No estoy del todo seguro que sea 4k pero es una imagen decente para ver contenido en las plataformas de streaming",
          "star_rating": "4.0 de 5 estrellas",
          "title": "Excelente tele relación Calidad Precio"
         },
         {
          "asin": "B08TVSM195",
          "review_text": "Es una tv que cumple en todo si no eres muy exigente, buen sonido, buena calidad de imagen y el sistema operativo muy responsivo y con la facilidad de conectarlo con tu celular para manejar la tv desde el celular, viene con un control simple pero rápido. Sin embargo llamó la atención que faltaron piezas los soportes o base para poner de pie la Tv, me tocó comprar unos que se pueden acoplar a la parte de atrás de la Tv.",
          "star_rating": "4.0 de 5 estrellas",
          "title": "Tv como nueva pero un detalle"
         },
         {
          "asin": "B08TVSM195",
          "review_text": "La tele supongo por ser renewed, tiene una abolladura en la parte trasera que no interfiere mucho en su funcionamiento, el sonido es decente pero no muy bueno, la imagen en general es muy buena. Uno de los problemas es que cuando la enciendes, no detecta el WIFI y lo tienes que introducir como detección de red, no me parece el gran problema pero si es detalle a tomar en cuenta. Le doy 5 estrellas porque la tomé a un gran precio y con el mejor software para mi que es ROKU.",
          "star_rating": "5.0 de 5 estrellas",
          "title": "Muy buena"
         },
         {
          "asin": "B08TVSM195",
          "review_text": "El precio, calidad de imagen",
          "star_rating": "5.0 de 5 estrellas",
          "title": "Muy buen precio"
         },
         {
          "asin": "B08TVSM195",
          "review_text": "Pantalla buena, bonita y barata",
          "star_rating": "5.0 de 5 estrellas",
          "title": "Buena pantalla"
         },
         {
          "asin": "B08TVSM195",
          "review_text": "Elegí la de 43 pulgadas la cual SÍ es 4k (algunas personas decían que no era 4k pero era otro modelo de 40 o 42 pulgadas), roku es el mejor sistema para manejar una smart tv (ya lo conecté hasta con mi alexa)El embalaje venía bien, a lo esperado al ser renewed, en $1,200 menos que comprarla nueva en walmart.Aun no prueba más la TV, espero hacerlo el fin de semana y les comento una vez que conecte el xbox y vea alguna serie... de momento todo ok!",
          "star_rating": "5.0 de 5 estrellas",
          "title": "Todo bien hasta ahora"
         },
         {
          "asin": "B08TVSM195",
          "review_text": "El precio que tiene y las prestaciones que da me quedé 👁️👄👁️Excelente calidad de imagen 4kSonido espectacularY las aplicaciones súper fácil las cargaEl precio que tiene y las pulgadas que da es de las mejores tv que hayEs onn una su marca de roku y para wifi excelente 2.4g y 5g",
          "star_rating": "5.0 de 5 estrellas",
          "title": "Excelente Smart tv"
         },
         {
          "asin": "B08TVSM195",
          "review_text": "Tiene una excelente imagen, (con Roku) y aunado a una relación valor/precio que hacen de este televisor sea el mejor de las opciones",
          "star_rating": "5.0 de 5 estrellas",
          "title": "Televisión Onn"
         },
         {
          "asin": "B08TVSM195",
          "review_text": "No me gustó, porque desde que llegó se probó la tele y tienes 3 rayas que le salen a la pantalla, así que ese mismo le di para devolver el producto, la caja estaba toda maltratada y aparte el personal de la mensajería, la estaba bajando con el menor cuidando, golpeándola y jalandola muy feo, aparte que está furioso el mensajeroAsí que no le puedo decir más que cosas negativas de esta compra de televisión que llegó en mal estado desde el primer día.",
          "star_rating": "1.0 de 5 estrellas",
          "title": "Vino con 3 rayas en la televisión"
         },
         {
          "asin": "B08TVSM195",
          "review_text": "La verdad muy buen producto barato y funciona a la perfección a mí me tocó la suerte de que llegó prácticamente nueva ni una rayada ybennsu caja original todo perfecto",
          "star_rating": "5.0 de 5 estrellas",
          "title": "Excelente producto 👌"
         },
         {
          "asin": "B08TVSM195",
          "review_text": "Excelente compra, detecta en automático el HDR de los archivos y cambia en el menú de imagen según el archivo que reproduzcan. Si eres exigente en Gherz está pantalla no es para ti, deberás invertir el doble de dinero.",
          "star_rating": "5.0 de 5 estrellas",
          "title": "BBB, Para el costo va de maravilla la pantalla."
         },
         {
          "asin": "B08TVSM195",
          "review_text": "Ya lo instalé y conecté, tengo una semana con el producto, funciona perfecto hasta ahora, viene con roku integrado. Excelente",
          "star_rating": "5.0 de 5 estrellas",
          "title": "Excelente, las funciones tal cual como se describen"
         },
         {
          "asin": "B08TVSM195",
          "review_text": "Llegó estrellada de la pantalla y la tuve que devolver",
          "star_rating": "1.0 de 5 estrellas",
          "title": "Pésimo estado, no funciona."
         },
         {
          "asin": "B08TVSM195",
          "review_text": "Televisión muy buena y a buen precio, es excelente la calidad precio y el uso de rocku",
          "star_rating": "5.0 de 5 estrellas",
          "title": "Excelente producto"
         },
         {
          "asin": "B08TVSM195",
          "review_text": "Muy buena imagen y sonido",
          "star_rating": "5.0 de 5 estrellas",
          "title": "Excelente producto"
         },
         {
          "asin": "B08TVSM195",
          "review_text": "muy completo el software, trae hasta disney +",
          "star_rating": "5.0 de 5 estrellas",
          "title": "bien"
         },
         {
          "asin": "B08TVSM195",
          "review_text": "La calidad de la imagen es muy buena",
          "star_rating": "5.0 de 5 estrellas",
          "title": "Calidad de la imagen"
         },
         {
          "asin": "B08TVSM195",
          "review_text": "Tamaño adecuado, y calidad por un buen precio.",
          "star_rating": "5.0 de 5 estrellas",
          "title": "Muy buena compra"
         },
         {
          "asin": "B08TVSM195",
          "review_text": "Muy buena.",
          "star_rating": "5.0 de 5 estrellas",
          "title": "Muy buena"
         },
         {
          "asin": "B08TVSM195",
          "review_text": "buen producto cumple con lo ofrecido",
          "star_rating": "5.0 de 5 estrellas",
          "title": "buen producto"
         },
         {
          "asin": "B08TVSM195",
          "review_text": "Todo funciona perfecto",
          "star_rating": "5.0 de 5 estrellas",
          "title": "Buena compra"
         },
         {
          "asin": "B08TVSM195",
          "review_text": "Excelente compra, no me arrepiento",
          "star_rating": "5.0 de 5 estrellas",
          "title": "Excelente oferta"
         },
         {
          "asin": "B08TVSM195",
          "review_text": "Excelente, está como nueva!",
          "star_rating": "5.0 de 5 estrellas",
          "title": "Muy buena TV"
         },
         {
          "asin": "B08TVSM195",
          "review_text": "todo funciona en orden",
          "star_rating": "5.0 de 5 estrellas",
          "title": "Excelente relacion calidad precio"
         },
         {
          "asin": "B08TVSM195",
          "review_text": "No funciona",
          "star_rating": "1.0 de 5 estrellas",
          "title": "No funciona me llego si que se vea la pantalla y en una caja X no en la original"
         },
         {
          "asin": "B08TVSM195",
          "review_text": "La imagen de esta pantalla está muy bien plasmada, por el precio la verdad no le pide nada a otras marcas, el sonido también es bueno, para jugar o ver películas está exelente",
          "star_rating": "5.0 de 5 estrellas",
          "title": "Imagen increíble"
         },
         {
          "asin": "B08TVSM195",
          "review_text": "No se puede pedir nada mejor por el Precio y calidad de imagenLLega con su empaque original , se nota que anteriormente fue abierto (obviamente )pero fue reempaquetado y llego sin ningún rasguño, viene con sus patitas,control nuevo Roku (television roku) no se necesita ningun otro control, no trae instructivo (nada relevante)..Excelente calidad de video, el sonido se puede mejorar con bocinas exteriores, simplemente con una antena digital buena ves mas canales HD que con cable.Quede muy satisfecho.",
          "star_rating": "5.0 de 5 estrellas",
          "title": "EXCELENTE SMART  TV.!"
         },
         {
          "asin": "B08TVSM195",
          "review_text": "Exactamente como se describe, calidad de imagen perfecta.",
          "star_rating": "5.0 de 5 estrellas",
          "title": "Excelente"
         },
         {
          "asin": "B08TVSM195",
          "review_text": "Igual saludos",
          "star_rating": "5.0 de 5 estrellas",
          "title": "Excelente"
         },
         {
          "asin": "B09WTPYGFF",
          "review_text": "Sí pediría otra por el precio, mi caja llegó únicamente la de la empresa ya así como se ve, no traía otra de Amazon. La calidad de imagen es estándar, no resalta mucho pero tiene todas las funciones del momento y hasta comprar otras apps que no haya se puede en la misma pantallaEl sonido sí es bueno, no se escucha nada mal pero igual se puede mejorar con alguna barra de sonidoMuy probablemente pediría otra más chica para mi habitación",
          "star_rating": "5.0 de 5 estrellas",
          "title": "Calidad precio"
         },
         {
          "asin": "B09WTPYGFF",
          "review_text": "Excelente producto, óptimo para cubrir nuestras necesidades, aunque en realidad mide 38 pulgadas y no 43, además la usuaria que la devolvió olvidó borrar su cuenta y restaurarla de fábrica, pero fue pecata minuta porque lo hicimos sin ningún problema y la televisión funciona perfectamente.",
          "star_rating": "5.0 de 5 estrellas",
          "title": "Muy buena pantalla."
         },
         {
          "asin": "B09WTPYGFF",
          "review_text": "Es una excelente pantalla, el sonido es muy bueno, con 10 de volumen ya es muy fuerte, la calidad de imagen es excelente, al principio configurar es un poco tardado pero fácil de usar, tiene muchas apps de streaming que casi todos tenemos.La recomiendo mucho.La encontré en 9k si la ves más barata no lo dudes",
          "star_rating": "5.0 de 5 estrellas",
          "title": "Buena calidad-precio"
         },
         {
          "asin": "B09WTPYGFF",
          "review_text": "Me encanta la tele, muy buena en todos los sentidos, solo que en la descripción del producto deberían mejorar un poco más la organización, al comprarla y por las prisas de que estaba en descuento por poco tiempo, no logré encontrar su Frecuencia de actualización, debido a que era una situación de ahora o nunca, la compré con esperanzas de que fuera más, lamentablemente se quedó en 60hz, lo cual limitó completamente lo que yo buscaba y quería. De haber sabido mejor hubiera comprado la U7H. Pero es mi culpa por no leer bien y comprar de forma impulsiva.",
          "star_rating": "5.0 de 5 estrellas",
          "title": "Buena tele, mala descripción de producto"
         },
         {
          "asin": "B09WTPYGFF",
          "review_text": "Una pantalla que tuvo un precio bastante bueno en relación costo beneficio , llegó bien y rápido",
          "star_rating": "5.0 de 5 estrellas",
          "title": "Llego antes y en excelentes condiciones"
         },
         {
          "asin": "B09WTPYGFF",
          "review_text": "Antes de comprar tenía mis dudas por ser una marca china pero la verdad me ha sorprendido la calidad de imagen y todas las funciones, Smart, Dolby visión y si alcanza la definición de 4K. Control por voz, HDR, Google TV.Si el Apple TV se dañara no lo extrañaría con esta TV, garantía de 2 años con la marca por el tamaño y compré una garantía extendida a un muy buen precio con Amazon. En lo personal muy satisfecho.",
          "star_rating": "5.0 de 5 estrellas",
          "title": "Excelente"
         },
         {
          "asin": "B09WTPYGFF",
          "review_text": "Por el precio actual $5,000 y más barata que en algunas tiendas de autoservicio. La pantalla cumple, tiene buena calidad de pantalla, sonido, y estructura. Ya que es muy delgada que queda muy bien montada en pared. El tener Google TV da una gran ventaja pues es compatible con casi cualquier app de streaming.",
          "star_rating": "5.0 de 5 estrellas",
          "title": "Excelente relación calidad/precio"
         },
         {
          "asin": "B09WTPYGFF",
          "review_text": "Nos encantó, la recomiendo ampliamente",
          "star_rating": "5.0 de 5 estrellas",
          "title": "Super buena compra"
         },
         {
          "asin": "B09WTPYGFF",
          "review_text": "La agarre en oferta y la verdad ya tenía tiempo investigando que tv comprar para mi consola y ver streaming, es bastante completa, les recomiendo que compren una que traiga Google(como este artículo) o Roku, porque las Vidaa al parecer fallan.",
          "star_rating": "5.0 de 5 estrellas",
          "title": "Excelente Smart TV"
         },
         {
          "asin": "B09WTPYGFF",
          "review_text": "Me a gustado mucho está compra ya q deja ver las peliculas muy claras",
          "star_rating": "5.0 de 5 estrellas",
          "title": "Buena resolución y muy buen volumen"
         },
         {
          "asin": "B09WTPYGFF",
          "review_text": "Se nota el cambio de gama. Los 120hz se notan y la resolución es muy buena. La recomiendo para jugar PS5",
          "star_rating": "5.0 de 5 estrellas",
          "title": "Excelente"
         },
         {
          "asin": "B09WTPYGFF",
          "review_text": "Recomendado",
          "star_rating": "5.0 de 5 estrellas",
          "title": "Excelente vision"
         },
         {
          "asin": "B09WTPYGFF",
          "review_text": "Ya tengo 6 meses con el producto y la verdad que muy bien, incluso comparándola con una LG de 60 plg que compre un par de meses antes, a veces la imagen se ve más realista en esta Hisense. Ojála que con el paso del tiempo siga funcionando igual de bien, hasta ahorita totalmente recomendable",
          "star_rating": "5.0 de 5 estrellas",
          "title": "Muy buena TV"
         },
         {
          "asin": "B09WTPYGFF",
          "review_text": "desde hace mucho queríamos comprar una tv de 65, y nos llego la oportunidad.  Maravillosa, y a excelente precio.  Ya conocemos la marca Hisense.",
          "star_rating": "5.0 de 5 estrellas",
          "title": "magnifica oferta"
         },
         {
          "asin": "B09WTPYGFF",
          "review_text": "La TV llego en buenas condiciones y funcionando al 100%",
          "star_rating": "5.0 de 5 estrellas",
          "title": "Excelente"
         },
         {
          "asin": "B09WTPYGFF",
          "review_text": "Excelente, se entregó sin ningun daño",
          "star_rating": "5.0 de 5 estrellas",
          "title": "Buena"
         },
         {
          "asin": "B09WTPYGFF",
          "review_text": "La pantalla cumple a la perfección los requisitos que yo estaba buscando. La resolución está muy bien y que funcione con Google tv definitivamente es un plus.",
          "star_rating": "5.0 de 5 estrellas",
          "title": "Muy bien"
         },
         {
          "asin": "B09WTPYGFF",
          "review_text": "Llegó antes de lo esperado y en muy buenas condiciones!!",
          "star_rating": "5.0 de 5 estrellas",
          "title": "Excelente producto precio y calidad"
         },
         {
          "asin": "B09WTPYGFF",
          "review_text": "La compre con un super descuento así que eso es lo primero más grandioso, después de casi 2 meses de uso todo bien tiene buena imagen el sonido no es tan alto quizás en un área grande como uns sala no tenga buen sonido, pero ya que yo la use para mi cuarto esta es excelente porwue ahí el sonido es mucho mayor al estar más cerrado no me arrepiento de mi compra, ya que hasta ahora edta marca es la que estoy comprando de smart tv y no me ha desepcionado",
          "star_rating": "5.0 de 5 estrellas",
          "title": "Hasta ahora después de 2 meses de uso todo párese bien"
         },
         {
          "asin": "B09WTPYGFF",
          "review_text": "Yo compré esta pantalla casi exclusivamente para ver películas por streaming y para conectar y jugar con mi Xbox Series S. Cabe destacar que yo no juego multijugador, solo campañas y pantalla dividida local. Sobre el streaming la pantalla es excelente. La resolución es excelente, el tamaño también y se conecta a internet en menos de 5 segundos. No he tenido problemas de conexión y me corre las películas sin interrupciones y eso que no tengo buen internet. Sobre el gaming, pongo una foto de las características que esta pantalla te da para un Xbox Series S (tengo mi consola en inglés). Los juegos se ven bastantante bien y solo he tenido pequeños lags en las cinemáticas, no durante el juego como tal. Estoy algo sorprendido porque en la caja de la pantalla dice que tiene HDR10, pero el Xbox dice que no lo soporta. Igual no entiendo bien estos conceptos. En general la pantalla cumple para gaming, aunque imagino que si eres muy exigente (yo no lo soy) la pantalla te quedará a deber. La entrega llegó dentro del tiempo estimado y en perfectas condiciones. Como nota al pie, no trae desarmador para instalarle las patas ni armazón para empotrarla en la pared.",
          "star_rating": "5.0 de 5 estrellas",
          "title": "Muy buena pantalla"
         },
         {
          "asin": "B09WTPYGFF",
          "review_text": "Super contenta con mi pantalla, se ve super y el sonido excelente",
          "star_rating": "5.0 de 5 estrellas",
          "title": "Excelente 👌"
         },
         {
          "asin": "B09WTPYGFF",
          "review_text": "Vengo de una Samsung QLED, que desgraciadamente le salieron pixeles muertos y se descompuso, Tenía muchas dudas de esta TV pero Es increíble la definición y la fluidez con la que corre los videos juegos, aún le falta un poco más de “calidad” a los videos y películas pero por el precio creo que está más que excelente, yo que soy una persona “exigente” estoy contento con la pantalla",
          "star_rating": "5.0 de 5 estrellas",
          "title": "Definición"
         },
         {
          "asin": "B09WTPYGFF",
          "review_text": "Excelente producto, la conectividad, definición y sonido es excelente. Tiene algunas fugas de luz poco notorias pero es de esperarse por el precio. La recomiendo ampliamente.",
          "star_rating": "5.0 de 5 estrellas",
          "title": "Excelente calidad/Precio"
         },
         {
          "asin": "B09WTPYGFF",
          "review_text": "Ya he probado unos días el televisor y funcionan perfecto, buena calidad en la imagen, el sonido muy bueno, tiene todo lo que necesitas compatibilidad con HomeKit, Alexa, Google.El único detalle que pondría no tiene más que ver con el producto si no con la paquetería o en los almacenes de Amazon, ya que la caja llegó con un ligero golpe, si bien esto no dañó la TV pero estaría genial que Amazon o la paquetería cuide más los productos",
          "star_rating": "5.0 de 5 estrellas",
          "title": "El producto muy bueno"
         },
         {
          "asin": "B09WTPYGFF",
          "review_text": "Me llegó hace dos semanas y la he estado usando casi todos los días, su imagen es buena, el sonido también, como la tv la uso en mi cuarto basta con 20 de sonido, pero tuve un pequeño problema, en la esquina superior izquierda le salió un pequeña fuga de luz, hay veces en las que no se ve, depende del ángulo, pero ahí está, por eso le doy 4 estrellas, porque para llevar dos semanas no se me hace bueno que le salga eso, pero como a veces se ve y a veces no, pues no hago un drama, además me costó $4,800 así que tampoco me puedo quejar mucho, fuera de eso creo que es una gran opción calidad-precio",
          "star_rating": "4.0 de 5 estrellas",
          "title": "Buena por su precio"
         },
         {
          "asin": "B09WTPYGFF",
          "review_text": "Es la segunda Hisense que compro 👍🏼La interfaz es rápida y fácil de usar.La instalación debe ser entre 2 personas.",
          "star_rating": "5.0 de 5 estrellas",
          "title": "Buena compra"
         },
         {
          "asin": "B09WTPYGFF",
          "review_text": "Gran imagen y excelente sonido. Llegó en tiempo y en buenas condiciones. Tenía una Hisense desde hsce años y han salido muy bien. Muy recomendable por el precio.",
          "star_rating": "5.0 de 5 estrellas",
          "title": "Excelente TV"
         },
         {
          "asin": "B09WTPYGFF",
          "review_text": "Es rápida, tiene muy buena respuesta.La imagen es muy buena y vale la pena",
          "star_rating": "5.0 de 5 estrellas",
          "title": "Muy buen producto"
         },
         {
          "asin": "B09WTPYGFF",
          "review_text": "Se ve muy nítida y excelente precio gracias.",
          "star_rating": "5.0 de 5 estrellas",
          "title": "Tv"
         },
         {
          "asin": "B09WTPYGFF",
          "review_text": "ES MUY BUEN PRODUCTO GRACIAS TODO BIEN CUIDADO Y BUENA IMAGEN Y SONIDO.",
          "star_rating": "5.0 de 5 estrellas",
          "title": "IMAGEN Y SONIDO"
         },
         {
          "asin": "B09WTPYGFF",
          "review_text": "Es la primera vez que compro una pantalla en amazon, estaba nervioso pero todo en orden la pantalla muy bien y jalando al cien. Recomendado",
          "star_rating": "5.0 de 5 estrellas",
          "title": "Todo llegó bien y en excelentes condiciones"
         },
         {
          "asin": "B09WTPYGFF",
          "review_text": "He de decir que tenía mi dudas sobre ma televisión, pero al contrario, excelente imagen, el sistema operativo con Google hace todo mas sencillo, solo debes ingresar nuevamente a tus apps para que Google las recuerde y así en una sola pantalla se despliegan todas y al escoger la película te manda de forma directa en algunasRecomiendo esta TV si llega a estar nuevamente en promoción",
          "star_rating": "5.0 de 5 estrellas",
          "title": "Excelente decisión"
         },
         {
          "asin": "B09WTPYGFF",
          "review_text": "Buena calidad en imagen, fácil de configurar, buen sonido",
          "star_rating": "5.0 de 5 estrellas",
          "title": "Buena relación calidad-precio"
         },
         {
          "asin": "B09WTPYGFF",
          "review_text": "Sin duda fue una gran compra, la conseguí por 13,499 y creo que por el precio no existe una mejor opción, la calidad de imagen es muy muy buena y el sistema operativo ayuda mucho a hacerla fluida, si tienen la oportunidad de conseguirla por un precio similar, no lo duden.",
          "star_rating": "5.0 de 5 estrellas",
          "title": "Ampliamente recomendable"
         },
         {
          "asin": "B09WTPYGFF",
          "review_text": "Da más de lo que cuesta.",
          "star_rating": "5.0 de 5 estrellas",
          "title": "Buen costo-beneficio"
         },
         {
          "asin": "B09WTPYGFF",
          "review_text": "Me gustó la imagen y audio, sistema operativo muy rápido.",
          "star_rating": "5.0 de 5 estrellas",
          "title": "Buena imagen"
         },
         {
          "asin": "B09WTPYGFF",
          "review_text": "Estoy encantada con mi compra, en un principio tuve mis dudas por la marca, después recordé que compre una Samsung pantalla de cristal que duró menos que mi quincena 😂😢 y se me pasó. Ahora tengo 22 días con mi Hisense y funciona de maravilla, fácil de utilizar y las imágenes súper padres 👌🏻",
          "star_rating": "5.0 de 5 estrellas",
          "title": "Divina 👌🏻"
         },
         {
          "asin": "B09WTPYGFF",
          "review_text": "El producto llegó en buen estado, no obstante, al momento de conectar el cable de la corriente en la parte del conector tipo \"hembra\" no ajusta como debe hacerlo. Debo de sujetarlo para que encienda el televisor.No sé si el cable es incorrecto o el espacio donde se conecta el televisor sea grande.",
          "star_rating": "4.0 de 5 estrellas",
          "title": "Cable de la corriente en conector tipo hembra no se sostiene por sí solo."
         },
         {
          "asin": "B09WTPYGFF",
          "review_text": "Excelente equipo, realmente vale la pena",
          "star_rating": "5.0 de 5 estrellas",
          "title": "Buena pantalla"
         },
         {
          "asin": "B09WTPYGFF",
          "review_text": "Muy bueno  buenas imajenes muy buen donido",
          "star_rating": "5.0 de 5 estrellas",
          "title": "El audio es fuerte no necesitas bocinas extra"
         },
         {
          "asin": "B09WTPYGFF",
          "review_text": "Cumplió con mis expectativas, se ve más grande de lo que imagine, los canales se ven asombrosos. Fácil de configurar el Google tv, por la gama del televisor no se podía pedir más",
          "star_rating": "5.0 de 5 estrellas",
          "title": "Buen televisor"
         },
         {
          "asin": "B09WTPYGFF",
          "review_text": "Excelente producto buena resolución y quede muy contento recomendable",
          "star_rating": "5.0 de 5 estrellas",
          "title": "Muy bueno"
         },
         {
          "asin": "B09WTPYGFF",
          "review_text": "Me encanto por su resolución se mira muy bien y más con el Xbox corre perfecto 120 fps y también el 4k y por un buen precio",
          "star_rating": "5.0 de 5 estrellas",
          "title": "Exelente"
         },
         {
          "asin": "B09WTPYGFF",
          "review_text": "SI me gusto y me gusto mas su sistema operativo Google TV ya que tiene instalado desde fabrica el sistema google tv, si es bueno avecés si es medio lento al principio y mas cuando lo estas instalando y das de alta todo, hasta ahora se me gusto y me toco remplazarla y probé con esta para ver lo del Google tv ya que en mi caso yo tengo el Chromecast, aparte la interfase de pasar a google tv a televisión abierta es rápido ya que el streaming en vivo hay un retraso y en mi caso eso no me gustaba, el audio es bueno es pasable pero bueno, aparte todo esta en el control remoto. También si pude instalar aplicaciones como en el chromecast TV, ya que aqui como les comento el google tv ya esta instalado desde fabrica y en la tele no necesite nada. Pago  esta y al pareces si voy por otra mas grande ya que la que tenia era de 65 pulgadas",
          "star_rating": "4.0 de 5 estrellas",
          "title": "SI me gusto pero..."
         },
         {
          "asin": "B09WTPYGFF",
          "review_text": "Excelente tecnologia por Precio.",
          "star_rating": "5.0 de 5 estrellas",
          "title": "Precio"
         },
         {
          "asin": "B09WTPYGFF",
          "review_text": "Buena calidad de imagen, la velocidad del interfaz es buena (promedio), y el asistente de Google viene siendo un añadido excelente.  Lo recomiendo.",
          "star_rating": "5.0 de 5 estrellas",
          "title": "Funciona muy bien después de un mes"
         },
         {
          "asin": "B09WTPYGFF",
          "review_text": "La televisión llegó super rápido bien precio lo único malo es que llegó con un dellate se le ve una manchita negra en la pantalla",
          "star_rating": "4.0 de 5 estrellas",
          "title": "Llegó bien pero con un detalle"
         },
         {
          "asin": "B09WTPYGFF",
          "review_text": "Buena bonita y barata la agarré a muy buen precio y hasta el momento no ha presentado algún inconveniente en su función como en su imagen",
          "star_rating": "5.0 de 5 estrellas",
          "title": "Las 3B"
         },
         {
          "asin": "B09WTPYGFF",
          "review_text": "Excelente opción si la consigues por menos de 250 dólares",
          "star_rating": "5.0 de 5 estrellas",
          "title": "Buena relación calidad-precio"
         },
         {
          "asin": "B09WTPYGFF",
          "review_text": "Siempre he elegido está marca de TV por la calidad en audio y vídeo, es un artículo muy recomendable.",
          "star_rating": "5.0 de 5 estrellas",
          "title": "Excelente Smart TV"
         },
         {
          "asin": "B0C587FK1Z",
          "review_text": "Me sorprendió que haya llegado mucho antes de lo programado. La pantalla llegó en excellente condiciones. La estrené viendo una película en 4k y fue una experiencia agradable. La calidad de imagen es de lo mejor que he visto. Difícilmente regresaré a definicion estándar.Aún falta calar la pantalla con consolas de última generación.Algo que me gustaría señalar es que el armado de la base me generó un dolor de cabeza pues las instrucciones no eran muy claras y los tornillos difícilmente entraron, sin embargo con mucho cuidado y con un vídeo tutorial al final quedó.",
          "star_rating": "5.0 de 5 estrellas",
          "title": "Excelente calidad de imagen"
         },
         {
          "asin": "B0C587FK1Z",
          "review_text": "MUY RAPIDO EL ENVIO.",
          "star_rating": "5.0 de 5 estrellas",
          "title": "EXCELENTE EN TIEMPO Y FORMA"
         },
         {
          "asin": "B0C587FK1Z",
          "review_text": "Realice mi pedido de esta tv por el buen precio en el que estaba y está sorprendentemente me llego en 3 días a mi domicilio por estafeta (“Cuando la fecha programada era hasta 9 días después de la compra”)Calidad de imagen:Es otra experiencia, la calidad de imagen es sorprendente, el brillo es fascinante, súper brilloso pero curiosamente estos no son molestos a la vista en lo personal, Solamente impactante tanto en juegos, películas, YouTube. Tiene 4 hdmi 2.1 a 120hz, freesync, g-sync, todo lo necesario para el futuro.Funciones y fluidez del sistema:El sistema operativo es muy fluido, las aplicaciones abren súper rápido y sin ningún problema soporta redes wifi de 5GHz, pero sin duda el mejor aspecto es la inclusión de Alexa, en ninguna otra tele que haya probado esta función había sido tan placentera como en esta, aunque el volumen esté muy alto, Alexa responde perfectamente a todo lo que le digas, aquí realmente el usar el micrófono para buscar algo en YouTube realmente sirve y es súper útil.El control remoto no tiene muchos cambios pero es muy bueno y fácil de usar.Montaje de la tv:El montaje para ponerlo en la base es realmente sencillo sin muchas complicaciones pero de preferencia usen una cama o una mesa amplia para poner la tele boca abajo y que no haya algún accidente. Muy elegante la base, de ve muy premium y eleva considerablemente la tele lo que es genial en mi punto de vista visualmente.Conclusión:Si encuentras esta TV LG OLED C3 En 55 pulgadas por menos de $29,000 pesos mexicanos vale totalmente la pena y casi que compra asegurada, dejará a cualquier persona satisfecha, tanto gamers como cinéfilos.",
          "star_rating": "5.0 de 5 estrellas",
          "title": "Increíble, otra experiencia"
         },
         {
          "asin": "B0C587FK1Z",
          "review_text": "La televisión si cumple con mucho de lo que menciona, y ha decir verdad me ha tenido bastante contento la calidad de la imagen, pero si lo que tú buscas es tener una buena imagen sin algo tan detallado como esta, una televisión que tenga mínimo 60hz es más que suficiente, recomiendo mucho que sea de la marca LG 👌🏻",
          "star_rating": "5.0 de 5 estrellas",
          "title": "Perfecta👌🏻"
         },
         {
          "asin": "B0C587FK1Z",
          "review_text": "Los videos y juegos en HDR y Oled, son una experiencia increible para los entusiastas de los graficos, colores y texturas, hasta que no lo ves en persona no te das cuenta de lo exquisito que se ve, una vez que pruebas esto ya no puedes regresa. Si no es oled + hdr ya lo ves feo. Parece que las cosas las ves tras un cristal, puedes ver detalles de texturas y colores que antes no veias con otros televisores. Si eres exigente esto es lo que buscas, vale cada céntimo.",
          "star_rating": "5.0 de 5 estrellas",
          "title": "Un nuevo estándar"
         },
         {
          "asin": "B0C587FK1Z",
          "review_text": "Excelente hasta ahorita, pero esperaba mejor calidad de imagen de esta marca.",
          "star_rating": "4.0 de 5 estrellas",
          "title": "Buena calidad !"
         },
         {
          "asin": "B0C587FK1Z",
          "review_text": "Increíble calidad de imagen y muy fina en general el diseño de la pantalla, el control remoto podríaí ser mas fino y pequeño acorde al diseño de la pantalla.......",
          "star_rating": "5.0 de 5 estrellas",
          "title": "Increíble calidad de imagen..."
         },
         {
          "asin": "B0C587FK1Z",
          "review_text": "Sin duda alguna, puedo decir que es la mejor pantalla que he tenido. Es caro, si. Pero también lo vale si te gusta ver peliculas, series, deportes y jugar videojuegos.Creo que es lo que todo mundo necesita para lograr disfrutar una experiencia de entretenimiento increible.",
          "star_rating": "5.0 de 5 estrellas",
          "title": "La mejor pantalla que he tenido."
         },
         {
          "asin": "B0C587FK1Z",
          "review_text": "La pantalla se ve genial pero a los 3 dias le salio una burbuja en el panel y paro lo delicado que son estos productos mejor la devolvi es una pena porque me gusto mucho, aclaro esa burbuja no es en el platico protector ya que ese si fue retirado.Pero apesar de todo lo volveria a comprar esperando no salga mal ya que la calidad de imagen en muy buena.",
          "star_rating": "3.0 de 5 estrellas",
          "title": "muy linda y todo pero...."
         },
         {
          "asin": "B0C587FK1Z",
          "review_text": "Los colores se ven increibles, muy buen contraste, brillo muy alto, variedad de opciones para juegos 🎮 sin duda alguna la mejor compra!!",
          "star_rating": "5.0 de 5 estrellas",
          "title": "Increíble smart tv oled a 120 hz"
         },
         {
          "asin": "B0C587FK1Z",
          "review_text": "Completamente nuevo y sellado, llego en excelentes condiciones me encanto realizar esta compra",
          "star_rating": "5.0 de 5 estrellas",
          "title": "Fascinado"
         },
         {
          "asin": "B0C587FK1Z",
          "review_text": "YA AL MENOS DE HACE 3 AÑOS A HOY QUE TODAS LAS OLED DE LG TIENEN MANCHAS ROSAS EN EL PANEL POR LOS MATERIALES QUE USAN PARA SU CONSTRUCCION, EN MAYOR O MENOR CANTIDAD, LA LLAMADA LOTERIA DE PANEL LG, SI DISTORCIONA LA IMAGEN EN  COLORES CLAROS COMO EL BLANCO, BEIGE, CREMAS, AMARILLOS, GRISES, PONGAN UN PATRON DE COLORES PARA DARSE CUENTA, EN CONTENIDO NORMAL PUEDE QUE NO LO NOTES PERO EN IMAGENES DE NIEVE POR EJEMPLO O DONDE LA PANTALLA ES DE MAYORMENTE LOS COLORES QUE MENCIONE LA IMAGEN SE VE MANCHADA POR ESOS TINTES ROSAS, TODAS LAS GENERACIONES DE PANEL EVO TIENEN EL MISMO PROBLEMA, NO IMPORTA SI SON LA C O LA G, ADEMÁS LA IMAGEN NO ES TAN FINA EN CONTENIDO QUE NO ES 4K, LLEVABA AÑOS CON LG PERO DEBIDO A ESTO CAMBIE A SAMSUNG Y NADA QUE VER, MUCHO MEJOR EXPERIENCIA Y A MEJOR PRECIO, NO VOLVERE A LG HASTA QUE FABRIQUEN ALGO QUE NO TENGA ESE TIPO DE PROBLEMAS, LASTIMA QUE MI C8 SE DESCOMPUSO PORQUE SE VEIA MEJOR QUE LAS ACTUALES DE LG, PRUEBEN SAMSUNG Y VERÁN GRAN DIFERENCIA",
          "star_rating": "1.0 de 5 estrellas",
          "title": "Tinte rosa en pantalla"
         },
         {
          "asin": "B0C588JRZ2",
          "review_text": "Sin duda una buena inversión, su sonido es fabuloso y adaptable por IA",
          "star_rating": "5.0 de 5 estrellas",
          "title": "Cálidad precio"
         },
         {
          "asin": "B0C588JRZ2",
          "review_text": "Excelente equipo, estoy muy satisfecho",
          "star_rating": "5.0 de 5 estrellas",
          "title": "Excelente TV, y el control remoto es Genial"
         },
         {
          "asin": "B0C588JRZ2",
          "review_text": "Llego sellado en óptimas condiciones,  la calidad del sonido y video es genial . 10/10",
          "star_rating": "5.0 de 5 estrellas",
          "title": "Excelente"
         },
         {
          "asin": "B0C588JRZ2",
          "review_text": "El precio fue excelente , más barato que una tienda local , tenía miedo de comprar una televisión de estas dimensiones en Amazon , pero la TV llegó en excelente estado y a tiempo , es un producto de calidad a un muy buen precio .",
          "star_rating": "5.0 de 5 estrellas",
          "title": "Excelente Comora"
         },
         {
          "asin": "B0C588JRZ2",
          "review_text": "Después de probar otras marcas finalmente encontré esta pantalla de muy buena calidad y precio.Llego el día establecido y con personas muy amables que la entregaron en un 1er piso muy buen apoyo por el peso y tamaño.",
          "star_rating": "5.0 de 5 estrellas",
          "title": "Precio y calidad"
         },
         {
          "asin": "B0C588JRZ2",
          "review_text": "Todo perfecto, la calidad de imagen y sonido es perfecta. Llego en buen estado y sin ningun detalle.",
          "star_rating": "5.0 de 5 estrellas",
          "title": "Calidad en Imagen"
         },
         {
          "asin": "B0C588JRZ2",
          "review_text": "No encontré otro lugar donde lo vendan a este precio, ni hablar comprarlo el tiendas de departamento y es exactamente igual. Ya he tenido varios antes y funciona bien.",
          "star_rating": "5.0 de 5 estrellas",
          "title": "El mejor lugar para comprarlo es por Amazon"
         },
         {
          "asin": "B0C588JRZ2",
          "review_text": "Excelente compra , tv con buenna imagen y sonido , incluye control Magic y varias aplicaciones",
          "star_rating": "5.0 de 5 estrellas",
          "title": "Llego antes de lo esperado y con caja sellada"
         },
         {
          "asin": "B0C588JRZ2",
          "review_text": "Se ve muy bien y estuvo en un excelente precio",
          "star_rating": "5.0 de 5 estrellas",
          "title": "Excelente imagen"
         },
         {
          "asin": "B0C588JRZ2",
          "review_text": "BUENA IMAGEN, RESOLUCION Y SISTEMA OPERATIVO",
          "star_rating": "5.0 de 5 estrellas",
          "title": "BUENA RELACION PRECIO VS CALIDAD"
         },
         {
          "asin": "B0C588JRZ2",
          "review_text": "La imagen el diseño me encanta el sonido muy bueno aunque ya por seguir la onda del teatro en casa adquirí la barra pero sinceramente por sí sola es perfecta",
          "star_rating": "5.0 de 5 estrellas",
          "title": "Muy buena calidad"
         },
         {
          "asin": "B0C588JRZ2",
          "review_text": "Que le digo",
          "star_rating": "5.0 de 5 estrellas",
          "title": "Una tele"
         },
         {
          "asin": "B0C588JRZ2",
          "review_text": "Excelente pantalla",
          "star_rating": "5.0 de 5 estrellas",
          "title": "Muy buena calidad"
         },
         {
          "asin": "B0C588JRZ2",
          "review_text": "No tuve tema con que la caja me haya llegado sin uniceles de protección pero sí tuve gran problema con que no llegaron sus tornillos, los cuales son indispensables para ponerle su base. Y ojo, la caja se veía muy maltratada y sin uniceles, lo cual sospecho que era un producto de exposición.",
          "star_rating": "4.0 de 5 estrellas",
          "title": "Probable producto de exhibición."
         },
         {
          "asin": "B0C588JRZ2",
          "review_text": "Llegó a tiempo y en buenas condiciones",
          "star_rating": "5.0 de 5 estrellas",
          "title": "Buen producto"
         },
         {
          "asin": "B0C588JRZ2",
          "review_text": "Muy bonita compra es más de lo que se esperaba",
          "star_rating": "5.0 de 5 estrellas",
          "title": "Super bien"
         },
         {
          "asin": "B0C588JRZ2",
          "review_text": "Muy bien",
          "star_rating": "5.0 de 5 estrellas",
          "title": "Perfecto"
         },
         {
          "asin": "B0C588JRZ2",
          "review_text": "Todo bien!! Falta probarlo pero al parecer todo está perfecto.  Muy buen producto. Llegó antes de la fecha estimada",
          "star_rating": "5.0 de 5 estrellas",
          "title": "Excelente producto y muy buena calidad"
         },
         {
          "asin": "B0C588JRZ2",
          "review_text": "Muy buena pantalla, con todas las aplicaciones incluidas que me gustan",
          "star_rating": "5.0 de 5 estrellas",
          "title": "Excelente compra!"
         },
         {
          "asin": "B0C588JRZ2",
          "review_text": "Parpadea mucho al escalar las imágenes en HDR y después se ve la imagen como si estuviera dañada la pantalla.",
          "star_rating": "4.0 de 5 estrellas",
          "title": "Muy buena pantalla, el problema es al escalar las imágenes en HDR."
         },
         {
          "asin": "B0C588JRZ2",
          "review_text": "Estoy contento en general con el televisor, es delgado, se monta bien en la pared y la imagen es bastante correcta, yo veo mucho material de youtube y me parece que el procesador hace un buen trabajo al mejorar imágenes pobres en calidad y desplegarlas en las 80 pulgadas del televisor de forma extraordinaria.Lo que aún me desconcierta es la gestión del volumen, en ocasiones las voces son débiles y se pierden en el sonido de fondo de los programas, no he encontrado aún el ajuste correcto para resolver este problema.Finalmente, en mi opinión, el control remoto tiene muy mal diseño: es muy difícil realizar operaciones básicas como subir y bajar el volumen en la obscuridad y usando solo el tacto. Es frustrante equivocarse tantas veces tratando de resolver el problema de las variaciones del volumen usando un control remoto tan poco intuitivo; tengo otros dos televisores de la otra marca Coreana y el control remoto es, por mucho, más sencillo e intuitivo.",
          "star_rating": "4.0 de 5 estrellas",
          "title": "Buen televisor, manejo del volumen raro y control remoto pésimo"
         },
         {
          "asin": "B0C588JRZ2",
          "review_text": "La pantalla tiene buena resolución, buen sonido. El cambio entre aplicaciones es relativamente rápido y casi no tarda en ejecutar las Apps.",
          "star_rating": "5.0 de 5 estrellas",
          "title": "Buena nitidez de imagen y volumen con buena calidad"
         },
         {
          "asin": "B0C588JRZ2",
          "review_text": "Llego rápido, tiene muy buena resolución, lo único es el control remoto, que al ser inteligente, te tardas un poco en saber usarlo,por lo demás, le doy una excelente calificación!",
          "star_rating": "5.0 de 5 estrellas",
          "title": "Excelente TV"
         },
         {
          "asin": "B0C588JRZ2",
          "review_text": "Tiempo de entrega excelente.. calidad de imágenes muy buena, sonido bueno… relación precio calidad de 10",
          "star_rating": "5.0 de 5 estrellas",
          "title": "Calidad"
         },
         {
          "asin": "B0C588JRZ2",
          "review_text": "Es una buena televisión, de buena marca, tiene todas las aplicaciones de stream, debido a que es 2023 su sistema operativo es nuevo y cuenta con una gran calidad de imagen.Los oscuros no son su mayor fortaleza, se logran ver algo opacas las orillas, supongo por el tamaño de 65’. El 4K me parece muy básico, creo que es posible conseguir una mejor tv con mejor definición al mismo precio, aunque tal vez no de la misma marca.Le pongo 4 estrellas porque tardó mucho en llegar (más de 2 semanas) y también porque al encenderla noté que tenía un par de píxeles muertos, tal cual se ve en la fotografía. Aunque esto no afecta en la imagen de la tv. Otra cosa que no me gusta, es sentir que mi TV con calidad HD se mira igual o al menos muy parecida a esta que es 4K. Algo que me gustó mucho fue el magic control.",
          "star_rating": "4.0 de 5 estrellas",
          "title": "Compra medianamente buena"
         },
         {
          "asin": "B0C588JRZ2",
          "review_text": "la televisión tiene una imagen muy buena y el sonido me gusta mucho la única contra es el sistema operativo es demasiado lento y se cuelga mucho, terminé usando un fire stick para solucionar el inconveniente.",
          "star_rating": "4.0 de 5 estrellas",
          "title": "muy buena televisión, la única contra es el sistema"
         },
         {
          "asin": "B0C588JRZ2",
          "review_text": "Todo bien ,el precio calidad del producto",
          "star_rating": "5.0 de 5 estrellas",
          "title": "Ecxelente Compra"
         },
         {
          "asin": "B0C588JRZ2",
          "review_text": "Es una pantalla excelente con buena calidad y buen sonido",
          "star_rating": "5.0 de 5 estrellas",
          "title": "Excelente pantalla"
         },
         {
          "asin": "B0C588JRZ2",
          "review_text": "Es poco tiempo pero se ve bien la imagen",
          "star_rating": "4.0 de 5 estrellas",
          "title": "Se ve muy bien la imagen"
         },
         {
          "asin": "B0C588JRZ2",
          "review_text": "Su sistema en fácil de entender y loas apps  le agregan más capas para entretener, lo uso principalmente para jugar videojuegos y me fascinó completamente.",
          "star_rating": "5.0 de 5 estrellas",
          "title": "Excelente calidad de imagen"
         },
         {
          "asin": "B0C588JRZ2",
          "review_text": "Llegó en perfecto estado. Buena pantalla, en general todo bien.",
          "star_rating": "5.0 de 5 estrellas",
          "title": "Excelente producto."
         },
         {
          "asin": "B0C588JRZ2",
          "review_text": "Estoy confirmé pero creo que pude haber seleccionado algo mucho mejor en características.",
          "star_rating": "5.0 de 5 estrellas",
          "title": "Estoy conforme"
         },
         {
          "asin": "B0C588JRZ2",
          "review_text": "Llegó sin mucha advertencia, mucho antes de lo avisado. No estuve presente para recibirlo a altas horas de la tarde-noche. Lo regresaron sin intentar reenviarlo al día siguiente.Fue muy decepcionante porque era para un depto. en renta y los huéspedes esperaban tener la pantalla anunciada.Tuve que comprarlo 2 veces y esperar primero, el reembolso y luego, que llegara el segundo envío el cuál, tardó más y llegó con la característica impuntualidad.El sistema operativo es lento pero funcional. La pantalla se ve muy bien y tiene muchas funciones inteligentes. El sonido es también muy bueno.",
          "star_rating": "4.0 de 5 estrellas",
          "title": "Buena pantalla con impuntualidad en el envío."
         },
         {
          "asin": "B0C588JRZ2",
          "review_text": "Fue una excelente compra y entrega.",
          "star_rating": "5.0 de 5 estrellas",
          "title": "Muy buena compra"
         },
         {
          "asin": "B0C588JRZ2",
          "review_text": "La pantalla está muy bien, la verdad tenía mis inquietudes porque nadie la había adquirido antes, ahorita ya la probé puedo decir que es una pantalla a buen precio, tiene diferente modos de audio y visualización entre otras cosas, tiene las plataformas digitales esenciales, las demás las puedes descargar en la app (HBO si tiene)Ojo, si la tienen en algún cuarto alejado del modem donde la recepción de wifi no es tan buena y los muros algo gruesos probablemente a la hora de cargar los videos o películas si va ver afectado, la pantalla está en el segundo piso y el módem está en el primero, pero teniendo un repartidor funciona de maravilla",
          "star_rating": "5.0 de 5 estrellas",
          "title": "Muy buena"
         },
         {
          "asin": "B0C588JRZ2",
          "review_text": "Me encantó solo no reconoce de inmediato la opción de voz y el control súper sensible",
          "star_rating": "4.0 de 5 estrellas",
          "title": "Excelente"
         },
         {
          "asin": "B0C588JRZ2",
          "review_text": "Se recibió lo esperado, tiene buena definición, estoy complacido.",
          "star_rating": "5.0 de 5 estrellas",
          "title": "buen acabado"
         },
         {
          "asin": "B0C588JRZ2",
          "review_text": "Muy contento con mi nueva TV, tiene un sonido bastante potente, la calidad de imagen es muy buena , la interfaz es bastante amigable y trae también su control, lo recomiendo,. compré la de 50\"La estética de la TV me gustó mucho, se mira y siente de calidad",
          "star_rating": "5.0 de 5 estrellas",
          "title": "Excelente calidad de imagen"
         },
         {
          "asin": "B0C588JRZ2",
          "review_text": "La temperatura de los colores y el dinamismo del mágico control son muy buenos. Si quieres jugar o solo ver una película me parece una opción magnífica. Como la mayoría de pantallas, su punto débil es el sonido. De ahí en fuera, si la agarras en oferta es un gran deal.",
          "star_rating": "4.0 de 5 estrellas",
          "title": "Gran pantalla a buen precio"
         },
         {
          "asin": "B0C588JRZ2",
          "review_text": "Es un televisor de buena calidad, no se compara con uno de gama alta pero es exelente para su uso básico.Lo único malo es su control no me gustó para nada debería ser como el de los televisores de gama alta, fuera de eso todo está bien.",
          "star_rating": "4.0 de 5 estrellas",
          "title": "Buena calidad."
         },
         {
          "asin": "B0C588JRZ2",
          "review_text": "un producto muy buena, lo recommiendo!",
          "star_rating": "5.0 de 5 estrellas",
          "title": "buen producto"
         },
         {
          "asin": "B0C588JRZ2",
          "review_text": "Excelente imagen, buen producto, llego antes de lo esperado y en buen estado",
          "star_rating": "5.0 de 5 estrellas",
          "title": "Excelente producto. Lo recomiendo"
         },
         {
          "asin": "B0C588JRZ2",
          "review_text": "Excelente pantalla, muy buena resolución y es una maravilla para jugar videojuegos y ver películas.El volumen de preferencia hay que subirlo arriba de 20 para que se oiga bien.Estoy fascinado con la pantalla.",
          "star_rating": "5.0 de 5 estrellas",
          "title": "Excelente pantalla"
         },
         {
          "asin": "B0C588JRZ2",
          "review_text": "Me encantó,  el ofreció es muy bueno y la calidad de la pantalla es muy fiel, ha sido mi favorita hasta ahora de las pantallas que he tenido que han sido 3",
          "star_rating": "5.0 de 5 estrellas",
          "title": "El mejor equipo que he tenido hasta ahora"
         },
         {
          "asin": "B0C588JRZ2",
          "review_text": "Cumple, no es extraordinaria",
          "star_rating": "4.0 de 5 estrellas",
          "title": "Cumple"
         },
         {
          "asin": "B0C588JRZ2",
          "review_text": "Es buena para el precio",
          "star_rating": "5.0 de 5 estrellas",
          "title": "Buena"
         },
         {
          "asin": "B0C588JRZ2",
          "review_text": "Muy buena definición y el sonido está súper... Las aplicaciones fácil de instalar.",
          "star_rating": "5.0 de 5 estrellas",
          "title": "Está excelente"
         },
         {
          "asin": "B0C588JRZ2",
          "review_text": "Es buena pantalla se ve muy bien ojalá tuviera Google tv como lo dice en el anuncio que es compatible pero no aunque si puedes descargar la mayoría de apps si es un buen producto de muy buena calidad y el control que trae es genial",
          "star_rating": "3.0 de 5 estrellas",
          "title": "Es buena"
         },
         {
          "asin": "B0C588JRZ2",
          "review_text": "Me hubiera gustado tener esta televisión, pero no llegó en buen estado. Hubo un rápido reembolso , lo que agradezco, pero, ¿y la garantía? Me hubiera gustado tener un reemplazo del producto en lugar del reembolso.",
          "star_rating": "1.0 de 5 estrellas",
          "title": "La caja y la pantalla estaban rotas"
         },
         {
          "asin": "B0C588JRZ2",
          "review_text": "La verdad recomiendo el televisor pero estafeta mando mi caja dañada y Amazon ya no contesto nada 2 televisores compré y está venía bien dañada",
          "star_rating": "2.0 de 5 estrellas",
          "title": "La calidad precio., con cuidado ⚠️ si la manda por estafeta salió con led fundidos México"
         },
         {
          "asin": "B0B148FR2J",
          "review_text": "Buena televisión más por el precio lo compré en descuento y salió de maravilla",
          "star_rating": "5.0 de 5 estrellas",
          "title": "Buena"
         },
         {
          "asin": "B0B148FR2J",
          "review_text": "No es la mejor resolución, si es 720p nativos. Pero te puede dar 1080p reescalados lo cual no se ve mal, después de hacer unos ajustes en la pantalla se mira bien en películas y juegos, esta la compre para jugar en mi consola xbox one y Nintendo switch y la verdad me gusta como se ve, a su precio y lo que ofrece la verdad no nada mal, muy recomendada y por cierto el sonido 👌, si buscas algo barato es muy buena opción!",
          "star_rating": "4.0 de 5 estrellas",
          "title": "Buena opción"
         },
         {
          "asin": "B0B148FR2J",
          "review_text": "La pantalla es muy básica lo cual se entiende por el precio, la resolución si se llega ver baja cuando estás cerca de la TV, ya montada en la pared a cierta distancia se ve aceptable, sorprende lo ligera que está y los materiales son los más sencillos, pero para una habitación pequeña queda bien, considerar que se tiene que colocar algún stick o tv box ya que no es smart así que no podrás usarla para streaming directamente",
          "star_rating": "4.0 de 5 estrellas",
          "title": "TV básica a 720p no más"
         },
         {
          "asin": "B0B148FR2J",
          "review_text": "Buen producto por el precio y para mis necesidades estuvo excelente.No es un SMAR-TV",
          "star_rating": "5.0 de 5 estrellas",
          "title": "Excelente producto precio-calidad"
         },
         {
          "asin": "B0B148FR2J",
          "review_text": "Muy bien",
          "star_rating": "5.0 de 5 estrellas",
          "title": "Muy bien"
         },
         {
          "asin": "B0B148FR2J",
          "review_text": "Estoy satisfecho con el producto",
          "star_rating": "5.0 de 5 estrellas",
          "title": "Buen producto calidad y precio"
         },
         {
          "asin": "B0B148FR2J",
          "review_text": "Precio y buen sonido",
          "star_rating": "5.0 de 5 estrellas",
          "title": "Por el precio no me quejo , hasta el momento funcionando perfectamente"
         },
         {
          "asin": "B0B148FR2J",
          "review_text": "Bien producto llegó enseguida, estaba muy bien empaquetado y sin ningun daño ni estético ni de funcionamiento",
          "star_rating": "4.0 de 5 estrellas",
          "title": "Buen producto"
         },
         {
          "asin": "B0B148FR2J",
          "review_text": "Encontré esta pantalla por económica y resultó muy buena, en imagen, sonido y se puede programar para apagarse sola",
          "star_rating": "5.0 de 5 estrellas",
          "title": "Buena imagen"
         },
         {
          "asin": "B0B148FR2J",
          "review_text": "Para ser una televisión está bien, no tiene la mejor calidad en imagen, la compré para ponerla de monitor de PC por qué lei un comentario y aunque si funciona como monitor, no es muy cómodo su uso para ese propósito, terminé usándola cómo lo que es una televisión, no es smartv pero tengo un firestick y con eso funciona perfectamente como TV",
          "star_rating": "4.0 de 5 estrellas",
          "title": "Por el precio está bien"
         },
         {
          "asin": "B0B148FR2J",
          "review_text": "La compré para mí set up y la verdad es que se ve de lo mejor no le pude nada a muchas",
          "star_rating": "5.0 de 5 estrellas",
          "title": "Perfecta"
         },
         {
          "asin": "B0B148FR2J",
          "review_text": "muy buen producto de precio bajo y aceptable calidad de imagen y sonido",
          "star_rating": "5.0 de 5 estrellas",
          "title": "buena imagen y magnifico precio"
         },
         {
          "asin": "B0B148FR2J",
          "review_text": "Muy buenas",
          "star_rating": "5.0 de 5 estrellas",
          "title": "Buenas bonitas y baratas"
         },
         {
          "asin": "B0B148FR2J",
          "review_text": "Muy buena tv por el precio vale la pena",
          "star_rating": "5.0 de 5 estrellas",
          "title": "Tv"
         },
         {
          "asin": "B0B148FR2J",
          "review_text": "Estoy fascinado!  Me encantó por el precio y que fácilmente puedes conectarle un chrome cast, un apple tv o un Fire stick (según tu gusto) y no te pierdes entre sistemas operativos… ojalá hubiera esta opción en TVs mas grandes",
          "star_rating": "5.0 de 5 estrellas",
          "title": "Excelente producto por el precio!"
         },
         {
          "asin": "B0B148FR2J",
          "review_text": "El producto tiene buena calidad de imagen, el tamaño es ideal para una sala pequeña.",
          "star_rating": "4.0 de 5 estrellas",
          "title": "Muy bien producto"
         },
         {
          "asin": "B0B148FR2J",
          "review_text": "Cuenta con dos entradas HDMI, USB, excelente calidad de imagen ideal para usarse como monitor, se conecta un chromecast funciona perfectamente.",
          "star_rating": "5.0 de 5 estrellas",
          "title": "Calidad de imagen"
         },
         {
          "asin": "B0B148FR2J",
          "review_text": "Esta bien, no es smart",
          "star_rating": "4.0 de 5 estrellas",
          "title": "Esta buena"
         },
         {
          "asin": "B0B148FR2J",
          "review_text": "Quería un monitor de 32 pulgadas y fue la mejor opción, nunca la use como tv",
          "star_rating": "5.0 de 5 estrellas",
          "title": "Buena tv"
         },
         {
          "asin": "B0B148FR2J",
          "review_text": "La telvisión es fiel a lo que se describe. Llegó en perfectas condiciones y muy rápido.NO es una smart tv, por eso el precio tan bajo, pero es el adecuado.La calidad y el sonido de la pantalla es muy buena.",
          "star_rating": "5.0 de 5 estrellas",
          "title": "Excelentes condiciones"
         },
         {
          "asin": "B0B148FR2J",
          "review_text": "La compre con oferta y no me arrepiento para nada, me gustan las televisiones simples y sin conexion mas alla de las necesarias, para alguien que busca lo basico es de lo mejor a encontrar sin exceder presupuestos",
          "star_rating": "5.0 de 5 estrellas",
          "title": "excelente inversion en relacion a calidad y precio"
         },
         {
          "asin": "B0B148FR2J",
          "review_text": "cumple con lo que promete",
          "star_rating": "4.0 de 5 estrellas",
          "title": "buen producto"
         },
         {
          "asin": "B0B148FR2J",
          "review_text": "El producto cumple con las especificaciones tal cual viene en la descripción, tanto la calidad de imagen como  sonido, el producto me llego apenas hoy y despues de una pruebas comprobé su funcionamiento, en mi caso  el uso es un monitor secundario por lo cual al ser solo hd si estas acostumbrado a pantallas con mas resolución la diferencia de calidad es notable, no es mala pero el salto de hd a full hd es notorio ya que la pantalla en si no es 1920 x 1080 pero en ningún momento el articulo engaña con los datos técnicos, no pongo 5 estrellas por que aun falta ver como se comporta en unas semanas, pero cumple perfectamente con la descripción, otro detalle es que no tienen muy buena compatibilidad con el control remoto de Xiaomi ya que reconoce la acción pero no la realiza pero el control remoto funciona perfectamente es solo en caso de querer tener esa opción no viene dentro de las funciones especificas del producto es cuestión de compatibilidad extra.",
          "star_rating": "4.0 de 5 estrellas",
          "title": "precio justo."
         },
         {
          "asin": "B0B148FR2J",
          "review_text": "Está muy bien la pantalla no tiene Smart pero para mí uso está súper bieny por el precio más",
          "star_rating": "5.0 de 5 estrellas",
          "title": "Pantalla 32 pulgadas"
         },
         {
          "asin": "B0B148FR2J",
          "review_text": "Valor presio esta excelente, fácil de configurar",
          "star_rating": "4.0 de 5 estrellas",
          "title": "Bueno"
         },
         {
          "asin": "B0B148FR2J",
          "review_text": "La compre para aprovechar un Roku, tiene buena imagen y es sencilla de usar, con poco consumo de energía y muy ligera lo que me sorprendio, es un producto que recomiendo.",
          "star_rating": "5.0 de 5 estrellas",
          "title": "Muy buena compra"
         },
         {
          "asin": "B0B148FR2J",
          "review_text": "Me gusta el producto por que es económica tiene hdmi con la cual le conecte un fire stick para hacerla smart.  La compre para mi niña la use. Resolví el problema de no tenerle una tv en el cuarto de mi hija. Hasta ahorita buena tv.",
          "star_rating": "5.0 de 5 estrellas",
          "title": "TV Básica pero para lo que buscaba suficiente!!"
         },
         {
          "asin": "B0B148FR2J",
          "review_text": "me gusto lo practico del tamaño, ya que puede colocar en cualquier lugar, la calidad de la imagen es bastante buena.",
          "star_rating": "5.0 de 5 estrellas",
          "title": "Buena  calidad de imagen"
         },
         {
          "asin": "B0B148FR2J",
          "review_text": "La Tv es justo lo que estaba buscando em cuestion de calidad precio, me anime a comprarla porque solo la quiero para jugar con mi xbox, entonces es mas que suficiente para poder tener unas tardes de juego y si quiero reproducir algo multimedia igual uso la xbox para cualquier plataforma de stream.",
          "star_rating": "5.0 de 5 estrellas",
          "title": "Super bien"
         },
         {
          "asin": "B0B148FR2J",
          "review_text": "Por el precio no esperaba algo increíble y la verdad es que en imágen se ve bastante bien, pero en sonido es horrible, se escucha como hueco",
          "star_rating": "3.0 de 5 estrellas",
          "title": "Bien, pero ..."
         },
         {
          "asin": "B0B148FR2J",
          "review_text": "justo lo que necesitaba mejor que un monitor en precio y calidad..... muy recomendable",
          "star_rating": "5.0 de 5 estrellas",
          "title": "muy buen equipo listo y trabajando"
         },
         {
          "asin": "B0B148FR2J",
          "review_text": "Justo lo que necesitaba para mis clases en línea de ajedrez",
          "star_rating": "5.0 de 5 estrellas",
          "title": "Excelente producto"
         },
         {
          "asin": "B0B148FR2J",
          "review_text": "Su audio y calidad de imagen son de regulares a bajas, pero por el precio es comprensible",
          "star_rating": "4.0 de 5 estrellas",
          "title": "Saca de un apuro"
         },
         {
          "asin": "B0B148FR2J",
          "review_text": "Excelente pantalla basica, todo llego bien.",
          "star_rating": "5.0 de 5 estrellas",
          "title": "Excelente pantalla"
         },
         {
          "asin": "B0B148FR2J",
          "review_text": "Relación calidad - precioFunciones básicasBuen sonido",
          "star_rating": "5.0 de 5 estrellas",
          "title": "Precio"
         },
         {
          "asin": "B0B148FR2J",
          "review_text": "La TV cumple bien su función. No es 4k y no es hd, pero el precio es bueno respecto a su tamaño. Si buscas una buena imagen para una pc, podrías considerar otra opción. Yo la uso como monitor en la pc y funciona muy bien.",
          "star_rating": "5.0 de 5 estrellas",
          "title": "Buen precio"
         },
         {
          "asin": "B0B148FR2J",
          "review_text": "Buen tamaño calidad de imagen standar pero por el precio vale mucho la pena el control es bastante fácil de usar y cómodoLo único que podría decir que falla es el sonido solo tiene una bocina a un costado de la pantalla y tiene que estar arriba del 10 para que tengas un buen audio",
          "star_rating": "4.0 de 5 estrellas",
          "title": "Calidad standar en la imagen pero por el precio lo vale"
         },
         {
          "asin": "B0B148FR2J",
          "review_text": "Es una pantalla básica, por el precio es perfecta, no tengo quejas hasta el momento",
          "star_rating": "5.0 de 5 estrellas",
          "title": "Acorde al precio"
         },
         {
          "asin": "B0B148FR2J",
          "review_text": "Basica realmente buena 👍",
          "star_rating": "5.0 de 5 estrellas",
          "title": "Me encanto"
         },
         {
          "asin": "B0B148FR2J",
          "review_text": "Buen producto, buen precio, no pesa nada, lo recomiendo",
          "star_rating": "5.0 de 5 estrellas",
          "title": "Buena compra"
         },
         {
          "asin": "B0B148FR2J",
          "review_text": "Me gustó que se ve y oye, muy bien; sencillo de utilizar. Muy nítida imagen.Quizá podría ser de un precio más barato en un 15 por ciento.",
          "star_rating": "4.0 de 5 estrellas",
          "title": "Artículo aceptable"
         },
         {
          "asin": "B0B148FR2J",
          "review_text": "No es una smart tv, es una pantalla de conexiones viejas.No es lo que esperaba, ni si quiera tiene you tube",
          "star_rating": "2.0 de 5 estrellas",
          "title": "Es un producto es deficiente"
         },
         {
          "asin": "B0B148FR2J",
          "review_text": "Tal cual lo describe el producto",
          "star_rating": "5.0 de 5 estrellas",
          "title": "Excelente"
         },
         {
          "asin": "B0B148FR2J",
          "review_text": "Muy buena recepcion h calidad de imagen y sobre todo excelente precio",
          "star_rating": "5.0 de 5 estrellas",
          "title": "Calidad y precio"
         },
         {
          "asin": "B0B148FR2J",
          "review_text": "La tv llegó en tiempo y forma.Fue para un regalo",
          "star_rating": "5.0 de 5 estrellas",
          "title": "Cumple bien"
         },
         {
          "asin": "B0B148FR2J",
          "review_text": "Pocos mandos, no se puede utilizar muy bien con el Alexa",
          "star_rating": "4.0 de 5 estrellas",
          "title": "Pantalla facil de usar pero con muy pocas opciones de uso"
         },
         {
          "asin": "B0B148FR2J",
          "review_text": "Las entradas VGA están algo mal ubicadas pero igual sirven",
          "star_rating": "4.0 de 5 estrellas",
          "title": "Para el precio está bien, no es la gran cosa pero cumple su su propósito"
         },
         {
          "asin": "B0B148FR2J",
          "review_text": "Muy Buen producto por el precio.",
          "star_rating": "5.0 de 5 estrellas",
          "title": "Buena relación costo- beneficio"
         },
         {
          "asin": "B0B148FR2J",
          "review_text": "A pesar de ser una tv muy básica,tiene. Muy buena resolución y muy bien sonido 👌🏼",
          "star_rating": "5.0 de 5 estrellas",
          "title": "Muy Buena imagen"
         },
         {
          "asin": "B0B148FR2J",
          "review_text": "buen producto!!",
          "star_rating": "4.0 de 5 estrellas",
          "title": "buen producto"
         },
         {
          "asin": "B0BKTX65NY",
          "review_text": "Muy buena resolución y precio",
          "star_rating": "5.0 de 5 estrellas",
          "title": "Excelente"
         },
         {
          "asin": "B0BKTX65NY",
          "review_text": "Muy buena la calidad por el precio, la imagen no es muy nítida pero está excelente para el monto.",
          "star_rating": "4.0 de 5 estrellas",
          "title": "Buena opción para trabajar y ver la tele"
         },
         {
          "asin": "B0BKTX65NY",
          "review_text": "Excelente producto.Versatil, práctico y funciona perfecto.",
          "star_rating": "5.0 de 5 estrellas",
          "title": "Excelente opcion"
         },
         {
          "asin": "B0BKTX65NY",
          "review_text": "Apenas la empece a utilizar solo que le pongo Memoria de musica y no la lee",
          "star_rating": "4.0 de 5 estrellas",
          "title": "muy bien"
         },
         {
          "asin": "B0BKTX65NY",
          "review_text": "No me gusta que se calienta mucho el televisor",
          "star_rating": "4.0 de 5 estrellas",
          "title": "El material es muy delgado"
         },
         {
          "asin": "B0BKTX65NY",
          "review_text": "Llegó en tiempo y bien pero no trae manual ni los tornillos de las patas",
          "star_rating": "4.0 de 5 estrellas",
          "title": "Aún probando"
         },
         {
          "asin": "B0BKTX65NY",
          "review_text": "Funcional",
          "star_rating": "4.0 de 5 estrellas",
          "title": "Llego bien"
         },
         {
          "asin": "B0BKTX65NY",
          "review_text": "El producto cumple lo requerido aunque es muy básico y muy genérico su sistema operativo (similar al de un televisor barato marca Polaroid).  No es smart.  La reproducción del DVD es buena.",
          "star_rating": "3.0 de 5 estrellas",
          "title": "Reseña"
         },
         {
          "asin": "B0BKTX65NY",
          "review_text": "Excelente calidad. Puedo ver las pelis que quiera por su lector de CD y además me sirve de monitor",
          "star_rating": "5.0 de 5 estrellas",
          "title": "Buen producto."
         },
         {
          "asin": "B0BKTX65NY",
          "review_text": "me gusto para mi computadora y cuando no la uso veo la tv o pongo películas",
          "star_rating": "5.0 de 5 estrellas",
          "title": "excelente producto"
         },
         {
          "asin": "B0BKTX65NY",
          "review_text": "Tengo tiempo usándola y funsiona muy bien sin problemas, la calidad de imagen es muy buena",
          "star_rating": "5.0 de 5 estrellas",
          "title": "Excelente"
         },
         {
          "asin": "B0BKTX65NY",
          "review_text": "se compro por que era una smart tv, OJO, en la caja aun dice que es una smart tv pero esto es equivocado",
          "star_rating": "2.0 de 5 estrellas",
          "title": "OJO, No es una Smart TV"
         },
         {
          "asin": "B0BKTX65NY",
          "review_text": "Buena calidad, buena imagen y sonido, diferentes entradas de video, salida de audio aux y digital, buen producto.",
          "star_rating": "5.0 de 5 estrellas",
          "title": "BBB"
         },
         {
          "asin": "B0BKTX65NY",
          "review_text": "llego a tiempo, buena pantalla, y para lo que sirve est[a bien, era reacondicionado pero buen producto",
          "star_rating": "5.0 de 5 estrellas",
          "title": "uena pantalla"
         },
         {
          "asin": "B0BKTX65NY",
          "review_text": "Funciona perfectamente, me pareció excelente el precio y el tamaño de la pantalla. Lo recomiendo",
          "star_rating": "5.0 de 5 estrellas",
          "title": "Excelente"
         },
         {
          "asin": "B0BKTX65NY",
          "review_text": "Muy buena ya está instalada",
          "star_rating": "5.0 de 5 estrellas",
          "title": "Me encanto"
         },
         {
          "asin": "B0BKTX65NY",
          "review_text": "Aún cuando comentan que es regresada, no lo parece. Para mí, fue como si fuera nueva",
          "star_rating": "5.0 de 5 estrellas",
          "title": "Es igual que una nueva, no se ve diferencia alguna"
         },
         {
          "asin": "B0BKTX65NY",
          "review_text": "Todo excelente",
          "star_rating": "5.0 de 5 estrellas",
          "title": "La entrega con rapidez"
         },
         {
          "asin": "B0BKTX65NY",
          "review_text": "súper recomendada",
          "star_rating": "5.0 de 5 estrellas",
          "title": "Exelente"
         },
         {
          "asin": "B0BKTX65NY",
          "review_text": "Es una pantalla simple de operar, ideal para un espacio donde no se requiere gran calidad de imagen.",
          "star_rating": "5.0 de 5 estrellas",
          "title": "Estoy satisfecho con la compra"
         },
         {
          "asin": "B0BKTX65NY",
          "review_text": "Cumple con lo requerido, excelente funcionamiento y calidad de video y DVD, ideal para espacios pequeños y practicos, muy recomendable",
          "star_rating": "5.0 de 5 estrellas",
          "title": "Excelente producto!"
         },
         {
          "asin": "B0BKTX65NY",
          "review_text": "Esta muy bien para la habitación de un niño, a muy buen precio, se escucha bien y llegó en perfecto estado. Él control no tiene pilas pero el precio es justo, se ve bien y el DVD funciona bien, si no terminan de ver una película se queda en el punto donde se quedó. Llegó en el tiempo estimado. Los canales de TV abierta se ven bien y los encontró rápido.",
          "star_rating": "5.0 de 5 estrellas",
          "title": "Excelente producto"
         },
         {
          "asin": "B0BKTX65NY",
          "review_text": null,
          "star_rating": "No rating",
          "title": "720p tv 1080p monitor."
         },
         {
          "asin": "B0BKTX65NY",
          "review_text": null,
          "star_rating": "No rating",
          "title": "Awesome"
         },
         {
          "asin": "B0BKTX65NY",
          "review_text": null,
          "star_rating": "No rating",
          "title": "It's only 720p"
         },
         {
          "asin": "B0BKTX65NY",
          "review_text": null,
          "star_rating": "No rating",
          "title": "Good tv"
         },
         {
          "asin": "B0BKTX65NY",
          "review_text": null,
          "star_rating": "No rating",
          "title": "Return policy"
         },
         {
          "asin": "B0BKTX65NY",
          "review_text": null,
          "star_rating": "No rating",
          "title": "Worth the price."
         },
         {
          "asin": "B0BKTX65NY",
          "review_text": null,
          "star_rating": "No rating",
          "title": "Great inexpensive TV."
         },
         {
          "asin": "B0BKTX65NY",
          "review_text": null,
          "star_rating": "No rating",
          "title": "Nice TV if it worked"
         },
         {
          "asin": "B0BKTX65NY",
          "review_text": "la descripcion del producto adquirido: Westinghouse Full HD LED Smart TV (Renovado)resolucion 1080pero el envio no concuerda con la compralo que ofrecen en la pagina de amazon debe ser despachado con las misma caracteristicassaludos cordiales",
          "star_rating": "No rating",
          "title": "tv westinghouse 32\""
         },
         {
          "asin": "B0BKTX65NY",
          "review_text": null,
          "star_rating": "No rating",
          "title": "Good deal"
         },
         {
          "asin": "B0BKTX65NY",
          "review_text": null,
          "star_rating": "No rating",
          "title": "Tv"
         },
         {
          "asin": "B0BKTX65NY",
          "review_text": null,
          "star_rating": "No rating",
          "title": "Resolution is great"
         },
         {
          "asin": "B0BKTX65NY",
          "review_text": null,
          "star_rating": "No rating",
          "title": "This sucks"
         },
         {
          "asin": "B0BKTX65NY",
          "review_text": null,
          "star_rating": "No rating",
          "title": "Remote will not turn on the tv"
         },
         {
          "asin": "B07V392Z8K",
          "review_text": "La imagen se ve bien, el audio no se escucha tan bien hasta que tu le mueves a los ajustes y no tiene entrada auxiliar para conectarle bocinas pero funciona perfectamente y cumple su función. Es una buena tele para lo que cuesta.",
          "star_rating": "4.0 de 5 estrellas",
          "title": "Buena compra"
         },
         {
          "asin": "B07V392Z8K",
          "review_text": "Muy bueno por el precio",
          "star_rating": "5.0 de 5 estrellas",
          "title": "Excelente precio producto"
         },
         {
          "asin": "B07V392Z8K",
          "review_text": "Gran producto a un precio súper bueno. La pantalla funciona como nueva y con muy buena calidad. Recomendada 100%",
          "star_rating": "5.0 de 5 estrellas",
          "title": "Gran producto a un gran precio"
         },
         {
          "asin": "B0BZFWS4VS",
          "review_text": "Pesima calidad del embalaje, la caja estaba cubiertaCon protección de pantalla tcl y la compra es de Samsung pésima y tristísima forma en que envuelven las productos súper seguro que en el envío se rompen",
          "star_rating": "1.0 de 5 estrellas",
          "title": "Pésima compra te dan un modelo de control de tv antiguo"
         },
         {
          "asin": "B0BZFWS4VS",
          "review_text": "Tv",
          "star_rating": "1.0 de 5 estrellas",
          "title": "Excelente"
         },
         {
          "asin": "B0BZFWS4VS",
          "review_text": "vino en pésimo estado con otra caja que no era la original, no vale la pena",
          "star_rating": "1.0 de 5 estrellas",
          "title": "No lo compren, vino rota, no sirve"
         },
         {
          "asin": "B0BZFWS4VS",
          "review_text": "Exelente tele",
          "star_rating": "5.0 de 5 estrellas",
          "title": "Exelente tele"
         },
         {
          "asin": "B0817H41YN",
          "review_text": null,
          "star_rating": "No rating",
          "title": "An amazing OLED panel makes up for poor design & UI"
         },
         {
          "asin": "B0817H41YN",
          "review_text": null,
          "star_rating": "No rating",
          "title": "You will need 2 people, a table, a power drill, and blankets"
         },
         {
          "asin": "B0817H41YN",
          "review_text": null,
          "star_rating": "No rating",
          "title": "Great TV so far"
         },
         {
          "asin": "B0817H41YN",
          "review_text": null,
          "star_rating": "No rating",
          "title": "Not as amazing as most people claims."
         },
         {
          "asin": "B0817H41YN",
          "review_text": null,
          "star_rating": "No rating",
          "title": "Excellent picture. Pretty bad audio."
         },
         {
          "asin": "B0817H41YN",
          "review_text": null,
          "star_rating": "No rating",
          "title": "The best 4k TV that I ever bought"
         },
         {
          "asin": "B0817H41YN",
          "review_text": null,
          "star_rating": "No rating",
          "title": "What are you waiting for?"
         },
         {
          "asin": "B0817H41YN",
          "review_text": null,
          "star_rating": "No rating",
          "title": "CX 77\""
         },
         {
          "asin": "B0817H41YN",
          "review_text": null,
          "star_rating": "No rating",
          "title": "Amazing TV -- great purchase"
         },
         {
          "asin": "B0817H41YN",
          "review_text": null,
          "star_rating": "No rating",
          "title": "Top tier picture and performance"
         },
         {
          "asin": "B0817H41YN",
          "review_text": null,
          "star_rating": "No rating",
          "title": "Fantastic picture quality and gaming OLED TV - Subpar software"
         },
         {
          "asin": "B0817H41YN",
          "review_text": null,
          "star_rating": "No rating",
          "title": "Amazing TV with amazing picture quality."
         },
         {
          "asin": "B0817H41YN",
          "review_text": null,
          "star_rating": "No rating",
          "title": "Great TV - Surround Sound Problem Resolved"
         },
         {
          "asin": "B0817H41YN",
          "review_text": null,
          "star_rating": "No rating",
          "title": "Awesome TV!"
         },
         {
          "asin": "B0817H41YN",
          "review_text": null,
          "star_rating": "No rating",
          "title": "Failed after 9 months. LG replaced the panel quickly and easily."
         },
         {
          "asin": "B0817H41YN",
          "review_text": null,
          "star_rating": "No rating",
          "title": "Great TV, Horrible Delivery from Amazon"
         },
         {
          "asin": "B0817H41YN",
          "review_text": null,
          "star_rating": "No rating",
          "title": "GOOD QUALITY WORTH THE MONEY"
         },
         {
          "asin": "B0817H41YN",
          "review_text": null,
          "star_rating": "No rating",
          "title": "Nice but a flaw"
         },
         {
          "asin": "B0817H41YN",
          "review_text": null,
          "star_rating": "No rating",
          "title": "Fantastic Image; questionable privacy and excessively thin upper half"
         },
         {
          "asin": "B0817H41YN",
          "review_text": null,
          "star_rating": "No rating",
          "title": "TV BEAST!"
         },
         {
          "asin": "B0817H41YN",
          "review_text": null,
          "star_rating": "No rating",
          "title": "PC GAMES are incredible"
         },
         {
          "asin": "B0817H41YN",
          "review_text": null,
          "star_rating": "No rating",
          "title": "Wow what an incredible tv !!!"
         },
         {
          "asin": "B0817H41YN",
          "review_text": null,
          "star_rating": "No rating",
          "title": "replaced gaming/work monitor"
         },
         {
          "asin": "B0817H41YN",
          "review_text": null,
          "star_rating": "No rating",
          "title": "Incredible Picture after Calibration"
         },
         {
          "asin": "B0817H41YN",
          "review_text": null,
          "star_rating": "No rating",
          "title": "If you're considering it, just buy it."
         },
         {
          "asin": "B0817H41YN",
          "review_text": null,
          "star_rating": "No rating",
          "title": "Great TV with minor drawbacks"
         },
         {
          "asin": "B0817H41YN",
          "review_text": null,
          "star_rating": "No rating",
          "title": "Don't expect to stream HBO Max on this TV!"
         },
         {
          "asin": "B0817H41YN",
          "review_text": null,
          "star_rating": "No rating",
          "title": "Picture quality really good but difficult to manage and audio is fair."
         },
         {
          "asin": "B0817H41YN",
          "review_text": null,
          "star_rating": "No rating",
          "title": "Great quality tv A+ I would definitely recommend it!"
         },
         {
          "asin": "B0817H41YN",
          "review_text": null,
          "star_rating": "No rating",
          "title": "Great TV but missing apps!"
         },
         {
          "asin": "B0817H41YN",
          "review_text": null,
          "star_rating": "No rating",
          "title": "LG warranty: does it really exist?"
         },
         {
          "asin": "B0817H41YN",
          "review_text": null,
          "star_rating": "No rating",
          "title": "Is one piece of paper too much to ask?"
         },
         {
          "asin": "B0817H41YN",
          "review_text": null,
          "star_rating": "No rating",
          "title": "Amazing with a few flaws"
         },
         {
          "asin": "B0817H41YN",
          "review_text": null,
          "star_rating": "No rating",
          "title": "Fantastic picture and HDR, great for gaming."
         },
         {
          "asin": "B0817H41YN",
          "review_text": null,
          "star_rating": "No rating",
          "title": "Picture is all we could hope for."
         },
         {
          "asin": "B0817H41YN",
          "review_text": null,
          "star_rating": "No rating",
          "title": "The best TV I've ever had in my life"
         },
         {
          "asin": "B0817H41YN",
          "review_text": null,
          "star_rating": "No rating",
          "title": "Awesome TV"
         },
         {
          "asin": "B0817H41YN",
          "review_text": null,
          "star_rating": "No rating",
          "title": "Incredible TV with one minor flaw"
         },
         {
          "asin": "B0817H41YN",
          "review_text": null,
          "star_rating": "No rating",
          "title": "This TV is amazing."
         },
         {
          "asin": "B0817H41YN",
          "review_text": null,
          "star_rating": "No rating",
          "title": "At first hesitant, but then so glad I purchased this LG OLED ThinQ"
         },
         {
          "asin": "B0817H41YN",
          "review_text": null,
          "star_rating": "No rating",
          "title": "Burn in. (Update)"
         },
         {
          "asin": "B0817H41YN",
          "review_text": null,
          "star_rating": "No rating",
          "title": "Fantastic as a display"
         },
         {
          "asin": "B0817H41YN",
          "review_text": null,
          "star_rating": "No rating",
          "title": "Great TV but my soundbar will not work with this model"
         },
         {
          "asin": "B0817H41YN",
          "review_text": null,
          "star_rating": "No rating",
          "title": "Best picture of any television I have ever owned."
         },
         {
          "asin": "B0817H41YN",
          "review_text": null,
          "star_rating": "No rating",
          "title": "Great TV overall with a few annoying bugs"
         },
         {
          "asin": "B0817H41YN",
          "review_text": null,
          "star_rating": "No rating",
          "title": "Best TV I’ve ever owned."
         },
         {
          "asin": "B0817H41YN",
          "review_text": null,
          "star_rating": "No rating",
          "title": "A fantastic tv only held back by its smart features"
         },
         {
          "asin": "B0817H41YN",
          "review_text": null,
          "star_rating": "No rating",
          "title": "dream television"
         },
         {
          "asin": "B0817H41YN",
          "review_text": null,
          "star_rating": "No rating",
          "title": "Solid LG TV"
         },
         {
          "asin": "B0817H41YN",
          "review_text": null,
          "star_rating": "No rating",
          "title": "Flickering, 10-Bit no working, 2.1 Throttled to 40Gbps"
         },
         {
          "asin": "B08X9QC1RZ",
          "review_text": "Buen producto de acuerdo al precio, tiene Roku y eso es un plus para una pantalla pequeña.",
          "star_rating": "5.0 de 5 estrellas",
          "title": "Buen producto"
         },
         {
          "asin": "B08X9QC1RZ",
          "review_text": "Bien",
          "star_rating": "4.0 de 5 estrellas",
          "title": "Bien"
         },
         {
          "asin": "B08X9QC1RZ",
          "review_text": "Muy fácil de entender  y la calidad  exelente",
          "star_rating": "5.0 de 5 estrellas",
          "title": "Un producto exelente estoy muy contento  y satisfecho"
         },
         {
          "asin": "B0BYTJTF1R",
          "review_text": "Productos solicitado buen empaqueSolo que nunca funcionó el control remoto",
          "star_rating": "5.0 de 5 estrellas",
          "title": "Tv ok"
         },
         {
          "asin": "B0BYTJTF1R",
          "review_text": "El producto está bien,  pero facturar los pedidos.... el vendedor te la complica bastante, te hace perder mucho tiempo, ganando por su parte días sobre todo a fin de mes, hay que enviarles la información varias veces y si es cerca de fin de mes.... chao factura y ya no puedes deducir tus gastos, me parece pésimo y afecta mis derechos como contribuyente.Te advierte que si la factura sale mal, con esa te quedas y punto, no la van a cambiar, cuando tengo todo el derecho de pedir una corrección.",
          "star_rating": "2.0 de 5 estrellas",
          "title": "Producto promedio"
         },
         {
          "asin": "B0C7FK1P58",
          "review_text": "Siempre tuve ganas de una pantalla y me gustó mucho este producto y a buen precio, de ve muy bien, el sonido es fuerte, me gusto bastante, llegó antes de lo esperado👏👏👏👏👏",
          "star_rating": "5.0 de 5 estrellas",
          "title": "Excelente"
         },
         {
          "asin": "B0C7FK1P58",
          "review_text": "Está muy bien por el precio, no es lo más top pero cumple con lo que promete, es buena",
          "star_rating": "5.0 de 5 estrellas",
          "title": "Excelente"
         },
         {
          "asin": "B0C7FK1P58",
          "review_text": "////Disclaimer: tengo poco tiempo con el producto////La televisión es una gran compra en este 2023.Su panel Qled se siente con colores muy brillantes y bastante bien logrados sin ser sobresaturados. Sin duda *No se compara con una OLED* pero, no están en la misma categoría.El sistema Google TV funciona de maravilla sobretodo si ya estás en todo el ecosistema de Google (contraseñas a un solo clic).Dolby Vision y Micro Dimming hacen que tu experiencia de video sea muy agradable al mirar películas de plataformas de streaming.10/10 por El precio, calidad y sistema.",
          "star_rating": "5.0 de 5 estrellas",
          "title": "Buena calidad / precio"
         },
         {
          "asin": "B0C7FK1P58",
          "review_text": "El envió en tiempo, la caja un poco maltratada, pero lleva 2 semanas funcionando muy bien.",
          "star_rating": "5.0 de 5 estrellas",
          "title": "Muy buena"
         },
         {
          "asin": "B0C7FK1P58",
          "review_text": "El televisor es bueno si no eres muy exigente, funciona de buena manera y el sistema operativo aveces va un poco lento, pero es muy raro, algo que si le encontre, es que si el televisor es desconectado de la corriente, o hay alguna subida y bajada de luz, el wifi de la televisor se \"buguea\" deja de funcionar, el televisor te dice que no hay apesar de que si lo hay, dice \"conexion limitada\" ya es la 5ta vez que me sucede, y la unica solución es reiniciar por completo el televisor de fabrica y volver a configurarlo, esto es estresante, y no se puede hacer mucho, ese es el problema que le encontre, de ahí en mas si buscas algo con una gama de color media y no muy luminosa esta es una buena opcion, recomiendo conectarla con cable ethernet de ahi en mas, buen televisor ( cabe recalcar que yo cuento con un regulador de voltaje )",
          "star_rating": "4.0 de 5 estrellas",
          "title": "Desconexión de internet"
         },
         {
          "asin": "B0C7FK1P58",
          "review_text": "La pantalla se ve muy nítida, tiene buenos colores",
          "star_rating": "5.0 de 5 estrellas",
          "title": "Increíble resolución en la imagen"
         },
         {
          "asin": "B0C7FK1P58",
          "review_text": "Me gusta que es una Google TV y los canales de TCL",
          "star_rating": "5.0 de 5 estrellas",
          "title": "Calidad"
         },
         {
          "asin": "B0C7FK1P58",
          "review_text": "Cumple con lo ofrecido",
          "star_rating": "5.0 de 5 estrellas",
          "title": "Excelente producto"
         },
         {
          "asin": "B0C7FK1P58",
          "review_text": "Es un gran producto, fácil instalar aplicaciones y cuentas al utilizar Google Home, el sistema operativo se desempeña bien, la calidad de imagen es muy buena para el precio del producto, ideal para si lo que buscas es valor por tu dinero.",
          "star_rating": "5.0 de 5 estrellas",
          "title": "Excelente calidad"
         },
         {
          "asin": "B0C7FK1P58",
          "review_text": "Excelente",
          "star_rating": "5.0 de 5 estrellas",
          "title": "Excelente pantalla"
         },
         {
          "asin": "B0C7FK1P58",
          "review_text": "Apenas me llego este dia 12-07-2023, la tv esta bien, segun es quantum dot modelo 2023 pero no se ve gran diferencia aun con dolby atmos y vision....Si eres de los que les gusta usar airplay y chromecast preparate para querer aventar la tv por la ventana porque no estan activados, te hacen bajar apps con publicidad para usarlos... es una enorme estafa, simplemente airplay no sirve no se ve, chromecast muy lento y nada usable.Compre la hisense para mi otro depa la uh6 y wow todo esta listo para usarse, no se necesita nada mas... Una imagen sorprendente y llena de claridad... esta TCL nada nuevo",
          "star_rating": "2.0 de 5 estrellas",
          "title": "Decepcion... No la compren!"
         },
         {
          "asin": "B0C7FK1P58",
          "review_text": "La televisión llegó rápido, todo bien al momento de sacarla pero nos dimos cuenta que venía rota de la parte trasera, pareciera ser que era un defecto de fábrica, el día de empezar a probarla y quitar la película protectora nos dimos cuenta que venía con un golpe en la parte inferior izquierda, por lo cual tendré que hacer una devolución. La imagen se ve definida pero tiene muy poco brillo a comparación de la versión del año pasado, el sistema operativo es lento pero cumple.",
          "star_rating": "2.0 de 5 estrellas",
          "title": "Buena imagen, pero poco brillo."
         },
         {
          "asin": "B0C7FK1P58",
          "review_text": "No puedo entrar a ninguna aplicación porque me sale que no tengo internet y mi internet si sirve incluso le conecte ethernet y ni así.",
          "star_rating": "1.0 de 5 estrellas",
          "title": "NO SIRVE"
         },
         {
          "asin": "B0C7FK1P58",
          "review_text": "No funciona, al querer configurarla la TV se traba y empieza a aparecer el logo de TLC parpadeando.",
          "star_rating": "1.0 de 5 estrellas",
          "title": "Se traba al configurarla"
         },
         {
          "asin": "B0C7FK1P58",
          "review_text": ".",
          "star_rating": "5.0 de 5 estrellas",
          "title": "Excelente compra"
         },
         {
          "asin": "B0BCMKMMK1",
          "review_text": "Después de 4 años de haberla comprado aun funciona súper bien",
          "star_rating": "5.0 de 5 estrellas",
          "title": "Excelente"
         },
         {
          "asin": "B0BCMKMMK1",
          "review_text": "Tenía mis dudas por las reseñas que leia de productos refurbished y sobre todo de esta oantalla en diferentes publicaciones aqui en Amazon, pero me animé y grata sorpresa.Sobre la entrega de producto:- La pantalla llego al siguiente día por estafeta- Venía en su caja original- Todos los accesorios originales y completos (incluyendo manual)- Todas las protecciones y plásticos de producto nuevo- Funcionando correctamente en todas las modalidadesSobre la pantalla en sí:TCL no es una marca muy reconocida (al menos no para mi), pero la calidad me dejo satisfecho.La utilizó en mi oficina como reemplazo para 2 monitores FHD, conectada a una PC donde trabajo y juego.Buena calidad de imagenSobre el tema del brillo que dicen que no es muy alto, la tengo en una habitación con poca luz así que no representa problema para mi. Lo unico que sí tiene es que el negro no es muy intenso, para escenas completamente negras se alcanza a ver una muy tenue luz y algo así como \"manchas\", como si tuviera un plástico con burbujas de aire por la parte interior de la pantalla. De nuevo, solo es cuando hay una imagen 100% negra cubriendo toda la pantalla. En escenas de noche, con movimiento es imperceptible.La resolución 4k es nativa y tiene buen escalamiento para resoluciones menores.La gama de colores dicen que no es muy amplia, oero para mí está más que perfecta.Cuando la ocupo para trabajar (programando) tengo suficiente espacio de trabajo para ver muchas ventanas y bastantes líneas de codigo.Mis juegos no son muy demandantes de framerate, son del tipo simulador, pero gracias al tamaño puedo cubrir con la vista más terreno que con los monitores anteriores.En fin, sé que los refurfished pueden ser como una suerte para que te toque un producto en buen estado o no, y en esta ocasión quizá fuí afortunado y estoy muy contento con la compra",
          "star_rating": "5.0 de 5 estrellas",
          "title": "Prácticamente es un producto nuevo"
         },
         {
          "asin": "B0BCMKMMK1",
          "review_text": "Es perfecta. Sabía muy bien que como la televisión era renewed pues era básicamente una ruleta rusa dónde te puede llegar una televisión rota, defectuosa o con piezas faltantes, pero también te puede llegar una televisión perfecta, con todas las piezas y literalmente nueva.Me sorprendí que la televisión estaba prácticamente impecable, no tenía nada en la pantalla, ninguna marca de haber sido usada, tenía todavía puestos los plásticos de los marcos y de los pies de esta, tenía los instructivos y los tornillos, el control estaba impecable y el empaquetado era maravilloso.Lo \"único\" que tiene desperfecto es la caja, aunque es meramente estético y tú nunca vas a ver la caja.Por cierto, algo gracioso, estaba pensando en darle 4 estrellas porqué pensaba que los tornillos no estaban en el paquete y dije \"bueno, es renewed, algo así tenía que suceder\" después de unas horas me di cuenta de que los tornillos estaban en una bolsita que estaba pegada a un pie de la televisión y me dió mucha risa que no me hubiera dado cuenta xD.También decir que estuve al menos 1 hora tratando de registrarme en Roku, no es culpa de Amazon o de TCL, es culpa del sistema de Roku, así que las 5 estrellas se quedan intactas. xdQuisiera mencionar que aparte de lo que dije también hay algo que no es cierto y el lo que viene en el título del producto que dice que es compatible con Alexa y Google Assistant, esto no es cierto, de ahí en adelante todo bien.",
          "star_rating": "5.0 de 5 estrellas",
          "title": "Hermosamente perfecta."
         },
         {
          "asin": "B0BCMKMMK1",
          "review_text": "No pude abrir el empaque ya que yo me encontraba de viaje y llegué dos días después. Aunque me ocupé el fin de semana también y lo postergué hasta el lunes. Sólo saqué el televisor para cotejar que encendiera. Lo dejé preparado para poderlo instalar porque pensé que al encender ya estaba yo del otro lado. Sin embargo, el televisor se pasma. Le tomé pic al control que viene un tanto golpeado. La pantalla tiene desperendida ligeramemte el display de la parte superior derecha. Al configurarlo para ingresar y ponerle la red wi-fi me, me manda que al instalarse la actualización se reiniciará el equipo. Sin embargo, se queda pasmado en la pantalla principal tal como lo muestro en fotos y videos.",
          "star_rating": "1.0 de 5 estrellas",
          "title": "No sirve."
         },
         {
          "asin": "B0BCMKMMK1",
          "review_text": "La verdad supero mis expectativas, había leído algunos comentarios buenos pero también malos así que estaba nerviosa, la televisión llego en perfecto estado, con empaque original, sin ningún detalle y funciona a la perfección, accede bien a todas lasPlataformas por medio del control, la calidad de la imagen está excelente y el audio también está perfecto. Para la habitación en la que la tengo es perfecta en todos los sentidos. Y el precio es muy apropiado para la calidad considero que es una excelente compra.",
          "star_rating": "5.0 de 5 estrellas",
          "title": "Todo fue perfecto"
         },
         {
          "asin": "B0BCMKMMK1",
          "review_text": "La verdad es que sorprendido por la calidad de imagen con relación al precio... Es la mejor opción comprada en hotsale por menos de 4,500 pesos... Vino como nueva, con todos sus plásticos y todo, hasta consideró que es nueva 100%... Ya veremos durante su uso como se comporta..",
          "star_rating": "5.0 de 5 estrellas",
          "title": "Sorpresa del Hotsale"
         },
         {
          "asin": "B0BCMKMMK1",
          "review_text": "Por el precio está bien la compra por lo que contiene pero la calidad si es algo barata y el control es de roku no tiene funciones directas",
          "star_rating": "4.0 de 5 estrellas",
          "title": "Buena"
         },
         {
          "asin": "B0BCMKMMK1",
          "review_text": "A pesar de los comentarios, me arriesgué y pues todo excelente sin ningun percance. Me decidí por la de 43\" y fui de las personas afortunadas que no le salio con defectos la Tv. Pero tal vez tu seas el siguiente jeje",
          "star_rating": "5.0 de 5 estrellas",
          "title": "Excelente precio-calidad"
         },
         {
          "asin": "B0BCMKMMK1",
          "review_text": "Este el tercer dispositivo Roku que tenemos en casa y es el único que no funciona, cuando configuramos la conexión wifi, me pide actualizar el software automáticamente, sin embargo, al finalizar la actualización se queda trabada en la pantalla de inicio.",
          "star_rating": "1.0 de 5 estrellas",
          "title": "Simplemente no puedo conectarla a internet."
         },
         {
          "asin": "B0BCMKMMK1",
          "review_text": "Llego bien empacada no en el empaque original pero llego bien en perfecto estado con todos los accesorios y su control la entrega fue muy rapida y en general muy bien",
          "star_rating": "5.0 de 5 estrellas",
          "title": "Sin problemas"
         },
         {
          "asin": "B0BCMKMMK1",
          "review_text": "Tuve que devolverla ya que se queda estancada en un loop infinito de actualización de software. Probé todos los workarounds disponibles y no funcionaron. Pésima experiencia con producto refurbished.",
          "star_rating": "1.0 de 5 estrellas",
          "title": "Loop infinito de actualización de software"
         },
         {
          "asin": "B0BCMKMMK1",
          "review_text": "No llego con cable de alimentación eléctrica, lo demás ok.",
          "star_rating": "3.0 de 5 estrellas",
          "title": "Ok"
         },
         {
          "asin": "B0BCMKMMK1",
          "review_text": "Fue regalo y está súper en precio calidad y rapidez de entrega",
          "star_rating": "5.0 de 5 estrellas",
          "title": "Lo mejor"
         },
         {
          "asin": "B0BCMKMMK1",
          "review_text": "Excelente producto, en buenas condiciones y de excelente calidad",
          "star_rating": "5.0 de 5 estrellas",
          "title": "Excelente producto, en buenas condiciones y de excelente calidad"
         },
         {
          "asin": "B0BCMKMMK1",
          "review_text": "Tenía alguna duda, pero estoy satisfecho con mi compra",
          "star_rating": "5.0 de 5 estrellas",
          "title": "Buena oportunidad"
         },
         {
          "asin": "B0BCMKMMK1",
          "review_text": "El mismo día que me llegó la probé, funcionó de maravilla un par de horas y después de la nada se  trabó a la mitad de una película y ya no quiso encender. Creo que esto de los productos Amazon renewed es como un bolado. Hay unos que se ve que no checan bien que funcionen.",
          "star_rating": "1.0 de 5 estrellas",
          "title": "Se descompuso en sólo dos horas."
         },
         {
          "asin": "B0BCMKMMK1",
          "review_text": "Se desconecta de internet a la menor provocacion y cada vez es mas recurrente el tener que estar reconectandola, asco de sistema",
          "star_rating": "1.0 de 5 estrellas",
          "title": "Pesima conexion WIFI"
         },
         {
          "asin": "B0BCMKMMK1",
          "review_text": "Desde el día empezó con fallas y se dejó de ver la pantalla, no lo recomiendo.",
          "star_rating": "1.0 de 5 estrellas",
          "title": "El producto ni funciona, desde el día 1 se dejó de ver la pantalla."
         },
         {
          "asin": "B0BCMKMMK1",
          "review_text": "Yo compre esta pantalla con reservas porque en los comentarios hay quien dice que no les funcionó bien. Pero a mi me ha pasado todo lo contrario.  De entrada les puedo decir que si es renovada, no se de donde porque no se  nota por ningún lado. La calidad de la pantalla es muy buena y fácilmente la adapté al Internet de la casa. Quizás podría decir que el sonido no es tan bueno, pero yo le compre una barra de sonido para subsanar esto",
          "star_rating": "5.0 de 5 estrellas",
          "title": "Excelente tv smart!!!"
         },
         {
          "asin": "B0BCMKMMK1",
          "review_text": null,
          "star_rating": "No rating",
          "title": "It's perfect if you have a lot of streaming services, and works well with gaming consoles as well."
         },
         {
          "asin": "B0BCMKMMK1",
          "review_text": null,
          "star_rating": "No rating",
          "title": "The only Negative...REMOTE CONTROL"
         },
         {
          "asin": "B0BCMKMMK1",
          "review_text": null,
          "star_rating": "No rating",
          "title": "It is a wonderful TV and u can do a lot with this TV"
         },
         {
          "asin": "B0BCMKMMK1",
          "review_text": null,
          "star_rating": "No rating",
          "title": "Love it !!"
         },
         {
          "asin": "B0BCMKMMK1",
          "review_text": null,
          "star_rating": "No rating",
          "title": "Great quality"
         },
         {
          "asin": "B0BCMKMMK1",
          "review_text": null,
          "star_rating": "No rating",
          "title": "Love the tv"
         },
         {
          "asin": "B0BCMKMMK1",
          "review_text": null,
          "star_rating": "No rating",
          "title": "Great tv"
         },
         {
          "asin": "B0BCMKMMK1",
          "review_text": null,
          "star_rating": "No rating",
          "title": "Bedroom TV"
         },
         {
          "asin": "B0BCMKMMK1",
          "review_text": null,
          "star_rating": "No rating",
          "title": "Easy set up"
         },
         {
          "asin": "B0BCMKMMK1",
          "review_text": null,
          "star_rating": "No rating",
          "title": "Great TV!"
         },
         {
          "asin": "B0BCMKMMK1",
          "review_text": null,
          "star_rating": "No rating",
          "title": "Were I can get the av adapter cord"
         },
         {
          "asin": "B0BCMKMMK1",
          "review_text": null,
          "star_rating": "No rating",
          "title": "No stand"
         },
         {
          "asin": "B0BCMKMMK1",
          "review_text": null,
          "star_rating": "No rating",
          "title": "Missing items in the box"
         },
         {
          "asin": "B0BCMKMMK1",
          "review_text": null,
          "star_rating": "No rating",
          "title": "It’s worth the price"
         },
         {
          "asin": "B0BCMKMMK1",
          "review_text": null,
          "star_rating": "No rating",
          "title": "Great buy"
         },
         {
          "asin": "B0BCMKMMK1",
          "review_text": null,
          "star_rating": "No rating",
          "title": "Wifi connection"
         },
         {
          "asin": "B0BCMKMMK1",
          "review_text": null,
          "star_rating": "No rating",
          "title": "Great"
         },
         {
          "asin": "B0BCMKMMK1",
          "review_text": null,
          "star_rating": "No rating",
          "title": "Great"
         },
         {
          "asin": "B0BCMKMMK1",
          "review_text": null,
          "star_rating": "No rating",
          "title": "It shows real simple is shows real good and it's all good"
         },
         {
          "asin": "B0BCMKMMK1",
          "review_text": null,
          "star_rating": "No rating",
          "title": "Good TV"
         },
         {
          "asin": "B0BCMKMMK1",
          "review_text": null,
          "star_rating": "No rating",
          "title": "Hl"
         },
         {
          "asin": "B0BCMKMMK1",
          "review_text": null,
          "star_rating": "No rating",
          "title": "4-star rating"
         },
         {
          "asin": "B0BCMKMMK1",
          "review_text": null,
          "star_rating": "No rating",
          "title": "AUDIO NOT WORKING, CLICKING NOISE"
         },
         {
          "asin": "B0BCMKMMK1",
          "review_text": null,
          "star_rating": "No rating",
          "title": "Fast delivery"
         },
         {
          "asin": "B0BCMKMMK1",
          "review_text": null,
          "star_rating": "No rating",
          "title": "Good deal"
         },
         {
          "asin": "B0BCMKMMK1",
          "review_text": null,
          "star_rating": "No rating",
          "title": "Great T.V"
         },
         {
          "asin": "B0BCMKMMK1",
          "review_text": null,
          "star_rating": "No rating",
          "title": "Be aware of refurbished products."
         },
         {
          "asin": "B0BCMKMMK1",
          "review_text": null,
          "star_rating": "No rating",
          "title": "I want a refund RIP OFF"
         },
         {
          "asin": "B0BCMKMMK1",
          "review_text": null,
          "star_rating": "No rating",
          "title": "Missing items"
         },
         {
          "asin": "B0BCMKMMK1",
          "review_text": null,
          "star_rating": "No rating",
          "title": "Be careful"
         },
         {
          "asin": "B0BCMKMMK1",
          "review_text": null,
          "star_rating": "No rating",
          "title": "Only network device in my home that won't connect to wifi"
         },
         {
          "asin": "B0BRBV8L6X",
          "review_text": "Obtienes lo justo por lo que pagas.",
          "star_rating": "4.0 de 5 estrellas",
          "title": "Precio / Calidad"
         },
         {
          "asin": "B0BRBV8L6X",
          "review_text": "Bien embalado, en perfectas condiciones, sin detalles estéticos, a tiempo, funcionando sin error.",
          "star_rating": "5.0 de 5 estrellas",
          "title": "Excelente producto"
         },
         {
          "asin": "B0BRBV8L6X",
          "review_text": "Mi pantalla ya no se ve hoy 28 de mayo solo se escucha pero no se ve ,si alguien tiene o sabe si hay garantía con proveedor se los agradecería mucho gracias",
          "star_rating": "5.0 de 5 estrellas",
          "title": "Pantalla  no reco.endabke"
         }
        ]
       },
       "height": 300,
       "layer": [
        {
         "encoding": {
          "color": {
           "field": "star_rating",
           "type": "nominal"
          },
          "x": {
           "field": "star_rating",
           "title": "Estrellas",
           "type": "nominal"
          },
          "y": {
           "aggregate": "count",
           "title": "Conteo",
           "type": "quantitative"
          }
         },
         "mark": {
          "type": "bar"
         },
         "title": "Conteo de calificacion por cantidad de estrellas"
        },
        {
         "encoding": {
          "color": {
           "field": "star_rating",
           "type": "nominal"
          },
          "text": {
           "aggregate": "count",
           "format": ",.0f",
           "type": "quantitative"
          },
          "x": {
           "field": "star_rating",
           "title": "Estrellas",
           "type": "nominal"
          },
          "y": {
           "aggregate": "count",
           "title": "Conteo",
           "type": "quantitative"
          }
         },
         "mark": {
          "baseline": "bottom",
          "type": "text"
         }
        }
       ],
       "width": 500
      },
      "text/plain": [
       "<VegaLite 5 object>\n",
       "\n",
       "If you see this message, it means the renderer has not been properly enabled\n",
       "for the frontend that you are using. For more information, see\n",
       "https://altair-viz.github.io/user_guide/display_frontends.html#troubleshooting\n"
      ]
     },
     "execution_count": 4,
     "metadata": {},
     "output_type": "execute_result"
    }
   ],
   "source": [
    "base = alt.Chart(resenas).mark_bar().encode(alt.X(\"star_rating\", title ='Estrellas'), \n",
    "    alt.Y('count()', title = 'Conteo'), alt.Color(\"star_rating:N\"))\n",
    "\n",
    "# barras de la gráfica\n",
    "bar = base.mark_bar().properties(width=500,height=300,\n",
    "    title='Conteo de calificacion por cantidad de estrellas')\n",
    "# texto de la gráfica\n",
    "text = base.mark_text(baseline='bottom').encode(\n",
    "    alt.Text('count()', format=\",.0f\"))\n",
    "\n",
    "# poner barras y texto de la gráfica juntos\n",
    "bar + text"
   ]
  },
  {
   "cell_type": "code",
   "execution_count": 5,
   "metadata": {},
   "outputs": [
    {
     "data": {
      "text/html": [
       "<div>\n",
       "<style scoped>\n",
       "    .dataframe tbody tr th:only-of-type {\n",
       "        vertical-align: middle;\n",
       "    }\n",
       "\n",
       "    .dataframe tbody tr th {\n",
       "        vertical-align: top;\n",
       "    }\n",
       "\n",
       "    .dataframe thead th {\n",
       "        text-align: right;\n",
       "    }\n",
       "</style>\n",
       "<table border=\"1\" class=\"dataframe\">\n",
       "  <thead>\n",
       "    <tr style=\"text-align: right;\">\n",
       "      <th></th>\n",
       "      <th>star_rating</th>\n",
       "      <th>Count</th>\n",
       "      <th>Porcentaje</th>\n",
       "    </tr>\n",
       "  </thead>\n",
       "  <tbody>\n",
       "    <tr>\n",
       "      <th>0</th>\n",
       "      <td>5.0 de 5 estrellas</td>\n",
       "      <td>203</td>\n",
       "      <td>53.421053</td>\n",
       "    </tr>\n",
       "    <tr>\n",
       "      <th>1</th>\n",
       "      <td>No rating</td>\n",
       "      <td>95</td>\n",
       "      <td>25.000000</td>\n",
       "    </tr>\n",
       "    <tr>\n",
       "      <th>2</th>\n",
       "      <td>4.0 de 5 estrellas</td>\n",
       "      <td>47</td>\n",
       "      <td>12.368421</td>\n",
       "    </tr>\n",
       "    <tr>\n",
       "      <th>3</th>\n",
       "      <td>1.0 de 5 estrellas</td>\n",
       "      <td>22</td>\n",
       "      <td>5.789474</td>\n",
       "    </tr>\n",
       "    <tr>\n",
       "      <th>4</th>\n",
       "      <td>2.0 de 5 estrellas</td>\n",
       "      <td>7</td>\n",
       "      <td>1.842105</td>\n",
       "    </tr>\n",
       "    <tr>\n",
       "      <th>5</th>\n",
       "      <td>3.0 de 5 estrellas</td>\n",
       "      <td>6</td>\n",
       "      <td>1.578947</td>\n",
       "    </tr>\n",
       "  </tbody>\n",
       "</table>\n",
       "</div>"
      ],
      "text/plain": [
       "          star_rating  Count  Porcentaje\n",
       "0  5.0 de 5 estrellas    203   53.421053\n",
       "1           No rating     95   25.000000\n",
       "2  4.0 de 5 estrellas     47   12.368421\n",
       "3  1.0 de 5 estrellas     22    5.789474\n",
       "4  2.0 de 5 estrellas      7    1.842105\n",
       "5  3.0 de 5 estrellas      6    1.578947"
      ]
     },
     "execution_count": 5,
     "metadata": {},
     "output_type": "execute_result"
    }
   ],
   "source": [
    "#Creamos un DF con los Value_count y agregamos una columna con el porcentaje que representa cada conteo\n",
    "resenas_count = resenas['star_rating'].value_counts().reset_index()\n",
    "resenas_count.columns = ['star_rating','Count']\n",
    "resenas_count['Porcentaje'] = (resenas_count['Count'] / resenas_count['Count'].sum()) * 100\n",
    "resenas_count"
   ]
  },
  {
   "cell_type": "markdown",
   "metadata": {},
   "source": [
    "#### De la gráfica y de este análisis podemos ver que existen 53 % de reseñas que dan excelente calificación con el máximo de 5 estrellas.\n",
    "#### Un 12% da muy buena calificación con 4 estrellas. \n",
    "#### Un 5.7 % da una calificación Media con 3 estrellas\n",
    "#### Un 7.5% da calificación Mala (1.8%)  y Muy  mala (5.7%) con 2 y 1 estrellas respectivamente.\n",
    "#### Y un 25% no puso calificación con estrellas en su reseña lo cual no es posible saber en base a estrellas si su reseña es buena o mala y puede caer en cualquier categoría. "
   ]
  },
  {
   "cell_type": "markdown",
   "metadata": {},
   "source": []
  },
  {
   "cell_type": "markdown",
   "metadata": {},
   "source": [
    "# Vamos a limpiar (eliminar) las filas que no tinen rating y ver que tanta diferencia hay"
   ]
  },
  {
   "cell_type": "code",
   "execution_count": 6,
   "metadata": {},
   "outputs": [
    {
     "data": {
      "text/plain": [
       "star_rating\n",
       "5.0 de 5 estrellas    203\n",
       "4.0 de 5 estrellas     47\n",
       "1.0 de 5 estrellas     22\n",
       "2.0 de 5 estrellas      7\n",
       "3.0 de 5 estrellas      6\n",
       "Name: count, dtype: int64"
      ]
     },
     "execution_count": 6,
     "metadata": {},
     "output_type": "execute_result"
    }
   ],
   "source": [
    "resenas = resenas[resenas['star_rating'] != 'No rating']\n",
    "resenas['star_rating'].value_counts()"
   ]
  },
  {
   "cell_type": "code",
   "execution_count": 7,
   "metadata": {},
   "outputs": [
    {
     "data": {
      "application/vnd.vegalite.v5+json": {
       "$schema": "https://vega.github.io/schema/vega-lite/v5.15.1.json",
       "config": {
        "view": {
         "continuousHeight": 300,
         "continuousWidth": 300
        }
       },
       "data": {
        "name": "data-54bd1648f8e3a5a3fe6f43f2cac19028"
       },
       "datasets": {
        "data-54bd1648f8e3a5a3fe6f43f2cac19028": [
         {
          "asin": "B0CJNQBKX9",
          "review_text": "Me fascino por la versatilidad de sus contrastes, la verdad no había trabajado con la marca pero se me hace muy funcional, de buena calidad y excelente relación precio - beneficio. muy recomendable volvería a comprar sin dudas.",
          "star_rating": "5.0 de 5 estrellas",
          "title": "EXCELENTE NITIDEZ Y CALIDAD DE IMAGEN"
         },
         {
          "asin": "B0CJNQBKX9",
          "review_text": "Excelente calidad de imagenMe gustó mucho la marca, la verdad no había trabajado con la marca, y se me hace funcional, de buana calidad y nitidez, yo se las recomiendo.Muy buena para el uso cotidiano.",
          "star_rating": "5.0 de 5 estrellas",
          "title": "Excelente producto"
         },
         {
          "asin": "B0C47PZ6HR",
          "review_text": "La pantalla llegó sin el soporte para mesa",
          "star_rating": "4.0 de 5 estrellas",
          "title": "Llegó sin base"
         },
         {
          "asin": "B0C47PZ6HR",
          "review_text": "Todo muy bien, en su publicacion aparecen unos audifonos que no llegaron, fuera de eso, muy bien",
          "star_rating": "4.0 de 5 estrellas",
          "title": "BUENA"
         },
         {
          "asin": "B0C47PZ6HR",
          "review_text": "Buen producto pero no viene los audífonos la verda la compré por eso, eso fue lo que me hizo escoger la Tv",
          "star_rating": "5.0 de 5 estrellas",
          "title": "Bien producto"
         },
         {
          "asin": "B0C47PZ6HR",
          "review_text": "Llego todo en orden, con patas y control.  Funcionando correctamente y la calidad de imagen es muy buena",
          "star_rating": "5.0 de 5 estrellas",
          "title": "Funcionando excelente"
         },
         {
          "asin": "B0C47PZ6HR",
          "review_text": "Superó mis expectativas",
          "star_rating": "5.0 de 5 estrellas",
          "title": "Excelente"
         },
         {
          "asin": "B0C47PZ6HR",
          "review_text": "Lo único que le recomiendo es que no llego con su empaque original me llegó como una Samsung de 65 pulgadas y ya la iba a regresar sin abrir  no trae manual ni garantía el control remoto estaba suelto en fin afortunadamente si era la pantalla y funcionó a la perfección",
          "star_rating": "4.0 de 5 estrellas",
          "title": "Muy buena"
         },
         {
          "asin": "B0C47PZ6HR",
          "review_text": "Buen día recibí mi producto la tele funciona al 100 pero el control no funciona, ya lo intentamos con más baterías",
          "star_rating": "3.0 de 5 estrellas",
          "title": "Control venía sin funcionamiento"
         },
         {
          "asin": "B0C47PZ6HR",
          "review_text": "muy buen producto, justo lo que buscábamos para un aula de clases",
          "star_rating": "5.0 de 5 estrellas",
          "title": "excelente imagen y sonido"
         },
         {
          "asin": "B0C47PZ6HR",
          "review_text": "No puedo opinar del funcionamiento to porque la devolví, ya que las patas de la pantalla no correspondían al equipo y la devolví de inmediato.No hay imagen por la devolución.",
          "star_rating": "2.0 de 5 estrellas",
          "title": "Es una pena que las patas no correspondieran a la pantalla."
         },
         {
          "asin": "B0C47PZ6HR",
          "review_text": "Esto es una pantalla 50 reacondicionada y con garantía! Viene sin control remoto y sin tornillos de las patitas, ni la probe!!! Si así es la presentación me imagino el control de calidad!Lista para que la recojan!!",
          "star_rating": "1.0 de 5 estrellas",
          "title": "Amazon vende esto???"
         },
         {
          "asin": "B0C47PZ6HR",
          "review_text": "Funciona perfecto",
          "star_rating": "5.0 de 5 estrellas",
          "title": "Bien para el precio"
         },
         {
          "asin": "B0C47PZ6HR",
          "review_text": "No lo compren aún que diga que viene garantizado no es cierto, la pedí y llegó destapada de la parte de abajo de la pantalla y no funcionaba, el display se veía Azul y solo se escuchaba, muy mala experiencia",
          "star_rating": "1.0 de 5 estrellas",
          "title": "Muy mala experiencia"
         },
         {
          "asin": "B0C47PZ6HR",
          "review_text": "Me llego y apenas conectado empezó a fallar, se trababa y se apagaba. No recomiendo para nada gastar su dinero en esto.",
          "star_rating": "1.0 de 5 estrellas",
          "title": "Producto defectuoso"
         },
         {
          "asin": "B0C47PZ6HR",
          "review_text": "Producto llega dañadoEl display dañado Z",
          "star_rating": "1.0 de 5 estrellas",
          "title": "Producto defectuoso"
         },
         {
          "asin": "B0C47PZ6HR",
          "review_text": "No funciono",
          "star_rating": "1.0 de 5 estrellas",
          "title": "Súper mal, la tv no funciono"
         },
         {
          "asin": "B0C47PZ6HR",
          "review_text": "El producto llego sin base",
          "star_rating": "1.0 de 5 estrellas",
          "title": "Me llego el producto sin base, no se puede usar"
         },
         {
          "asin": "B0C47PZ6HR",
          "review_text": "El artículo llegó bien empaquetado con control, sin garantía pero funciona perfecta",
          "star_rating": "5.0 de 5 estrellas",
          "title": "Excelente"
         },
         {
          "asin": "B0C47PZ6HR",
          "review_text": "Buena compra",
          "star_rating": "5.0 de 5 estrellas",
          "title": "Llego a tiempo"
         },
         {
          "asin": "B0C47PZ6HR",
          "review_text": "La tv venía bien envalada su calidad de colores me sorprendió y está súper bien",
          "star_rating": "5.0 de 5 estrellas",
          "title": "Se ve súper bien"
         },
         {
          "asin": "B08TVSM195",
          "review_text": "Me gusto mucho",
          "star_rating": "5.0 de 5 estrellas",
          "title": "Bien cuidado"
         },
         {
          "asin": "B08TVSM195",
          "review_text": "Me convencí por esta tele por 2 motivos; principalmente por la relación calidad-precio y porque los reviews eran muy buenos.A mí me tocó la tele sellada, con plásticos y sin ningún mal detalle. El tamaño muy bien, ya había usado Roku y sabía que podía ofrecer más aplicaciones que una smart y muy bien.La única crítica rigurosa que tengo es que la calidad de imagen para videojuegos está ok sí hace algunos ajustes manuales, pero no es lo más criticable, para ver Netflix, etc l calidad es mejor, bastante buena por el precio.Le doy 4 estrellas por que creo que la resolución de videojuegos puede ser mejor o más práctica y porque me falta darle tiempo de uso.  Si está bien en unos años es un producto 5 estrellas.",
          "star_rating": "4.0 de 5 estrellas",
          "title": "Satisfecho. Sellada y el n Perfecto estado"
         },
         {
          "asin": "B08TVSM195",
          "review_text": "Es una buena tele, por el precio que tiene y las prestaciones que ofrece, vale la pena. Llegó bien, sin desperfecto, además cuenta con Roku TV que es excelente. Su construcción es estándar pero los materiales son buenos y resistentes. No estoy del todo seguro que sea 4k pero es una imagen decente para ver contenido en las plataformas de streaming",
          "star_rating": "4.0 de 5 estrellas",
          "title": "Excelente tele relación Calidad Precio"
         },
         {
          "asin": "B08TVSM195",
          "review_text": "Es una tv que cumple en todo si no eres muy exigente, buen sonido, buena calidad de imagen y el sistema operativo muy responsivo y con la facilidad de conectarlo con tu celular para manejar la tv desde el celular, viene con un control simple pero rápido. Sin embargo llamó la atención que faltaron piezas los soportes o base para poner de pie la Tv, me tocó comprar unos que se pueden acoplar a la parte de atrás de la Tv.",
          "star_rating": "4.0 de 5 estrellas",
          "title": "Tv como nueva pero un detalle"
         },
         {
          "asin": "B08TVSM195",
          "review_text": "La tele supongo por ser renewed, tiene una abolladura en la parte trasera que no interfiere mucho en su funcionamiento, el sonido es decente pero no muy bueno, la imagen en general es muy buena. Uno de los problemas es que cuando la enciendes, no detecta el WIFI y lo tienes que introducir como detección de red, no me parece el gran problema pero si es detalle a tomar en cuenta. Le doy 5 estrellas porque la tomé a un gran precio y con el mejor software para mi que es ROKU.",
          "star_rating": "5.0 de 5 estrellas",
          "title": "Muy buena"
         },
         {
          "asin": "B08TVSM195",
          "review_text": "El precio, calidad de imagen",
          "star_rating": "5.0 de 5 estrellas",
          "title": "Muy buen precio"
         },
         {
          "asin": "B08TVSM195",
          "review_text": "Pantalla buena, bonita y barata",
          "star_rating": "5.0 de 5 estrellas",
          "title": "Buena pantalla"
         },
         {
          "asin": "B08TVSM195",
          "review_text": "Elegí la de 43 pulgadas la cual SÍ es 4k (algunas personas decían que no era 4k pero era otro modelo de 40 o 42 pulgadas), roku es el mejor sistema para manejar una smart tv (ya lo conecté hasta con mi alexa)El embalaje venía bien, a lo esperado al ser renewed, en $1,200 menos que comprarla nueva en walmart.Aun no prueba más la TV, espero hacerlo el fin de semana y les comento una vez que conecte el xbox y vea alguna serie... de momento todo ok!",
          "star_rating": "5.0 de 5 estrellas",
          "title": "Todo bien hasta ahora"
         },
         {
          "asin": "B08TVSM195",
          "review_text": "El precio que tiene y las prestaciones que da me quedé 👁️👄👁️Excelente calidad de imagen 4kSonido espectacularY las aplicaciones súper fácil las cargaEl precio que tiene y las pulgadas que da es de las mejores tv que hayEs onn una su marca de roku y para wifi excelente 2.4g y 5g",
          "star_rating": "5.0 de 5 estrellas",
          "title": "Excelente Smart tv"
         },
         {
          "asin": "B08TVSM195",
          "review_text": "Tiene una excelente imagen, (con Roku) y aunado a una relación valor/precio que hacen de este televisor sea el mejor de las opciones",
          "star_rating": "5.0 de 5 estrellas",
          "title": "Televisión Onn"
         },
         {
          "asin": "B08TVSM195",
          "review_text": "No me gustó, porque desde que llegó se probó la tele y tienes 3 rayas que le salen a la pantalla, así que ese mismo le di para devolver el producto, la caja estaba toda maltratada y aparte el personal de la mensajería, la estaba bajando con el menor cuidando, golpeándola y jalandola muy feo, aparte que está furioso el mensajeroAsí que no le puedo decir más que cosas negativas de esta compra de televisión que llegó en mal estado desde el primer día.",
          "star_rating": "1.0 de 5 estrellas",
          "title": "Vino con 3 rayas en la televisión"
         },
         {
          "asin": "B08TVSM195",
          "review_text": "La verdad muy buen producto barato y funciona a la perfección a mí me tocó la suerte de que llegó prácticamente nueva ni una rayada ybennsu caja original todo perfecto",
          "star_rating": "5.0 de 5 estrellas",
          "title": "Excelente producto 👌"
         },
         {
          "asin": "B08TVSM195",
          "review_text": "Excelente compra, detecta en automático el HDR de los archivos y cambia en el menú de imagen según el archivo que reproduzcan. Si eres exigente en Gherz está pantalla no es para ti, deberás invertir el doble de dinero.",
          "star_rating": "5.0 de 5 estrellas",
          "title": "BBB, Para el costo va de maravilla la pantalla."
         },
         {
          "asin": "B08TVSM195",
          "review_text": "Ya lo instalé y conecté, tengo una semana con el producto, funciona perfecto hasta ahora, viene con roku integrado. Excelente",
          "star_rating": "5.0 de 5 estrellas",
          "title": "Excelente, las funciones tal cual como se describen"
         },
         {
          "asin": "B08TVSM195",
          "review_text": "Llegó estrellada de la pantalla y la tuve que devolver",
          "star_rating": "1.0 de 5 estrellas",
          "title": "Pésimo estado, no funciona."
         },
         {
          "asin": "B08TVSM195",
          "review_text": "Televisión muy buena y a buen precio, es excelente la calidad precio y el uso de rocku",
          "star_rating": "5.0 de 5 estrellas",
          "title": "Excelente producto"
         },
         {
          "asin": "B08TVSM195",
          "review_text": "Muy buena imagen y sonido",
          "star_rating": "5.0 de 5 estrellas",
          "title": "Excelente producto"
         },
         {
          "asin": "B08TVSM195",
          "review_text": "muy completo el software, trae hasta disney +",
          "star_rating": "5.0 de 5 estrellas",
          "title": "bien"
         },
         {
          "asin": "B08TVSM195",
          "review_text": "La calidad de la imagen es muy buena",
          "star_rating": "5.0 de 5 estrellas",
          "title": "Calidad de la imagen"
         },
         {
          "asin": "B08TVSM195",
          "review_text": "Tamaño adecuado, y calidad por un buen precio.",
          "star_rating": "5.0 de 5 estrellas",
          "title": "Muy buena compra"
         },
         {
          "asin": "B08TVSM195",
          "review_text": "Muy buena.",
          "star_rating": "5.0 de 5 estrellas",
          "title": "Muy buena"
         },
         {
          "asin": "B08TVSM195",
          "review_text": "buen producto cumple con lo ofrecido",
          "star_rating": "5.0 de 5 estrellas",
          "title": "buen producto"
         },
         {
          "asin": "B08TVSM195",
          "review_text": "Todo funciona perfecto",
          "star_rating": "5.0 de 5 estrellas",
          "title": "Buena compra"
         },
         {
          "asin": "B08TVSM195",
          "review_text": "Excelente compra, no me arrepiento",
          "star_rating": "5.0 de 5 estrellas",
          "title": "Excelente oferta"
         },
         {
          "asin": "B08TVSM195",
          "review_text": "Excelente, está como nueva!",
          "star_rating": "5.0 de 5 estrellas",
          "title": "Muy buena TV"
         },
         {
          "asin": "B08TVSM195",
          "review_text": "todo funciona en orden",
          "star_rating": "5.0 de 5 estrellas",
          "title": "Excelente relacion calidad precio"
         },
         {
          "asin": "B08TVSM195",
          "review_text": "No funciona",
          "star_rating": "1.0 de 5 estrellas",
          "title": "No funciona me llego si que se vea la pantalla y en una caja X no en la original"
         },
         {
          "asin": "B08TVSM195",
          "review_text": "La imagen de esta pantalla está muy bien plasmada, por el precio la verdad no le pide nada a otras marcas, el sonido también es bueno, para jugar o ver películas está exelente",
          "star_rating": "5.0 de 5 estrellas",
          "title": "Imagen increíble"
         },
         {
          "asin": "B08TVSM195",
          "review_text": "No se puede pedir nada mejor por el Precio y calidad de imagenLLega con su empaque original , se nota que anteriormente fue abierto (obviamente )pero fue reempaquetado y llego sin ningún rasguño, viene con sus patitas,control nuevo Roku (television roku) no se necesita ningun otro control, no trae instructivo (nada relevante)..Excelente calidad de video, el sonido se puede mejorar con bocinas exteriores, simplemente con una antena digital buena ves mas canales HD que con cable.Quede muy satisfecho.",
          "star_rating": "5.0 de 5 estrellas",
          "title": "EXCELENTE SMART  TV.!"
         },
         {
          "asin": "B08TVSM195",
          "review_text": "Exactamente como se describe, calidad de imagen perfecta.",
          "star_rating": "5.0 de 5 estrellas",
          "title": "Excelente"
         },
         {
          "asin": "B08TVSM195",
          "review_text": "Igual saludos",
          "star_rating": "5.0 de 5 estrellas",
          "title": "Excelente"
         },
         {
          "asin": "B09WTPYGFF",
          "review_text": "Sí pediría otra por el precio, mi caja llegó únicamente la de la empresa ya así como se ve, no traía otra de Amazon. La calidad de imagen es estándar, no resalta mucho pero tiene todas las funciones del momento y hasta comprar otras apps que no haya se puede en la misma pantallaEl sonido sí es bueno, no se escucha nada mal pero igual se puede mejorar con alguna barra de sonidoMuy probablemente pediría otra más chica para mi habitación",
          "star_rating": "5.0 de 5 estrellas",
          "title": "Calidad precio"
         },
         {
          "asin": "B09WTPYGFF",
          "review_text": "Excelente producto, óptimo para cubrir nuestras necesidades, aunque en realidad mide 38 pulgadas y no 43, además la usuaria que la devolvió olvidó borrar su cuenta y restaurarla de fábrica, pero fue pecata minuta porque lo hicimos sin ningún problema y la televisión funciona perfectamente.",
          "star_rating": "5.0 de 5 estrellas",
          "title": "Muy buena pantalla."
         },
         {
          "asin": "B09WTPYGFF",
          "review_text": "Es una excelente pantalla, el sonido es muy bueno, con 10 de volumen ya es muy fuerte, la calidad de imagen es excelente, al principio configurar es un poco tardado pero fácil de usar, tiene muchas apps de streaming que casi todos tenemos.La recomiendo mucho.La encontré en 9k si la ves más barata no lo dudes",
          "star_rating": "5.0 de 5 estrellas",
          "title": "Buena calidad-precio"
         },
         {
          "asin": "B09WTPYGFF",
          "review_text": "Me encanta la tele, muy buena en todos los sentidos, solo que en la descripción del producto deberían mejorar un poco más la organización, al comprarla y por las prisas de que estaba en descuento por poco tiempo, no logré encontrar su Frecuencia de actualización, debido a que era una situación de ahora o nunca, la compré con esperanzas de que fuera más, lamentablemente se quedó en 60hz, lo cual limitó completamente lo que yo buscaba y quería. De haber sabido mejor hubiera comprado la U7H. Pero es mi culpa por no leer bien y comprar de forma impulsiva.",
          "star_rating": "5.0 de 5 estrellas",
          "title": "Buena tele, mala descripción de producto"
         },
         {
          "asin": "B09WTPYGFF",
          "review_text": "Una pantalla que tuvo un precio bastante bueno en relación costo beneficio , llegó bien y rápido",
          "star_rating": "5.0 de 5 estrellas",
          "title": "Llego antes y en excelentes condiciones"
         },
         {
          "asin": "B09WTPYGFF",
          "review_text": "Antes de comprar tenía mis dudas por ser una marca china pero la verdad me ha sorprendido la calidad de imagen y todas las funciones, Smart, Dolby visión y si alcanza la definición de 4K. Control por voz, HDR, Google TV.Si el Apple TV se dañara no lo extrañaría con esta TV, garantía de 2 años con la marca por el tamaño y compré una garantía extendida a un muy buen precio con Amazon. En lo personal muy satisfecho.",
          "star_rating": "5.0 de 5 estrellas",
          "title": "Excelente"
         },
         {
          "asin": "B09WTPYGFF",
          "review_text": "Por el precio actual $5,000 y más barata que en algunas tiendas de autoservicio. La pantalla cumple, tiene buena calidad de pantalla, sonido, y estructura. Ya que es muy delgada que queda muy bien montada en pared. El tener Google TV da una gran ventaja pues es compatible con casi cualquier app de streaming.",
          "star_rating": "5.0 de 5 estrellas",
          "title": "Excelente relación calidad/precio"
         },
         {
          "asin": "B09WTPYGFF",
          "review_text": "Nos encantó, la recomiendo ampliamente",
          "star_rating": "5.0 de 5 estrellas",
          "title": "Super buena compra"
         },
         {
          "asin": "B09WTPYGFF",
          "review_text": "La agarre en oferta y la verdad ya tenía tiempo investigando que tv comprar para mi consola y ver streaming, es bastante completa, les recomiendo que compren una que traiga Google(como este artículo) o Roku, porque las Vidaa al parecer fallan.",
          "star_rating": "5.0 de 5 estrellas",
          "title": "Excelente Smart TV"
         },
         {
          "asin": "B09WTPYGFF",
          "review_text": "Me a gustado mucho está compra ya q deja ver las peliculas muy claras",
          "star_rating": "5.0 de 5 estrellas",
          "title": "Buena resolución y muy buen volumen"
         },
         {
          "asin": "B09WTPYGFF",
          "review_text": "Se nota el cambio de gama. Los 120hz se notan y la resolución es muy buena. La recomiendo para jugar PS5",
          "star_rating": "5.0 de 5 estrellas",
          "title": "Excelente"
         },
         {
          "asin": "B09WTPYGFF",
          "review_text": "Recomendado",
          "star_rating": "5.0 de 5 estrellas",
          "title": "Excelente vision"
         },
         {
          "asin": "B09WTPYGFF",
          "review_text": "Ya tengo 6 meses con el producto y la verdad que muy bien, incluso comparándola con una LG de 60 plg que compre un par de meses antes, a veces la imagen se ve más realista en esta Hisense. Ojála que con el paso del tiempo siga funcionando igual de bien, hasta ahorita totalmente recomendable",
          "star_rating": "5.0 de 5 estrellas",
          "title": "Muy buena TV"
         },
         {
          "asin": "B09WTPYGFF",
          "review_text": "desde hace mucho queríamos comprar una tv de 65, y nos llego la oportunidad.  Maravillosa, y a excelente precio.  Ya conocemos la marca Hisense.",
          "star_rating": "5.0 de 5 estrellas",
          "title": "magnifica oferta"
         },
         {
          "asin": "B09WTPYGFF",
          "review_text": "La TV llego en buenas condiciones y funcionando al 100%",
          "star_rating": "5.0 de 5 estrellas",
          "title": "Excelente"
         },
         {
          "asin": "B09WTPYGFF",
          "review_text": "Excelente, se entregó sin ningun daño",
          "star_rating": "5.0 de 5 estrellas",
          "title": "Buena"
         },
         {
          "asin": "B09WTPYGFF",
          "review_text": "La pantalla cumple a la perfección los requisitos que yo estaba buscando. La resolución está muy bien y que funcione con Google tv definitivamente es un plus.",
          "star_rating": "5.0 de 5 estrellas",
          "title": "Muy bien"
         },
         {
          "asin": "B09WTPYGFF",
          "review_text": "Llegó antes de lo esperado y en muy buenas condiciones!!",
          "star_rating": "5.0 de 5 estrellas",
          "title": "Excelente producto precio y calidad"
         },
         {
          "asin": "B09WTPYGFF",
          "review_text": "La compre con un super descuento así que eso es lo primero más grandioso, después de casi 2 meses de uso todo bien tiene buena imagen el sonido no es tan alto quizás en un área grande como uns sala no tenga buen sonido, pero ya que yo la use para mi cuarto esta es excelente porwue ahí el sonido es mucho mayor al estar más cerrado no me arrepiento de mi compra, ya que hasta ahora edta marca es la que estoy comprando de smart tv y no me ha desepcionado",
          "star_rating": "5.0 de 5 estrellas",
          "title": "Hasta ahora después de 2 meses de uso todo párese bien"
         },
         {
          "asin": "B09WTPYGFF",
          "review_text": "Yo compré esta pantalla casi exclusivamente para ver películas por streaming y para conectar y jugar con mi Xbox Series S. Cabe destacar que yo no juego multijugador, solo campañas y pantalla dividida local. Sobre el streaming la pantalla es excelente. La resolución es excelente, el tamaño también y se conecta a internet en menos de 5 segundos. No he tenido problemas de conexión y me corre las películas sin interrupciones y eso que no tengo buen internet. Sobre el gaming, pongo una foto de las características que esta pantalla te da para un Xbox Series S (tengo mi consola en inglés). Los juegos se ven bastantante bien y solo he tenido pequeños lags en las cinemáticas, no durante el juego como tal. Estoy algo sorprendido porque en la caja de la pantalla dice que tiene HDR10, pero el Xbox dice que no lo soporta. Igual no entiendo bien estos conceptos. En general la pantalla cumple para gaming, aunque imagino que si eres muy exigente (yo no lo soy) la pantalla te quedará a deber. La entrega llegó dentro del tiempo estimado y en perfectas condiciones. Como nota al pie, no trae desarmador para instalarle las patas ni armazón para empotrarla en la pared.",
          "star_rating": "5.0 de 5 estrellas",
          "title": "Muy buena pantalla"
         },
         {
          "asin": "B09WTPYGFF",
          "review_text": "Super contenta con mi pantalla, se ve super y el sonido excelente",
          "star_rating": "5.0 de 5 estrellas",
          "title": "Excelente 👌"
         },
         {
          "asin": "B09WTPYGFF",
          "review_text": "Vengo de una Samsung QLED, que desgraciadamente le salieron pixeles muertos y se descompuso, Tenía muchas dudas de esta TV pero Es increíble la definición y la fluidez con la que corre los videos juegos, aún le falta un poco más de “calidad” a los videos y películas pero por el precio creo que está más que excelente, yo que soy una persona “exigente” estoy contento con la pantalla",
          "star_rating": "5.0 de 5 estrellas",
          "title": "Definición"
         },
         {
          "asin": "B09WTPYGFF",
          "review_text": "Excelente producto, la conectividad, definición y sonido es excelente. Tiene algunas fugas de luz poco notorias pero es de esperarse por el precio. La recomiendo ampliamente.",
          "star_rating": "5.0 de 5 estrellas",
          "title": "Excelente calidad/Precio"
         },
         {
          "asin": "B09WTPYGFF",
          "review_text": "Ya he probado unos días el televisor y funcionan perfecto, buena calidad en la imagen, el sonido muy bueno, tiene todo lo que necesitas compatibilidad con HomeKit, Alexa, Google.El único detalle que pondría no tiene más que ver con el producto si no con la paquetería o en los almacenes de Amazon, ya que la caja llegó con un ligero golpe, si bien esto no dañó la TV pero estaría genial que Amazon o la paquetería cuide más los productos",
          "star_rating": "5.0 de 5 estrellas",
          "title": "El producto muy bueno"
         },
         {
          "asin": "B09WTPYGFF",
          "review_text": "Me llegó hace dos semanas y la he estado usando casi todos los días, su imagen es buena, el sonido también, como la tv la uso en mi cuarto basta con 20 de sonido, pero tuve un pequeño problema, en la esquina superior izquierda le salió un pequeña fuga de luz, hay veces en las que no se ve, depende del ángulo, pero ahí está, por eso le doy 4 estrellas, porque para llevar dos semanas no se me hace bueno que le salga eso, pero como a veces se ve y a veces no, pues no hago un drama, además me costó $4,800 así que tampoco me puedo quejar mucho, fuera de eso creo que es una gran opción calidad-precio",
          "star_rating": "4.0 de 5 estrellas",
          "title": "Buena por su precio"
         },
         {
          "asin": "B09WTPYGFF",
          "review_text": "Es la segunda Hisense que compro 👍🏼La interfaz es rápida y fácil de usar.La instalación debe ser entre 2 personas.",
          "star_rating": "5.0 de 5 estrellas",
          "title": "Buena compra"
         },
         {
          "asin": "B09WTPYGFF",
          "review_text": "Gran imagen y excelente sonido. Llegó en tiempo y en buenas condiciones. Tenía una Hisense desde hsce años y han salido muy bien. Muy recomendable por el precio.",
          "star_rating": "5.0 de 5 estrellas",
          "title": "Excelente TV"
         },
         {
          "asin": "B09WTPYGFF",
          "review_text": "Es rápida, tiene muy buena respuesta.La imagen es muy buena y vale la pena",
          "star_rating": "5.0 de 5 estrellas",
          "title": "Muy buen producto"
         },
         {
          "asin": "B09WTPYGFF",
          "review_text": "Se ve muy nítida y excelente precio gracias.",
          "star_rating": "5.0 de 5 estrellas",
          "title": "Tv"
         },
         {
          "asin": "B09WTPYGFF",
          "review_text": "ES MUY BUEN PRODUCTO GRACIAS TODO BIEN CUIDADO Y BUENA IMAGEN Y SONIDO.",
          "star_rating": "5.0 de 5 estrellas",
          "title": "IMAGEN Y SONIDO"
         },
         {
          "asin": "B09WTPYGFF",
          "review_text": "Es la primera vez que compro una pantalla en amazon, estaba nervioso pero todo en orden la pantalla muy bien y jalando al cien. Recomendado",
          "star_rating": "5.0 de 5 estrellas",
          "title": "Todo llegó bien y en excelentes condiciones"
         },
         {
          "asin": "B09WTPYGFF",
          "review_text": "He de decir que tenía mi dudas sobre ma televisión, pero al contrario, excelente imagen, el sistema operativo con Google hace todo mas sencillo, solo debes ingresar nuevamente a tus apps para que Google las recuerde y así en una sola pantalla se despliegan todas y al escoger la película te manda de forma directa en algunasRecomiendo esta TV si llega a estar nuevamente en promoción",
          "star_rating": "5.0 de 5 estrellas",
          "title": "Excelente decisión"
         },
         {
          "asin": "B09WTPYGFF",
          "review_text": "Buena calidad en imagen, fácil de configurar, buen sonido",
          "star_rating": "5.0 de 5 estrellas",
          "title": "Buena relación calidad-precio"
         },
         {
          "asin": "B09WTPYGFF",
          "review_text": "Sin duda fue una gran compra, la conseguí por 13,499 y creo que por el precio no existe una mejor opción, la calidad de imagen es muy muy buena y el sistema operativo ayuda mucho a hacerla fluida, si tienen la oportunidad de conseguirla por un precio similar, no lo duden.",
          "star_rating": "5.0 de 5 estrellas",
          "title": "Ampliamente recomendable"
         },
         {
          "asin": "B09WTPYGFF",
          "review_text": "Da más de lo que cuesta.",
          "star_rating": "5.0 de 5 estrellas",
          "title": "Buen costo-beneficio"
         },
         {
          "asin": "B09WTPYGFF",
          "review_text": "Me gustó la imagen y audio, sistema operativo muy rápido.",
          "star_rating": "5.0 de 5 estrellas",
          "title": "Buena imagen"
         },
         {
          "asin": "B09WTPYGFF",
          "review_text": "Estoy encantada con mi compra, en un principio tuve mis dudas por la marca, después recordé que compre una Samsung pantalla de cristal que duró menos que mi quincena 😂😢 y se me pasó. Ahora tengo 22 días con mi Hisense y funciona de maravilla, fácil de utilizar y las imágenes súper padres 👌🏻",
          "star_rating": "5.0 de 5 estrellas",
          "title": "Divina 👌🏻"
         },
         {
          "asin": "B09WTPYGFF",
          "review_text": "El producto llegó en buen estado, no obstante, al momento de conectar el cable de la corriente en la parte del conector tipo \"hembra\" no ajusta como debe hacerlo. Debo de sujetarlo para que encienda el televisor.No sé si el cable es incorrecto o el espacio donde se conecta el televisor sea grande.",
          "star_rating": "4.0 de 5 estrellas",
          "title": "Cable de la corriente en conector tipo hembra no se sostiene por sí solo."
         },
         {
          "asin": "B09WTPYGFF",
          "review_text": "Excelente equipo, realmente vale la pena",
          "star_rating": "5.0 de 5 estrellas",
          "title": "Buena pantalla"
         },
         {
          "asin": "B09WTPYGFF",
          "review_text": "Muy bueno  buenas imajenes muy buen donido",
          "star_rating": "5.0 de 5 estrellas",
          "title": "El audio es fuerte no necesitas bocinas extra"
         },
         {
          "asin": "B09WTPYGFF",
          "review_text": "Cumplió con mis expectativas, se ve más grande de lo que imagine, los canales se ven asombrosos. Fácil de configurar el Google tv, por la gama del televisor no se podía pedir más",
          "star_rating": "5.0 de 5 estrellas",
          "title": "Buen televisor"
         },
         {
          "asin": "B09WTPYGFF",
          "review_text": "Excelente producto buena resolución y quede muy contento recomendable",
          "star_rating": "5.0 de 5 estrellas",
          "title": "Muy bueno"
         },
         {
          "asin": "B09WTPYGFF",
          "review_text": "Me encanto por su resolución se mira muy bien y más con el Xbox corre perfecto 120 fps y también el 4k y por un buen precio",
          "star_rating": "5.0 de 5 estrellas",
          "title": "Exelente"
         },
         {
          "asin": "B09WTPYGFF",
          "review_text": "SI me gusto y me gusto mas su sistema operativo Google TV ya que tiene instalado desde fabrica el sistema google tv, si es bueno avecés si es medio lento al principio y mas cuando lo estas instalando y das de alta todo, hasta ahora se me gusto y me toco remplazarla y probé con esta para ver lo del Google tv ya que en mi caso yo tengo el Chromecast, aparte la interfase de pasar a google tv a televisión abierta es rápido ya que el streaming en vivo hay un retraso y en mi caso eso no me gustaba, el audio es bueno es pasable pero bueno, aparte todo esta en el control remoto. También si pude instalar aplicaciones como en el chromecast TV, ya que aqui como les comento el google tv ya esta instalado desde fabrica y en la tele no necesite nada. Pago  esta y al pareces si voy por otra mas grande ya que la que tenia era de 65 pulgadas",
          "star_rating": "4.0 de 5 estrellas",
          "title": "SI me gusto pero..."
         },
         {
          "asin": "B09WTPYGFF",
          "review_text": "Excelente tecnologia por Precio.",
          "star_rating": "5.0 de 5 estrellas",
          "title": "Precio"
         },
         {
          "asin": "B09WTPYGFF",
          "review_text": "Buena calidad de imagen, la velocidad del interfaz es buena (promedio), y el asistente de Google viene siendo un añadido excelente.  Lo recomiendo.",
          "star_rating": "5.0 de 5 estrellas",
          "title": "Funciona muy bien después de un mes"
         },
         {
          "asin": "B09WTPYGFF",
          "review_text": "La televisión llegó super rápido bien precio lo único malo es que llegó con un dellate se le ve una manchita negra en la pantalla",
          "star_rating": "4.0 de 5 estrellas",
          "title": "Llegó bien pero con un detalle"
         },
         {
          "asin": "B09WTPYGFF",
          "review_text": "Buena bonita y barata la agarré a muy buen precio y hasta el momento no ha presentado algún inconveniente en su función como en su imagen",
          "star_rating": "5.0 de 5 estrellas",
          "title": "Las 3B"
         },
         {
          "asin": "B09WTPYGFF",
          "review_text": "Excelente opción si la consigues por menos de 250 dólares",
          "star_rating": "5.0 de 5 estrellas",
          "title": "Buena relación calidad-precio"
         },
         {
          "asin": "B09WTPYGFF",
          "review_text": "Siempre he elegido está marca de TV por la calidad en audio y vídeo, es un artículo muy recomendable.",
          "star_rating": "5.0 de 5 estrellas",
          "title": "Excelente Smart TV"
         },
         {
          "asin": "B0C587FK1Z",
          "review_text": "Me sorprendió que haya llegado mucho antes de lo programado. La pantalla llegó en excellente condiciones. La estrené viendo una película en 4k y fue una experiencia agradable. La calidad de imagen es de lo mejor que he visto. Difícilmente regresaré a definicion estándar.Aún falta calar la pantalla con consolas de última generación.Algo que me gustaría señalar es que el armado de la base me generó un dolor de cabeza pues las instrucciones no eran muy claras y los tornillos difícilmente entraron, sin embargo con mucho cuidado y con un vídeo tutorial al final quedó.",
          "star_rating": "5.0 de 5 estrellas",
          "title": "Excelente calidad de imagen"
         },
         {
          "asin": "B0C587FK1Z",
          "review_text": "MUY RAPIDO EL ENVIO.",
          "star_rating": "5.0 de 5 estrellas",
          "title": "EXCELENTE EN TIEMPO Y FORMA"
         },
         {
          "asin": "B0C587FK1Z",
          "review_text": "Realice mi pedido de esta tv por el buen precio en el que estaba y está sorprendentemente me llego en 3 días a mi domicilio por estafeta (“Cuando la fecha programada era hasta 9 días después de la compra”)Calidad de imagen:Es otra experiencia, la calidad de imagen es sorprendente, el brillo es fascinante, súper brilloso pero curiosamente estos no son molestos a la vista en lo personal, Solamente impactante tanto en juegos, películas, YouTube. Tiene 4 hdmi 2.1 a 120hz, freesync, g-sync, todo lo necesario para el futuro.Funciones y fluidez del sistema:El sistema operativo es muy fluido, las aplicaciones abren súper rápido y sin ningún problema soporta redes wifi de 5GHz, pero sin duda el mejor aspecto es la inclusión de Alexa, en ninguna otra tele que haya probado esta función había sido tan placentera como en esta, aunque el volumen esté muy alto, Alexa responde perfectamente a todo lo que le digas, aquí realmente el usar el micrófono para buscar algo en YouTube realmente sirve y es súper útil.El control remoto no tiene muchos cambios pero es muy bueno y fácil de usar.Montaje de la tv:El montaje para ponerlo en la base es realmente sencillo sin muchas complicaciones pero de preferencia usen una cama o una mesa amplia para poner la tele boca abajo y que no haya algún accidente. Muy elegante la base, de ve muy premium y eleva considerablemente la tele lo que es genial en mi punto de vista visualmente.Conclusión:Si encuentras esta TV LG OLED C3 En 55 pulgadas por menos de $29,000 pesos mexicanos vale totalmente la pena y casi que compra asegurada, dejará a cualquier persona satisfecha, tanto gamers como cinéfilos.",
          "star_rating": "5.0 de 5 estrellas",
          "title": "Increíble, otra experiencia"
         },
         {
          "asin": "B0C587FK1Z",
          "review_text": "La televisión si cumple con mucho de lo que menciona, y ha decir verdad me ha tenido bastante contento la calidad de la imagen, pero si lo que tú buscas es tener una buena imagen sin algo tan detallado como esta, una televisión que tenga mínimo 60hz es más que suficiente, recomiendo mucho que sea de la marca LG 👌🏻",
          "star_rating": "5.0 de 5 estrellas",
          "title": "Perfecta👌🏻"
         },
         {
          "asin": "B0C587FK1Z",
          "review_text": "Los videos y juegos en HDR y Oled, son una experiencia increible para los entusiastas de los graficos, colores y texturas, hasta que no lo ves en persona no te das cuenta de lo exquisito que se ve, una vez que pruebas esto ya no puedes regresa. Si no es oled + hdr ya lo ves feo. Parece que las cosas las ves tras un cristal, puedes ver detalles de texturas y colores que antes no veias con otros televisores. Si eres exigente esto es lo que buscas, vale cada céntimo.",
          "star_rating": "5.0 de 5 estrellas",
          "title": "Un nuevo estándar"
         },
         {
          "asin": "B0C587FK1Z",
          "review_text": "Excelente hasta ahorita, pero esperaba mejor calidad de imagen de esta marca.",
          "star_rating": "4.0 de 5 estrellas",
          "title": "Buena calidad !"
         },
         {
          "asin": "B0C587FK1Z",
          "review_text": "Increíble calidad de imagen y muy fina en general el diseño de la pantalla, el control remoto podríaí ser mas fino y pequeño acorde al diseño de la pantalla.......",
          "star_rating": "5.0 de 5 estrellas",
          "title": "Increíble calidad de imagen..."
         },
         {
          "asin": "B0C587FK1Z",
          "review_text": "Sin duda alguna, puedo decir que es la mejor pantalla que he tenido. Es caro, si. Pero también lo vale si te gusta ver peliculas, series, deportes y jugar videojuegos.Creo que es lo que todo mundo necesita para lograr disfrutar una experiencia de entretenimiento increible.",
          "star_rating": "5.0 de 5 estrellas",
          "title": "La mejor pantalla que he tenido."
         },
         {
          "asin": "B0C587FK1Z",
          "review_text": "La pantalla se ve genial pero a los 3 dias le salio una burbuja en el panel y paro lo delicado que son estos productos mejor la devolvi es una pena porque me gusto mucho, aclaro esa burbuja no es en el platico protector ya que ese si fue retirado.Pero apesar de todo lo volveria a comprar esperando no salga mal ya que la calidad de imagen en muy buena.",
          "star_rating": "3.0 de 5 estrellas",
          "title": "muy linda y todo pero...."
         },
         {
          "asin": "B0C587FK1Z",
          "review_text": "Los colores se ven increibles, muy buen contraste, brillo muy alto, variedad de opciones para juegos 🎮 sin duda alguna la mejor compra!!",
          "star_rating": "5.0 de 5 estrellas",
          "title": "Increíble smart tv oled a 120 hz"
         },
         {
          "asin": "B0C587FK1Z",
          "review_text": "Completamente nuevo y sellado, llego en excelentes condiciones me encanto realizar esta compra",
          "star_rating": "5.0 de 5 estrellas",
          "title": "Fascinado"
         },
         {
          "asin": "B0C587FK1Z",
          "review_text": "YA AL MENOS DE HACE 3 AÑOS A HOY QUE TODAS LAS OLED DE LG TIENEN MANCHAS ROSAS EN EL PANEL POR LOS MATERIALES QUE USAN PARA SU CONSTRUCCION, EN MAYOR O MENOR CANTIDAD, LA LLAMADA LOTERIA DE PANEL LG, SI DISTORCIONA LA IMAGEN EN  COLORES CLAROS COMO EL BLANCO, BEIGE, CREMAS, AMARILLOS, GRISES, PONGAN UN PATRON DE COLORES PARA DARSE CUENTA, EN CONTENIDO NORMAL PUEDE QUE NO LO NOTES PERO EN IMAGENES DE NIEVE POR EJEMPLO O DONDE LA PANTALLA ES DE MAYORMENTE LOS COLORES QUE MENCIONE LA IMAGEN SE VE MANCHADA POR ESOS TINTES ROSAS, TODAS LAS GENERACIONES DE PANEL EVO TIENEN EL MISMO PROBLEMA, NO IMPORTA SI SON LA C O LA G, ADEMÁS LA IMAGEN NO ES TAN FINA EN CONTENIDO QUE NO ES 4K, LLEVABA AÑOS CON LG PERO DEBIDO A ESTO CAMBIE A SAMSUNG Y NADA QUE VER, MUCHO MEJOR EXPERIENCIA Y A MEJOR PRECIO, NO VOLVERE A LG HASTA QUE FABRIQUEN ALGO QUE NO TENGA ESE TIPO DE PROBLEMAS, LASTIMA QUE MI C8 SE DESCOMPUSO PORQUE SE VEIA MEJOR QUE LAS ACTUALES DE LG, PRUEBEN SAMSUNG Y VERÁN GRAN DIFERENCIA",
          "star_rating": "1.0 de 5 estrellas",
          "title": "Tinte rosa en pantalla"
         },
         {
          "asin": "B0C588JRZ2",
          "review_text": "Sin duda una buena inversión, su sonido es fabuloso y adaptable por IA",
          "star_rating": "5.0 de 5 estrellas",
          "title": "Cálidad precio"
         },
         {
          "asin": "B0C588JRZ2",
          "review_text": "Excelente equipo, estoy muy satisfecho",
          "star_rating": "5.0 de 5 estrellas",
          "title": "Excelente TV, y el control remoto es Genial"
         },
         {
          "asin": "B0C588JRZ2",
          "review_text": "Llego sellado en óptimas condiciones,  la calidad del sonido y video es genial . 10/10",
          "star_rating": "5.0 de 5 estrellas",
          "title": "Excelente"
         },
         {
          "asin": "B0C588JRZ2",
          "review_text": "El precio fue excelente , más barato que una tienda local , tenía miedo de comprar una televisión de estas dimensiones en Amazon , pero la TV llegó en excelente estado y a tiempo , es un producto de calidad a un muy buen precio .",
          "star_rating": "5.0 de 5 estrellas",
          "title": "Excelente Comora"
         },
         {
          "asin": "B0C588JRZ2",
          "review_text": "Después de probar otras marcas finalmente encontré esta pantalla de muy buena calidad y precio.Llego el día establecido y con personas muy amables que la entregaron en un 1er piso muy buen apoyo por el peso y tamaño.",
          "star_rating": "5.0 de 5 estrellas",
          "title": "Precio y calidad"
         },
         {
          "asin": "B0C588JRZ2",
          "review_text": "Todo perfecto, la calidad de imagen y sonido es perfecta. Llego en buen estado y sin ningun detalle.",
          "star_rating": "5.0 de 5 estrellas",
          "title": "Calidad en Imagen"
         },
         {
          "asin": "B0C588JRZ2",
          "review_text": "No encontré otro lugar donde lo vendan a este precio, ni hablar comprarlo el tiendas de departamento y es exactamente igual. Ya he tenido varios antes y funciona bien.",
          "star_rating": "5.0 de 5 estrellas",
          "title": "El mejor lugar para comprarlo es por Amazon"
         },
         {
          "asin": "B0C588JRZ2",
          "review_text": "Excelente compra , tv con buenna imagen y sonido , incluye control Magic y varias aplicaciones",
          "star_rating": "5.0 de 5 estrellas",
          "title": "Llego antes de lo esperado y con caja sellada"
         },
         {
          "asin": "B0C588JRZ2",
          "review_text": "Se ve muy bien y estuvo en un excelente precio",
          "star_rating": "5.0 de 5 estrellas",
          "title": "Excelente imagen"
         },
         {
          "asin": "B0C588JRZ2",
          "review_text": "BUENA IMAGEN, RESOLUCION Y SISTEMA OPERATIVO",
          "star_rating": "5.0 de 5 estrellas",
          "title": "BUENA RELACION PRECIO VS CALIDAD"
         },
         {
          "asin": "B0C588JRZ2",
          "review_text": "La imagen el diseño me encanta el sonido muy bueno aunque ya por seguir la onda del teatro en casa adquirí la barra pero sinceramente por sí sola es perfecta",
          "star_rating": "5.0 de 5 estrellas",
          "title": "Muy buena calidad"
         },
         {
          "asin": "B0C588JRZ2",
          "review_text": "Que le digo",
          "star_rating": "5.0 de 5 estrellas",
          "title": "Una tele"
         },
         {
          "asin": "B0C588JRZ2",
          "review_text": "Excelente pantalla",
          "star_rating": "5.0 de 5 estrellas",
          "title": "Muy buena calidad"
         },
         {
          "asin": "B0C588JRZ2",
          "review_text": "No tuve tema con que la caja me haya llegado sin uniceles de protección pero sí tuve gran problema con que no llegaron sus tornillos, los cuales son indispensables para ponerle su base. Y ojo, la caja se veía muy maltratada y sin uniceles, lo cual sospecho que era un producto de exposición.",
          "star_rating": "4.0 de 5 estrellas",
          "title": "Probable producto de exhibición."
         },
         {
          "asin": "B0C588JRZ2",
          "review_text": "Llegó a tiempo y en buenas condiciones",
          "star_rating": "5.0 de 5 estrellas",
          "title": "Buen producto"
         },
         {
          "asin": "B0C588JRZ2",
          "review_text": "Muy bonita compra es más de lo que se esperaba",
          "star_rating": "5.0 de 5 estrellas",
          "title": "Super bien"
         },
         {
          "asin": "B0C588JRZ2",
          "review_text": "Muy bien",
          "star_rating": "5.0 de 5 estrellas",
          "title": "Perfecto"
         },
         {
          "asin": "B0C588JRZ2",
          "review_text": "Todo bien!! Falta probarlo pero al parecer todo está perfecto.  Muy buen producto. Llegó antes de la fecha estimada",
          "star_rating": "5.0 de 5 estrellas",
          "title": "Excelente producto y muy buena calidad"
         },
         {
          "asin": "B0C588JRZ2",
          "review_text": "Muy buena pantalla, con todas las aplicaciones incluidas que me gustan",
          "star_rating": "5.0 de 5 estrellas",
          "title": "Excelente compra!"
         },
         {
          "asin": "B0C588JRZ2",
          "review_text": "Parpadea mucho al escalar las imágenes en HDR y después se ve la imagen como si estuviera dañada la pantalla.",
          "star_rating": "4.0 de 5 estrellas",
          "title": "Muy buena pantalla, el problema es al escalar las imágenes en HDR."
         },
         {
          "asin": "B0C588JRZ2",
          "review_text": "Estoy contento en general con el televisor, es delgado, se monta bien en la pared y la imagen es bastante correcta, yo veo mucho material de youtube y me parece que el procesador hace un buen trabajo al mejorar imágenes pobres en calidad y desplegarlas en las 80 pulgadas del televisor de forma extraordinaria.Lo que aún me desconcierta es la gestión del volumen, en ocasiones las voces son débiles y se pierden en el sonido de fondo de los programas, no he encontrado aún el ajuste correcto para resolver este problema.Finalmente, en mi opinión, el control remoto tiene muy mal diseño: es muy difícil realizar operaciones básicas como subir y bajar el volumen en la obscuridad y usando solo el tacto. Es frustrante equivocarse tantas veces tratando de resolver el problema de las variaciones del volumen usando un control remoto tan poco intuitivo; tengo otros dos televisores de la otra marca Coreana y el control remoto es, por mucho, más sencillo e intuitivo.",
          "star_rating": "4.0 de 5 estrellas",
          "title": "Buen televisor, manejo del volumen raro y control remoto pésimo"
         },
         {
          "asin": "B0C588JRZ2",
          "review_text": "La pantalla tiene buena resolución, buen sonido. El cambio entre aplicaciones es relativamente rápido y casi no tarda en ejecutar las Apps.",
          "star_rating": "5.0 de 5 estrellas",
          "title": "Buena nitidez de imagen y volumen con buena calidad"
         },
         {
          "asin": "B0C588JRZ2",
          "review_text": "Llego rápido, tiene muy buena resolución, lo único es el control remoto, que al ser inteligente, te tardas un poco en saber usarlo,por lo demás, le doy una excelente calificación!",
          "star_rating": "5.0 de 5 estrellas",
          "title": "Excelente TV"
         },
         {
          "asin": "B0C588JRZ2",
          "review_text": "Tiempo de entrega excelente.. calidad de imágenes muy buena, sonido bueno… relación precio calidad de 10",
          "star_rating": "5.0 de 5 estrellas",
          "title": "Calidad"
         },
         {
          "asin": "B0C588JRZ2",
          "review_text": "Es una buena televisión, de buena marca, tiene todas las aplicaciones de stream, debido a que es 2023 su sistema operativo es nuevo y cuenta con una gran calidad de imagen.Los oscuros no son su mayor fortaleza, se logran ver algo opacas las orillas, supongo por el tamaño de 65’. El 4K me parece muy básico, creo que es posible conseguir una mejor tv con mejor definición al mismo precio, aunque tal vez no de la misma marca.Le pongo 4 estrellas porque tardó mucho en llegar (más de 2 semanas) y también porque al encenderla noté que tenía un par de píxeles muertos, tal cual se ve en la fotografía. Aunque esto no afecta en la imagen de la tv. Otra cosa que no me gusta, es sentir que mi TV con calidad HD se mira igual o al menos muy parecida a esta que es 4K. Algo que me gustó mucho fue el magic control.",
          "star_rating": "4.0 de 5 estrellas",
          "title": "Compra medianamente buena"
         },
         {
          "asin": "B0C588JRZ2",
          "review_text": "la televisión tiene una imagen muy buena y el sonido me gusta mucho la única contra es el sistema operativo es demasiado lento y se cuelga mucho, terminé usando un fire stick para solucionar el inconveniente.",
          "star_rating": "4.0 de 5 estrellas",
          "title": "muy buena televisión, la única contra es el sistema"
         },
         {
          "asin": "B0C588JRZ2",
          "review_text": "Todo bien ,el precio calidad del producto",
          "star_rating": "5.0 de 5 estrellas",
          "title": "Ecxelente Compra"
         },
         {
          "asin": "B0C588JRZ2",
          "review_text": "Es una pantalla excelente con buena calidad y buen sonido",
          "star_rating": "5.0 de 5 estrellas",
          "title": "Excelente pantalla"
         },
         {
          "asin": "B0C588JRZ2",
          "review_text": "Es poco tiempo pero se ve bien la imagen",
          "star_rating": "4.0 de 5 estrellas",
          "title": "Se ve muy bien la imagen"
         },
         {
          "asin": "B0C588JRZ2",
          "review_text": "Su sistema en fácil de entender y loas apps  le agregan más capas para entretener, lo uso principalmente para jugar videojuegos y me fascinó completamente.",
          "star_rating": "5.0 de 5 estrellas",
          "title": "Excelente calidad de imagen"
         },
         {
          "asin": "B0C588JRZ2",
          "review_text": "Llegó en perfecto estado. Buena pantalla, en general todo bien.",
          "star_rating": "5.0 de 5 estrellas",
          "title": "Excelente producto."
         },
         {
          "asin": "B0C588JRZ2",
          "review_text": "Estoy confirmé pero creo que pude haber seleccionado algo mucho mejor en características.",
          "star_rating": "5.0 de 5 estrellas",
          "title": "Estoy conforme"
         },
         {
          "asin": "B0C588JRZ2",
          "review_text": "Llegó sin mucha advertencia, mucho antes de lo avisado. No estuve presente para recibirlo a altas horas de la tarde-noche. Lo regresaron sin intentar reenviarlo al día siguiente.Fue muy decepcionante porque era para un depto. en renta y los huéspedes esperaban tener la pantalla anunciada.Tuve que comprarlo 2 veces y esperar primero, el reembolso y luego, que llegara el segundo envío el cuál, tardó más y llegó con la característica impuntualidad.El sistema operativo es lento pero funcional. La pantalla se ve muy bien y tiene muchas funciones inteligentes. El sonido es también muy bueno.",
          "star_rating": "4.0 de 5 estrellas",
          "title": "Buena pantalla con impuntualidad en el envío."
         },
         {
          "asin": "B0C588JRZ2",
          "review_text": "Fue una excelente compra y entrega.",
          "star_rating": "5.0 de 5 estrellas",
          "title": "Muy buena compra"
         },
         {
          "asin": "B0C588JRZ2",
          "review_text": "La pantalla está muy bien, la verdad tenía mis inquietudes porque nadie la había adquirido antes, ahorita ya la probé puedo decir que es una pantalla a buen precio, tiene diferente modos de audio y visualización entre otras cosas, tiene las plataformas digitales esenciales, las demás las puedes descargar en la app (HBO si tiene)Ojo, si la tienen en algún cuarto alejado del modem donde la recepción de wifi no es tan buena y los muros algo gruesos probablemente a la hora de cargar los videos o películas si va ver afectado, la pantalla está en el segundo piso y el módem está en el primero, pero teniendo un repartidor funciona de maravilla",
          "star_rating": "5.0 de 5 estrellas",
          "title": "Muy buena"
         },
         {
          "asin": "B0C588JRZ2",
          "review_text": "Me encantó solo no reconoce de inmediato la opción de voz y el control súper sensible",
          "star_rating": "4.0 de 5 estrellas",
          "title": "Excelente"
         },
         {
          "asin": "B0C588JRZ2",
          "review_text": "Se recibió lo esperado, tiene buena definición, estoy complacido.",
          "star_rating": "5.0 de 5 estrellas",
          "title": "buen acabado"
         },
         {
          "asin": "B0C588JRZ2",
          "review_text": "Muy contento con mi nueva TV, tiene un sonido bastante potente, la calidad de imagen es muy buena , la interfaz es bastante amigable y trae también su control, lo recomiendo,. compré la de 50\"La estética de la TV me gustó mucho, se mira y siente de calidad",
          "star_rating": "5.0 de 5 estrellas",
          "title": "Excelente calidad de imagen"
         },
         {
          "asin": "B0C588JRZ2",
          "review_text": "La temperatura de los colores y el dinamismo del mágico control son muy buenos. Si quieres jugar o solo ver una película me parece una opción magnífica. Como la mayoría de pantallas, su punto débil es el sonido. De ahí en fuera, si la agarras en oferta es un gran deal.",
          "star_rating": "4.0 de 5 estrellas",
          "title": "Gran pantalla a buen precio"
         },
         {
          "asin": "B0C588JRZ2",
          "review_text": "Es un televisor de buena calidad, no se compara con uno de gama alta pero es exelente para su uso básico.Lo único malo es su control no me gustó para nada debería ser como el de los televisores de gama alta, fuera de eso todo está bien.",
          "star_rating": "4.0 de 5 estrellas",
          "title": "Buena calidad."
         },
         {
          "asin": "B0C588JRZ2",
          "review_text": "un producto muy buena, lo recommiendo!",
          "star_rating": "5.0 de 5 estrellas",
          "title": "buen producto"
         },
         {
          "asin": "B0C588JRZ2",
          "review_text": "Excelente imagen, buen producto, llego antes de lo esperado y en buen estado",
          "star_rating": "5.0 de 5 estrellas",
          "title": "Excelente producto. Lo recomiendo"
         },
         {
          "asin": "B0C588JRZ2",
          "review_text": "Excelente pantalla, muy buena resolución y es una maravilla para jugar videojuegos y ver películas.El volumen de preferencia hay que subirlo arriba de 20 para que se oiga bien.Estoy fascinado con la pantalla.",
          "star_rating": "5.0 de 5 estrellas",
          "title": "Excelente pantalla"
         },
         {
          "asin": "B0C588JRZ2",
          "review_text": "Me encantó,  el ofreció es muy bueno y la calidad de la pantalla es muy fiel, ha sido mi favorita hasta ahora de las pantallas que he tenido que han sido 3",
          "star_rating": "5.0 de 5 estrellas",
          "title": "El mejor equipo que he tenido hasta ahora"
         },
         {
          "asin": "B0C588JRZ2",
          "review_text": "Cumple, no es extraordinaria",
          "star_rating": "4.0 de 5 estrellas",
          "title": "Cumple"
         },
         {
          "asin": "B0C588JRZ2",
          "review_text": "Es buena para el precio",
          "star_rating": "5.0 de 5 estrellas",
          "title": "Buena"
         },
         {
          "asin": "B0C588JRZ2",
          "review_text": "Muy buena definición y el sonido está súper... Las aplicaciones fácil de instalar.",
          "star_rating": "5.0 de 5 estrellas",
          "title": "Está excelente"
         },
         {
          "asin": "B0C588JRZ2",
          "review_text": "Es buena pantalla se ve muy bien ojalá tuviera Google tv como lo dice en el anuncio que es compatible pero no aunque si puedes descargar la mayoría de apps si es un buen producto de muy buena calidad y el control que trae es genial",
          "star_rating": "3.0 de 5 estrellas",
          "title": "Es buena"
         },
         {
          "asin": "B0C588JRZ2",
          "review_text": "Me hubiera gustado tener esta televisión, pero no llegó en buen estado. Hubo un rápido reembolso , lo que agradezco, pero, ¿y la garantía? Me hubiera gustado tener un reemplazo del producto en lugar del reembolso.",
          "star_rating": "1.0 de 5 estrellas",
          "title": "La caja y la pantalla estaban rotas"
         },
         {
          "asin": "B0C588JRZ2",
          "review_text": "La verdad recomiendo el televisor pero estafeta mando mi caja dañada y Amazon ya no contesto nada 2 televisores compré y está venía bien dañada",
          "star_rating": "2.0 de 5 estrellas",
          "title": "La calidad precio., con cuidado ⚠️ si la manda por estafeta salió con led fundidos México"
         },
         {
          "asin": "B0B148FR2J",
          "review_text": "Buena televisión más por el precio lo compré en descuento y salió de maravilla",
          "star_rating": "5.0 de 5 estrellas",
          "title": "Buena"
         },
         {
          "asin": "B0B148FR2J",
          "review_text": "No es la mejor resolución, si es 720p nativos. Pero te puede dar 1080p reescalados lo cual no se ve mal, después de hacer unos ajustes en la pantalla se mira bien en películas y juegos, esta la compre para jugar en mi consola xbox one y Nintendo switch y la verdad me gusta como se ve, a su precio y lo que ofrece la verdad no nada mal, muy recomendada y por cierto el sonido 👌, si buscas algo barato es muy buena opción!",
          "star_rating": "4.0 de 5 estrellas",
          "title": "Buena opción"
         },
         {
          "asin": "B0B148FR2J",
          "review_text": "La pantalla es muy básica lo cual se entiende por el precio, la resolución si se llega ver baja cuando estás cerca de la TV, ya montada en la pared a cierta distancia se ve aceptable, sorprende lo ligera que está y los materiales son los más sencillos, pero para una habitación pequeña queda bien, considerar que se tiene que colocar algún stick o tv box ya que no es smart así que no podrás usarla para streaming directamente",
          "star_rating": "4.0 de 5 estrellas",
          "title": "TV básica a 720p no más"
         },
         {
          "asin": "B0B148FR2J",
          "review_text": "Buen producto por el precio y para mis necesidades estuvo excelente.No es un SMAR-TV",
          "star_rating": "5.0 de 5 estrellas",
          "title": "Excelente producto precio-calidad"
         },
         {
          "asin": "B0B148FR2J",
          "review_text": "Muy bien",
          "star_rating": "5.0 de 5 estrellas",
          "title": "Muy bien"
         },
         {
          "asin": "B0B148FR2J",
          "review_text": "Estoy satisfecho con el producto",
          "star_rating": "5.0 de 5 estrellas",
          "title": "Buen producto calidad y precio"
         },
         {
          "asin": "B0B148FR2J",
          "review_text": "Precio y buen sonido",
          "star_rating": "5.0 de 5 estrellas",
          "title": "Por el precio no me quejo , hasta el momento funcionando perfectamente"
         },
         {
          "asin": "B0B148FR2J",
          "review_text": "Bien producto llegó enseguida, estaba muy bien empaquetado y sin ningun daño ni estético ni de funcionamiento",
          "star_rating": "4.0 de 5 estrellas",
          "title": "Buen producto"
         },
         {
          "asin": "B0B148FR2J",
          "review_text": "Encontré esta pantalla por económica y resultó muy buena, en imagen, sonido y se puede programar para apagarse sola",
          "star_rating": "5.0 de 5 estrellas",
          "title": "Buena imagen"
         },
         {
          "asin": "B0B148FR2J",
          "review_text": "Para ser una televisión está bien, no tiene la mejor calidad en imagen, la compré para ponerla de monitor de PC por qué lei un comentario y aunque si funciona como monitor, no es muy cómodo su uso para ese propósito, terminé usándola cómo lo que es una televisión, no es smartv pero tengo un firestick y con eso funciona perfectamente como TV",
          "star_rating": "4.0 de 5 estrellas",
          "title": "Por el precio está bien"
         },
         {
          "asin": "B0B148FR2J",
          "review_text": "La compré para mí set up y la verdad es que se ve de lo mejor no le pude nada a muchas",
          "star_rating": "5.0 de 5 estrellas",
          "title": "Perfecta"
         },
         {
          "asin": "B0B148FR2J",
          "review_text": "muy buen producto de precio bajo y aceptable calidad de imagen y sonido",
          "star_rating": "5.0 de 5 estrellas",
          "title": "buena imagen y magnifico precio"
         },
         {
          "asin": "B0B148FR2J",
          "review_text": "Muy buenas",
          "star_rating": "5.0 de 5 estrellas",
          "title": "Buenas bonitas y baratas"
         },
         {
          "asin": "B0B148FR2J",
          "review_text": "Muy buena tv por el precio vale la pena",
          "star_rating": "5.0 de 5 estrellas",
          "title": "Tv"
         },
         {
          "asin": "B0B148FR2J",
          "review_text": "Estoy fascinado!  Me encantó por el precio y que fácilmente puedes conectarle un chrome cast, un apple tv o un Fire stick (según tu gusto) y no te pierdes entre sistemas operativos… ojalá hubiera esta opción en TVs mas grandes",
          "star_rating": "5.0 de 5 estrellas",
          "title": "Excelente producto por el precio!"
         },
         {
          "asin": "B0B148FR2J",
          "review_text": "El producto tiene buena calidad de imagen, el tamaño es ideal para una sala pequeña.",
          "star_rating": "4.0 de 5 estrellas",
          "title": "Muy bien producto"
         },
         {
          "asin": "B0B148FR2J",
          "review_text": "Cuenta con dos entradas HDMI, USB, excelente calidad de imagen ideal para usarse como monitor, se conecta un chromecast funciona perfectamente.",
          "star_rating": "5.0 de 5 estrellas",
          "title": "Calidad de imagen"
         },
         {
          "asin": "B0B148FR2J",
          "review_text": "Esta bien, no es smart",
          "star_rating": "4.0 de 5 estrellas",
          "title": "Esta buena"
         },
         {
          "asin": "B0B148FR2J",
          "review_text": "Quería un monitor de 32 pulgadas y fue la mejor opción, nunca la use como tv",
          "star_rating": "5.0 de 5 estrellas",
          "title": "Buena tv"
         },
         {
          "asin": "B0B148FR2J",
          "review_text": "La telvisión es fiel a lo que se describe. Llegó en perfectas condiciones y muy rápido.NO es una smart tv, por eso el precio tan bajo, pero es el adecuado.La calidad y el sonido de la pantalla es muy buena.",
          "star_rating": "5.0 de 5 estrellas",
          "title": "Excelentes condiciones"
         },
         {
          "asin": "B0B148FR2J",
          "review_text": "La compre con oferta y no me arrepiento para nada, me gustan las televisiones simples y sin conexion mas alla de las necesarias, para alguien que busca lo basico es de lo mejor a encontrar sin exceder presupuestos",
          "star_rating": "5.0 de 5 estrellas",
          "title": "excelente inversion en relacion a calidad y precio"
         },
         {
          "asin": "B0B148FR2J",
          "review_text": "cumple con lo que promete",
          "star_rating": "4.0 de 5 estrellas",
          "title": "buen producto"
         },
         {
          "asin": "B0B148FR2J",
          "review_text": "El producto cumple con las especificaciones tal cual viene en la descripción, tanto la calidad de imagen como  sonido, el producto me llego apenas hoy y despues de una pruebas comprobé su funcionamiento, en mi caso  el uso es un monitor secundario por lo cual al ser solo hd si estas acostumbrado a pantallas con mas resolución la diferencia de calidad es notable, no es mala pero el salto de hd a full hd es notorio ya que la pantalla en si no es 1920 x 1080 pero en ningún momento el articulo engaña con los datos técnicos, no pongo 5 estrellas por que aun falta ver como se comporta en unas semanas, pero cumple perfectamente con la descripción, otro detalle es que no tienen muy buena compatibilidad con el control remoto de Xiaomi ya que reconoce la acción pero no la realiza pero el control remoto funciona perfectamente es solo en caso de querer tener esa opción no viene dentro de las funciones especificas del producto es cuestión de compatibilidad extra.",
          "star_rating": "4.0 de 5 estrellas",
          "title": "precio justo."
         },
         {
          "asin": "B0B148FR2J",
          "review_text": "Está muy bien la pantalla no tiene Smart pero para mí uso está súper bieny por el precio más",
          "star_rating": "5.0 de 5 estrellas",
          "title": "Pantalla 32 pulgadas"
         },
         {
          "asin": "B0B148FR2J",
          "review_text": "Valor presio esta excelente, fácil de configurar",
          "star_rating": "4.0 de 5 estrellas",
          "title": "Bueno"
         },
         {
          "asin": "B0B148FR2J",
          "review_text": "La compre para aprovechar un Roku, tiene buena imagen y es sencilla de usar, con poco consumo de energía y muy ligera lo que me sorprendio, es un producto que recomiendo.",
          "star_rating": "5.0 de 5 estrellas",
          "title": "Muy buena compra"
         },
         {
          "asin": "B0B148FR2J",
          "review_text": "Me gusta el producto por que es económica tiene hdmi con la cual le conecte un fire stick para hacerla smart.  La compre para mi niña la use. Resolví el problema de no tenerle una tv en el cuarto de mi hija. Hasta ahorita buena tv.",
          "star_rating": "5.0 de 5 estrellas",
          "title": "TV Básica pero para lo que buscaba suficiente!!"
         },
         {
          "asin": "B0B148FR2J",
          "review_text": "me gusto lo practico del tamaño, ya que puede colocar en cualquier lugar, la calidad de la imagen es bastante buena.",
          "star_rating": "5.0 de 5 estrellas",
          "title": "Buena  calidad de imagen"
         },
         {
          "asin": "B0B148FR2J",
          "review_text": "La Tv es justo lo que estaba buscando em cuestion de calidad precio, me anime a comprarla porque solo la quiero para jugar con mi xbox, entonces es mas que suficiente para poder tener unas tardes de juego y si quiero reproducir algo multimedia igual uso la xbox para cualquier plataforma de stream.",
          "star_rating": "5.0 de 5 estrellas",
          "title": "Super bien"
         },
         {
          "asin": "B0B148FR2J",
          "review_text": "Por el precio no esperaba algo increíble y la verdad es que en imágen se ve bastante bien, pero en sonido es horrible, se escucha como hueco",
          "star_rating": "3.0 de 5 estrellas",
          "title": "Bien, pero ..."
         },
         {
          "asin": "B0B148FR2J",
          "review_text": "justo lo que necesitaba mejor que un monitor en precio y calidad..... muy recomendable",
          "star_rating": "5.0 de 5 estrellas",
          "title": "muy buen equipo listo y trabajando"
         },
         {
          "asin": "B0B148FR2J",
          "review_text": "Justo lo que necesitaba para mis clases en línea de ajedrez",
          "star_rating": "5.0 de 5 estrellas",
          "title": "Excelente producto"
         },
         {
          "asin": "B0B148FR2J",
          "review_text": "Su audio y calidad de imagen son de regulares a bajas, pero por el precio es comprensible",
          "star_rating": "4.0 de 5 estrellas",
          "title": "Saca de un apuro"
         },
         {
          "asin": "B0B148FR2J",
          "review_text": "Excelente pantalla basica, todo llego bien.",
          "star_rating": "5.0 de 5 estrellas",
          "title": "Excelente pantalla"
         },
         {
          "asin": "B0B148FR2J",
          "review_text": "Relación calidad - precioFunciones básicasBuen sonido",
          "star_rating": "5.0 de 5 estrellas",
          "title": "Precio"
         },
         {
          "asin": "B0B148FR2J",
          "review_text": "La TV cumple bien su función. No es 4k y no es hd, pero el precio es bueno respecto a su tamaño. Si buscas una buena imagen para una pc, podrías considerar otra opción. Yo la uso como monitor en la pc y funciona muy bien.",
          "star_rating": "5.0 de 5 estrellas",
          "title": "Buen precio"
         },
         {
          "asin": "B0B148FR2J",
          "review_text": "Buen tamaño calidad de imagen standar pero por el precio vale mucho la pena el control es bastante fácil de usar y cómodoLo único que podría decir que falla es el sonido solo tiene una bocina a un costado de la pantalla y tiene que estar arriba del 10 para que tengas un buen audio",
          "star_rating": "4.0 de 5 estrellas",
          "title": "Calidad standar en la imagen pero por el precio lo vale"
         },
         {
          "asin": "B0B148FR2J",
          "review_text": "Es una pantalla básica, por el precio es perfecta, no tengo quejas hasta el momento",
          "star_rating": "5.0 de 5 estrellas",
          "title": "Acorde al precio"
         },
         {
          "asin": "B0B148FR2J",
          "review_text": "Basica realmente buena 👍",
          "star_rating": "5.0 de 5 estrellas",
          "title": "Me encanto"
         },
         {
          "asin": "B0B148FR2J",
          "review_text": "Buen producto, buen precio, no pesa nada, lo recomiendo",
          "star_rating": "5.0 de 5 estrellas",
          "title": "Buena compra"
         },
         {
          "asin": "B0B148FR2J",
          "review_text": "Me gustó que se ve y oye, muy bien; sencillo de utilizar. Muy nítida imagen.Quizá podría ser de un precio más barato en un 15 por ciento.",
          "star_rating": "4.0 de 5 estrellas",
          "title": "Artículo aceptable"
         },
         {
          "asin": "B0B148FR2J",
          "review_text": "No es una smart tv, es una pantalla de conexiones viejas.No es lo que esperaba, ni si quiera tiene you tube",
          "star_rating": "2.0 de 5 estrellas",
          "title": "Es un producto es deficiente"
         },
         {
          "asin": "B0B148FR2J",
          "review_text": "Tal cual lo describe el producto",
          "star_rating": "5.0 de 5 estrellas",
          "title": "Excelente"
         },
         {
          "asin": "B0B148FR2J",
          "review_text": "Muy buena recepcion h calidad de imagen y sobre todo excelente precio",
          "star_rating": "5.0 de 5 estrellas",
          "title": "Calidad y precio"
         },
         {
          "asin": "B0B148FR2J",
          "review_text": "La tv llegó en tiempo y forma.Fue para un regalo",
          "star_rating": "5.0 de 5 estrellas",
          "title": "Cumple bien"
         },
         {
          "asin": "B0B148FR2J",
          "review_text": "Pocos mandos, no se puede utilizar muy bien con el Alexa",
          "star_rating": "4.0 de 5 estrellas",
          "title": "Pantalla facil de usar pero con muy pocas opciones de uso"
         },
         {
          "asin": "B0B148FR2J",
          "review_text": "Las entradas VGA están algo mal ubicadas pero igual sirven",
          "star_rating": "4.0 de 5 estrellas",
          "title": "Para el precio está bien, no es la gran cosa pero cumple su su propósito"
         },
         {
          "asin": "B0B148FR2J",
          "review_text": "Muy Buen producto por el precio.",
          "star_rating": "5.0 de 5 estrellas",
          "title": "Buena relación costo- beneficio"
         },
         {
          "asin": "B0B148FR2J",
          "review_text": "A pesar de ser una tv muy básica,tiene. Muy buena resolución y muy bien sonido 👌🏼",
          "star_rating": "5.0 de 5 estrellas",
          "title": "Muy Buena imagen"
         },
         {
          "asin": "B0B148FR2J",
          "review_text": "buen producto!!",
          "star_rating": "4.0 de 5 estrellas",
          "title": "buen producto"
         },
         {
          "asin": "B0BKTX65NY",
          "review_text": "Muy buena resolución y precio",
          "star_rating": "5.0 de 5 estrellas",
          "title": "Excelente"
         },
         {
          "asin": "B0BKTX65NY",
          "review_text": "Muy buena la calidad por el precio, la imagen no es muy nítida pero está excelente para el monto.",
          "star_rating": "4.0 de 5 estrellas",
          "title": "Buena opción para trabajar y ver la tele"
         },
         {
          "asin": "B0BKTX65NY",
          "review_text": "Excelente producto.Versatil, práctico y funciona perfecto.",
          "star_rating": "5.0 de 5 estrellas",
          "title": "Excelente opcion"
         },
         {
          "asin": "B0BKTX65NY",
          "review_text": "Apenas la empece a utilizar solo que le pongo Memoria de musica y no la lee",
          "star_rating": "4.0 de 5 estrellas",
          "title": "muy bien"
         },
         {
          "asin": "B0BKTX65NY",
          "review_text": "No me gusta que se calienta mucho el televisor",
          "star_rating": "4.0 de 5 estrellas",
          "title": "El material es muy delgado"
         },
         {
          "asin": "B0BKTX65NY",
          "review_text": "Llegó en tiempo y bien pero no trae manual ni los tornillos de las patas",
          "star_rating": "4.0 de 5 estrellas",
          "title": "Aún probando"
         },
         {
          "asin": "B0BKTX65NY",
          "review_text": "Funcional",
          "star_rating": "4.0 de 5 estrellas",
          "title": "Llego bien"
         },
         {
          "asin": "B0BKTX65NY",
          "review_text": "El producto cumple lo requerido aunque es muy básico y muy genérico su sistema operativo (similar al de un televisor barato marca Polaroid).  No es smart.  La reproducción del DVD es buena.",
          "star_rating": "3.0 de 5 estrellas",
          "title": "Reseña"
         },
         {
          "asin": "B0BKTX65NY",
          "review_text": "Excelente calidad. Puedo ver las pelis que quiera por su lector de CD y además me sirve de monitor",
          "star_rating": "5.0 de 5 estrellas",
          "title": "Buen producto."
         },
         {
          "asin": "B0BKTX65NY",
          "review_text": "me gusto para mi computadora y cuando no la uso veo la tv o pongo películas",
          "star_rating": "5.0 de 5 estrellas",
          "title": "excelente producto"
         },
         {
          "asin": "B0BKTX65NY",
          "review_text": "Tengo tiempo usándola y funsiona muy bien sin problemas, la calidad de imagen es muy buena",
          "star_rating": "5.0 de 5 estrellas",
          "title": "Excelente"
         },
         {
          "asin": "B0BKTX65NY",
          "review_text": "se compro por que era una smart tv, OJO, en la caja aun dice que es una smart tv pero esto es equivocado",
          "star_rating": "2.0 de 5 estrellas",
          "title": "OJO, No es una Smart TV"
         },
         {
          "asin": "B0BKTX65NY",
          "review_text": "Buena calidad, buena imagen y sonido, diferentes entradas de video, salida de audio aux y digital, buen producto.",
          "star_rating": "5.0 de 5 estrellas",
          "title": "BBB"
         },
         {
          "asin": "B0BKTX65NY",
          "review_text": "llego a tiempo, buena pantalla, y para lo que sirve est[a bien, era reacondicionado pero buen producto",
          "star_rating": "5.0 de 5 estrellas",
          "title": "uena pantalla"
         },
         {
          "asin": "B0BKTX65NY",
          "review_text": "Funciona perfectamente, me pareció excelente el precio y el tamaño de la pantalla. Lo recomiendo",
          "star_rating": "5.0 de 5 estrellas",
          "title": "Excelente"
         },
         {
          "asin": "B0BKTX65NY",
          "review_text": "Muy buena ya está instalada",
          "star_rating": "5.0 de 5 estrellas",
          "title": "Me encanto"
         },
         {
          "asin": "B0BKTX65NY",
          "review_text": "Aún cuando comentan que es regresada, no lo parece. Para mí, fue como si fuera nueva",
          "star_rating": "5.0 de 5 estrellas",
          "title": "Es igual que una nueva, no se ve diferencia alguna"
         },
         {
          "asin": "B0BKTX65NY",
          "review_text": "Todo excelente",
          "star_rating": "5.0 de 5 estrellas",
          "title": "La entrega con rapidez"
         },
         {
          "asin": "B0BKTX65NY",
          "review_text": "súper recomendada",
          "star_rating": "5.0 de 5 estrellas",
          "title": "Exelente"
         },
         {
          "asin": "B0BKTX65NY",
          "review_text": "Es una pantalla simple de operar, ideal para un espacio donde no se requiere gran calidad de imagen.",
          "star_rating": "5.0 de 5 estrellas",
          "title": "Estoy satisfecho con la compra"
         },
         {
          "asin": "B0BKTX65NY",
          "review_text": "Cumple con lo requerido, excelente funcionamiento y calidad de video y DVD, ideal para espacios pequeños y practicos, muy recomendable",
          "star_rating": "5.0 de 5 estrellas",
          "title": "Excelente producto!"
         },
         {
          "asin": "B0BKTX65NY",
          "review_text": "Esta muy bien para la habitación de un niño, a muy buen precio, se escucha bien y llegó en perfecto estado. Él control no tiene pilas pero el precio es justo, se ve bien y el DVD funciona bien, si no terminan de ver una película se queda en el punto donde se quedó. Llegó en el tiempo estimado. Los canales de TV abierta se ven bien y los encontró rápido.",
          "star_rating": "5.0 de 5 estrellas",
          "title": "Excelente producto"
         },
         {
          "asin": "B07V392Z8K",
          "review_text": "La imagen se ve bien, el audio no se escucha tan bien hasta que tu le mueves a los ajustes y no tiene entrada auxiliar para conectarle bocinas pero funciona perfectamente y cumple su función. Es una buena tele para lo que cuesta.",
          "star_rating": "4.0 de 5 estrellas",
          "title": "Buena compra"
         },
         {
          "asin": "B07V392Z8K",
          "review_text": "Muy bueno por el precio",
          "star_rating": "5.0 de 5 estrellas",
          "title": "Excelente precio producto"
         },
         {
          "asin": "B07V392Z8K",
          "review_text": "Gran producto a un precio súper bueno. La pantalla funciona como nueva y con muy buena calidad. Recomendada 100%",
          "star_rating": "5.0 de 5 estrellas",
          "title": "Gran producto a un gran precio"
         },
         {
          "asin": "B0BZFWS4VS",
          "review_text": "Pesima calidad del embalaje, la caja estaba cubiertaCon protección de pantalla tcl y la compra es de Samsung pésima y tristísima forma en que envuelven las productos súper seguro que en el envío se rompen",
          "star_rating": "1.0 de 5 estrellas",
          "title": "Pésima compra te dan un modelo de control de tv antiguo"
         },
         {
          "asin": "B0BZFWS4VS",
          "review_text": "Tv",
          "star_rating": "1.0 de 5 estrellas",
          "title": "Excelente"
         },
         {
          "asin": "B0BZFWS4VS",
          "review_text": "vino en pésimo estado con otra caja que no era la original, no vale la pena",
          "star_rating": "1.0 de 5 estrellas",
          "title": "No lo compren, vino rota, no sirve"
         },
         {
          "asin": "B0BZFWS4VS",
          "review_text": "Exelente tele",
          "star_rating": "5.0 de 5 estrellas",
          "title": "Exelente tele"
         },
         {
          "asin": "B08X9QC1RZ",
          "review_text": "Buen producto de acuerdo al precio, tiene Roku y eso es un plus para una pantalla pequeña.",
          "star_rating": "5.0 de 5 estrellas",
          "title": "Buen producto"
         },
         {
          "asin": "B08X9QC1RZ",
          "review_text": "Bien",
          "star_rating": "4.0 de 5 estrellas",
          "title": "Bien"
         },
         {
          "asin": "B08X9QC1RZ",
          "review_text": "Muy fácil de entender  y la calidad  exelente",
          "star_rating": "5.0 de 5 estrellas",
          "title": "Un producto exelente estoy muy contento  y satisfecho"
         },
         {
          "asin": "B0BYTJTF1R",
          "review_text": "Productos solicitado buen empaqueSolo que nunca funcionó el control remoto",
          "star_rating": "5.0 de 5 estrellas",
          "title": "Tv ok"
         },
         {
          "asin": "B0BYTJTF1R",
          "review_text": "El producto está bien,  pero facturar los pedidos.... el vendedor te la complica bastante, te hace perder mucho tiempo, ganando por su parte días sobre todo a fin de mes, hay que enviarles la información varias veces y si es cerca de fin de mes.... chao factura y ya no puedes deducir tus gastos, me parece pésimo y afecta mis derechos como contribuyente.Te advierte que si la factura sale mal, con esa te quedas y punto, no la van a cambiar, cuando tengo todo el derecho de pedir una corrección.",
          "star_rating": "2.0 de 5 estrellas",
          "title": "Producto promedio"
         },
         {
          "asin": "B0C7FK1P58",
          "review_text": "Siempre tuve ganas de una pantalla y me gustó mucho este producto y a buen precio, de ve muy bien, el sonido es fuerte, me gusto bastante, llegó antes de lo esperado👏👏👏👏👏",
          "star_rating": "5.0 de 5 estrellas",
          "title": "Excelente"
         },
         {
          "asin": "B0C7FK1P58",
          "review_text": "Está muy bien por el precio, no es lo más top pero cumple con lo que promete, es buena",
          "star_rating": "5.0 de 5 estrellas",
          "title": "Excelente"
         },
         {
          "asin": "B0C7FK1P58",
          "review_text": "////Disclaimer: tengo poco tiempo con el producto////La televisión es una gran compra en este 2023.Su panel Qled se siente con colores muy brillantes y bastante bien logrados sin ser sobresaturados. Sin duda *No se compara con una OLED* pero, no están en la misma categoría.El sistema Google TV funciona de maravilla sobretodo si ya estás en todo el ecosistema de Google (contraseñas a un solo clic).Dolby Vision y Micro Dimming hacen que tu experiencia de video sea muy agradable al mirar películas de plataformas de streaming.10/10 por El precio, calidad y sistema.",
          "star_rating": "5.0 de 5 estrellas",
          "title": "Buena calidad / precio"
         },
         {
          "asin": "B0C7FK1P58",
          "review_text": "El envió en tiempo, la caja un poco maltratada, pero lleva 2 semanas funcionando muy bien.",
          "star_rating": "5.0 de 5 estrellas",
          "title": "Muy buena"
         },
         {
          "asin": "B0C7FK1P58",
          "review_text": "El televisor es bueno si no eres muy exigente, funciona de buena manera y el sistema operativo aveces va un poco lento, pero es muy raro, algo que si le encontre, es que si el televisor es desconectado de la corriente, o hay alguna subida y bajada de luz, el wifi de la televisor se \"buguea\" deja de funcionar, el televisor te dice que no hay apesar de que si lo hay, dice \"conexion limitada\" ya es la 5ta vez que me sucede, y la unica solución es reiniciar por completo el televisor de fabrica y volver a configurarlo, esto es estresante, y no se puede hacer mucho, ese es el problema que le encontre, de ahí en mas si buscas algo con una gama de color media y no muy luminosa esta es una buena opcion, recomiendo conectarla con cable ethernet de ahi en mas, buen televisor ( cabe recalcar que yo cuento con un regulador de voltaje )",
          "star_rating": "4.0 de 5 estrellas",
          "title": "Desconexión de internet"
         },
         {
          "asin": "B0C7FK1P58",
          "review_text": "La pantalla se ve muy nítida, tiene buenos colores",
          "star_rating": "5.0 de 5 estrellas",
          "title": "Increíble resolución en la imagen"
         },
         {
          "asin": "B0C7FK1P58",
          "review_text": "Me gusta que es una Google TV y los canales de TCL",
          "star_rating": "5.0 de 5 estrellas",
          "title": "Calidad"
         },
         {
          "asin": "B0C7FK1P58",
          "review_text": "Cumple con lo ofrecido",
          "star_rating": "5.0 de 5 estrellas",
          "title": "Excelente producto"
         },
         {
          "asin": "B0C7FK1P58",
          "review_text": "Es un gran producto, fácil instalar aplicaciones y cuentas al utilizar Google Home, el sistema operativo se desempeña bien, la calidad de imagen es muy buena para el precio del producto, ideal para si lo que buscas es valor por tu dinero.",
          "star_rating": "5.0 de 5 estrellas",
          "title": "Excelente calidad"
         },
         {
          "asin": "B0C7FK1P58",
          "review_text": "Excelente",
          "star_rating": "5.0 de 5 estrellas",
          "title": "Excelente pantalla"
         },
         {
          "asin": "B0C7FK1P58",
          "review_text": "Apenas me llego este dia 12-07-2023, la tv esta bien, segun es quantum dot modelo 2023 pero no se ve gran diferencia aun con dolby atmos y vision....Si eres de los que les gusta usar airplay y chromecast preparate para querer aventar la tv por la ventana porque no estan activados, te hacen bajar apps con publicidad para usarlos... es una enorme estafa, simplemente airplay no sirve no se ve, chromecast muy lento y nada usable.Compre la hisense para mi otro depa la uh6 y wow todo esta listo para usarse, no se necesita nada mas... Una imagen sorprendente y llena de claridad... esta TCL nada nuevo",
          "star_rating": "2.0 de 5 estrellas",
          "title": "Decepcion... No la compren!"
         },
         {
          "asin": "B0C7FK1P58",
          "review_text": "La televisión llegó rápido, todo bien al momento de sacarla pero nos dimos cuenta que venía rota de la parte trasera, pareciera ser que era un defecto de fábrica, el día de empezar a probarla y quitar la película protectora nos dimos cuenta que venía con un golpe en la parte inferior izquierda, por lo cual tendré que hacer una devolución. La imagen se ve definida pero tiene muy poco brillo a comparación de la versión del año pasado, el sistema operativo es lento pero cumple.",
          "star_rating": "2.0 de 5 estrellas",
          "title": "Buena imagen, pero poco brillo."
         },
         {
          "asin": "B0C7FK1P58",
          "review_text": "No puedo entrar a ninguna aplicación porque me sale que no tengo internet y mi internet si sirve incluso le conecte ethernet y ni así.",
          "star_rating": "1.0 de 5 estrellas",
          "title": "NO SIRVE"
         },
         {
          "asin": "B0C7FK1P58",
          "review_text": "No funciona, al querer configurarla la TV se traba y empieza a aparecer el logo de TLC parpadeando.",
          "star_rating": "1.0 de 5 estrellas",
          "title": "Se traba al configurarla"
         },
         {
          "asin": "B0C7FK1P58",
          "review_text": ".",
          "star_rating": "5.0 de 5 estrellas",
          "title": "Excelente compra"
         },
         {
          "asin": "B0BCMKMMK1",
          "review_text": "Después de 4 años de haberla comprado aun funciona súper bien",
          "star_rating": "5.0 de 5 estrellas",
          "title": "Excelente"
         },
         {
          "asin": "B0BCMKMMK1",
          "review_text": "Tenía mis dudas por las reseñas que leia de productos refurbished y sobre todo de esta oantalla en diferentes publicaciones aqui en Amazon, pero me animé y grata sorpresa.Sobre la entrega de producto:- La pantalla llego al siguiente día por estafeta- Venía en su caja original- Todos los accesorios originales y completos (incluyendo manual)- Todas las protecciones y plásticos de producto nuevo- Funcionando correctamente en todas las modalidadesSobre la pantalla en sí:TCL no es una marca muy reconocida (al menos no para mi), pero la calidad me dejo satisfecho.La utilizó en mi oficina como reemplazo para 2 monitores FHD, conectada a una PC donde trabajo y juego.Buena calidad de imagenSobre el tema del brillo que dicen que no es muy alto, la tengo en una habitación con poca luz así que no representa problema para mi. Lo unico que sí tiene es que el negro no es muy intenso, para escenas completamente negras se alcanza a ver una muy tenue luz y algo así como \"manchas\", como si tuviera un plástico con burbujas de aire por la parte interior de la pantalla. De nuevo, solo es cuando hay una imagen 100% negra cubriendo toda la pantalla. En escenas de noche, con movimiento es imperceptible.La resolución 4k es nativa y tiene buen escalamiento para resoluciones menores.La gama de colores dicen que no es muy amplia, oero para mí está más que perfecta.Cuando la ocupo para trabajar (programando) tengo suficiente espacio de trabajo para ver muchas ventanas y bastantes líneas de codigo.Mis juegos no son muy demandantes de framerate, son del tipo simulador, pero gracias al tamaño puedo cubrir con la vista más terreno que con los monitores anteriores.En fin, sé que los refurfished pueden ser como una suerte para que te toque un producto en buen estado o no, y en esta ocasión quizá fuí afortunado y estoy muy contento con la compra",
          "star_rating": "5.0 de 5 estrellas",
          "title": "Prácticamente es un producto nuevo"
         },
         {
          "asin": "B0BCMKMMK1",
          "review_text": "Es perfecta. Sabía muy bien que como la televisión era renewed pues era básicamente una ruleta rusa dónde te puede llegar una televisión rota, defectuosa o con piezas faltantes, pero también te puede llegar una televisión perfecta, con todas las piezas y literalmente nueva.Me sorprendí que la televisión estaba prácticamente impecable, no tenía nada en la pantalla, ninguna marca de haber sido usada, tenía todavía puestos los plásticos de los marcos y de los pies de esta, tenía los instructivos y los tornillos, el control estaba impecable y el empaquetado era maravilloso.Lo \"único\" que tiene desperfecto es la caja, aunque es meramente estético y tú nunca vas a ver la caja.Por cierto, algo gracioso, estaba pensando en darle 4 estrellas porqué pensaba que los tornillos no estaban en el paquete y dije \"bueno, es renewed, algo así tenía que suceder\" después de unas horas me di cuenta de que los tornillos estaban en una bolsita que estaba pegada a un pie de la televisión y me dió mucha risa que no me hubiera dado cuenta xD.También decir que estuve al menos 1 hora tratando de registrarme en Roku, no es culpa de Amazon o de TCL, es culpa del sistema de Roku, así que las 5 estrellas se quedan intactas. xdQuisiera mencionar que aparte de lo que dije también hay algo que no es cierto y el lo que viene en el título del producto que dice que es compatible con Alexa y Google Assistant, esto no es cierto, de ahí en adelante todo bien.",
          "star_rating": "5.0 de 5 estrellas",
          "title": "Hermosamente perfecta."
         },
         {
          "asin": "B0BCMKMMK1",
          "review_text": "No pude abrir el empaque ya que yo me encontraba de viaje y llegué dos días después. Aunque me ocupé el fin de semana también y lo postergué hasta el lunes. Sólo saqué el televisor para cotejar que encendiera. Lo dejé preparado para poderlo instalar porque pensé que al encender ya estaba yo del otro lado. Sin embargo, el televisor se pasma. Le tomé pic al control que viene un tanto golpeado. La pantalla tiene desperendida ligeramemte el display de la parte superior derecha. Al configurarlo para ingresar y ponerle la red wi-fi me, me manda que al instalarse la actualización se reiniciará el equipo. Sin embargo, se queda pasmado en la pantalla principal tal como lo muestro en fotos y videos.",
          "star_rating": "1.0 de 5 estrellas",
          "title": "No sirve."
         },
         {
          "asin": "B0BCMKMMK1",
          "review_text": "La verdad supero mis expectativas, había leído algunos comentarios buenos pero también malos así que estaba nerviosa, la televisión llego en perfecto estado, con empaque original, sin ningún detalle y funciona a la perfección, accede bien a todas lasPlataformas por medio del control, la calidad de la imagen está excelente y el audio también está perfecto. Para la habitación en la que la tengo es perfecta en todos los sentidos. Y el precio es muy apropiado para la calidad considero que es una excelente compra.",
          "star_rating": "5.0 de 5 estrellas",
          "title": "Todo fue perfecto"
         },
         {
          "asin": "B0BCMKMMK1",
          "review_text": "La verdad es que sorprendido por la calidad de imagen con relación al precio... Es la mejor opción comprada en hotsale por menos de 4,500 pesos... Vino como nueva, con todos sus plásticos y todo, hasta consideró que es nueva 100%... Ya veremos durante su uso como se comporta..",
          "star_rating": "5.0 de 5 estrellas",
          "title": "Sorpresa del Hotsale"
         },
         {
          "asin": "B0BCMKMMK1",
          "review_text": "Por el precio está bien la compra por lo que contiene pero la calidad si es algo barata y el control es de roku no tiene funciones directas",
          "star_rating": "4.0 de 5 estrellas",
          "title": "Buena"
         },
         {
          "asin": "B0BCMKMMK1",
          "review_text": "A pesar de los comentarios, me arriesgué y pues todo excelente sin ningun percance. Me decidí por la de 43\" y fui de las personas afortunadas que no le salio con defectos la Tv. Pero tal vez tu seas el siguiente jeje",
          "star_rating": "5.0 de 5 estrellas",
          "title": "Excelente precio-calidad"
         },
         {
          "asin": "B0BCMKMMK1",
          "review_text": "Este el tercer dispositivo Roku que tenemos en casa y es el único que no funciona, cuando configuramos la conexión wifi, me pide actualizar el software automáticamente, sin embargo, al finalizar la actualización se queda trabada en la pantalla de inicio.",
          "star_rating": "1.0 de 5 estrellas",
          "title": "Simplemente no puedo conectarla a internet."
         },
         {
          "asin": "B0BCMKMMK1",
          "review_text": "Llego bien empacada no en el empaque original pero llego bien en perfecto estado con todos los accesorios y su control la entrega fue muy rapida y en general muy bien",
          "star_rating": "5.0 de 5 estrellas",
          "title": "Sin problemas"
         },
         {
          "asin": "B0BCMKMMK1",
          "review_text": "Tuve que devolverla ya que se queda estancada en un loop infinito de actualización de software. Probé todos los workarounds disponibles y no funcionaron. Pésima experiencia con producto refurbished.",
          "star_rating": "1.0 de 5 estrellas",
          "title": "Loop infinito de actualización de software"
         },
         {
          "asin": "B0BCMKMMK1",
          "review_text": "No llego con cable de alimentación eléctrica, lo demás ok.",
          "star_rating": "3.0 de 5 estrellas",
          "title": "Ok"
         },
         {
          "asin": "B0BCMKMMK1",
          "review_text": "Fue regalo y está súper en precio calidad y rapidez de entrega",
          "star_rating": "5.0 de 5 estrellas",
          "title": "Lo mejor"
         },
         {
          "asin": "B0BCMKMMK1",
          "review_text": "Excelente producto, en buenas condiciones y de excelente calidad",
          "star_rating": "5.0 de 5 estrellas",
          "title": "Excelente producto, en buenas condiciones y de excelente calidad"
         },
         {
          "asin": "B0BCMKMMK1",
          "review_text": "Tenía alguna duda, pero estoy satisfecho con mi compra",
          "star_rating": "5.0 de 5 estrellas",
          "title": "Buena oportunidad"
         },
         {
          "asin": "B0BCMKMMK1",
          "review_text": "El mismo día que me llegó la probé, funcionó de maravilla un par de horas y después de la nada se  trabó a la mitad de una película y ya no quiso encender. Creo que esto de los productos Amazon renewed es como un bolado. Hay unos que se ve que no checan bien que funcionen.",
          "star_rating": "1.0 de 5 estrellas",
          "title": "Se descompuso en sólo dos horas."
         },
         {
          "asin": "B0BCMKMMK1",
          "review_text": "Se desconecta de internet a la menor provocacion y cada vez es mas recurrente el tener que estar reconectandola, asco de sistema",
          "star_rating": "1.0 de 5 estrellas",
          "title": "Pesima conexion WIFI"
         },
         {
          "asin": "B0BCMKMMK1",
          "review_text": "Desde el día empezó con fallas y se dejó de ver la pantalla, no lo recomiendo.",
          "star_rating": "1.0 de 5 estrellas",
          "title": "El producto ni funciona, desde el día 1 se dejó de ver la pantalla."
         },
         {
          "asin": "B0BCMKMMK1",
          "review_text": "Yo compre esta pantalla con reservas porque en los comentarios hay quien dice que no les funcionó bien. Pero a mi me ha pasado todo lo contrario.  De entrada les puedo decir que si es renovada, no se de donde porque no se  nota por ningún lado. La calidad de la pantalla es muy buena y fácilmente la adapté al Internet de la casa. Quizás podría decir que el sonido no es tan bueno, pero yo le compre una barra de sonido para subsanar esto",
          "star_rating": "5.0 de 5 estrellas",
          "title": "Excelente tv smart!!!"
         },
         {
          "asin": "B0BRBV8L6X",
          "review_text": "Obtienes lo justo por lo que pagas.",
          "star_rating": "4.0 de 5 estrellas",
          "title": "Precio / Calidad"
         },
         {
          "asin": "B0BRBV8L6X",
          "review_text": "Bien embalado, en perfectas condiciones, sin detalles estéticos, a tiempo, funcionando sin error.",
          "star_rating": "5.0 de 5 estrellas",
          "title": "Excelente producto"
         },
         {
          "asin": "B0BRBV8L6X",
          "review_text": "Mi pantalla ya no se ve hoy 28 de mayo solo se escucha pero no se ve ,si alguien tiene o sabe si hay garantía con proveedor se los agradecería mucho gracias",
          "star_rating": "5.0 de 5 estrellas",
          "title": "Pantalla  no reco.endabke"
         }
        ]
       },
       "height": 300,
       "layer": [
        {
         "encoding": {
          "color": {
           "field": "star_rating",
           "type": "nominal"
          },
          "x": {
           "field": "star_rating",
           "title": "Estrellas",
           "type": "nominal"
          },
          "y": {
           "aggregate": "count",
           "title": "Conteo",
           "type": "quantitative"
          }
         },
         "mark": {
          "type": "bar"
         },
         "title": "Conteo de calificacion por cantidad de estrellas"
        },
        {
         "encoding": {
          "color": {
           "field": "star_rating",
           "type": "nominal"
          },
          "text": {
           "aggregate": "count",
           "format": ",.0f",
           "type": "quantitative"
          },
          "x": {
           "field": "star_rating",
           "title": "Estrellas",
           "type": "nominal"
          },
          "y": {
           "aggregate": "count",
           "title": "Conteo",
           "type": "quantitative"
          }
         },
         "mark": {
          "baseline": "bottom",
          "type": "text"
         }
        }
       ],
       "width": 500
      },
      "text/plain": [
       "<VegaLite 5 object>\n",
       "\n",
       "If you see this message, it means the renderer has not been properly enabled\n",
       "for the frontend that you are using. For more information, see\n",
       "https://altair-viz.github.io/user_guide/display_frontends.html#troubleshooting\n"
      ]
     },
     "execution_count": 7,
     "metadata": {},
     "output_type": "execute_result"
    }
   ],
   "source": [
    "base = alt.Chart(resenas).mark_bar().encode(alt.X(\"star_rating\", title ='Estrellas'), \n",
    "    alt.Y('count()', title = 'Conteo'), alt.Color(\"star_rating:N\"))\n",
    "\n",
    "# barras de la gráfica\n",
    "bar = base.mark_bar().properties(width=500,height=300,\n",
    "    title='Conteo de calificacion por cantidad de estrellas')\n",
    "# texto de la gráfica\n",
    "text = base.mark_text(baseline='bottom').encode(\n",
    "    alt.Text('count()', format=\",.0f\"))\n",
    "\n",
    "# poner barras y texto de la gráfica juntos\n",
    "bar + text"
   ]
  },
  {
   "cell_type": "code",
   "execution_count": 8,
   "metadata": {},
   "outputs": [
    {
     "data": {
      "text/html": [
       "<div>\n",
       "<style scoped>\n",
       "    .dataframe tbody tr th:only-of-type {\n",
       "        vertical-align: middle;\n",
       "    }\n",
       "\n",
       "    .dataframe tbody tr th {\n",
       "        vertical-align: top;\n",
       "    }\n",
       "\n",
       "    .dataframe thead th {\n",
       "        text-align: right;\n",
       "    }\n",
       "</style>\n",
       "<table border=\"1\" class=\"dataframe\">\n",
       "  <thead>\n",
       "    <tr style=\"text-align: right;\">\n",
       "      <th></th>\n",
       "      <th>star_rating</th>\n",
       "      <th>Count</th>\n",
       "      <th>Porcentaje</th>\n",
       "    </tr>\n",
       "  </thead>\n",
       "  <tbody>\n",
       "    <tr>\n",
       "      <th>0</th>\n",
       "      <td>5.0 de 5 estrellas</td>\n",
       "      <td>203</td>\n",
       "      <td>71.228070</td>\n",
       "    </tr>\n",
       "    <tr>\n",
       "      <th>1</th>\n",
       "      <td>4.0 de 5 estrellas</td>\n",
       "      <td>47</td>\n",
       "      <td>16.491228</td>\n",
       "    </tr>\n",
       "    <tr>\n",
       "      <th>2</th>\n",
       "      <td>1.0 de 5 estrellas</td>\n",
       "      <td>22</td>\n",
       "      <td>7.719298</td>\n",
       "    </tr>\n",
       "    <tr>\n",
       "      <th>3</th>\n",
       "      <td>2.0 de 5 estrellas</td>\n",
       "      <td>7</td>\n",
       "      <td>2.456140</td>\n",
       "    </tr>\n",
       "    <tr>\n",
       "      <th>4</th>\n",
       "      <td>3.0 de 5 estrellas</td>\n",
       "      <td>6</td>\n",
       "      <td>2.105263</td>\n",
       "    </tr>\n",
       "  </tbody>\n",
       "</table>\n",
       "</div>"
      ],
      "text/plain": [
       "          star_rating  Count  Porcentaje\n",
       "0  5.0 de 5 estrellas    203   71.228070\n",
       "1  4.0 de 5 estrellas     47   16.491228\n",
       "2  1.0 de 5 estrellas     22    7.719298\n",
       "3  2.0 de 5 estrellas      7    2.456140\n",
       "4  3.0 de 5 estrellas      6    2.105263"
      ]
     },
     "execution_count": 8,
     "metadata": {},
     "output_type": "execute_result"
    }
   ],
   "source": [
    "#Creamos un DF con los Value_count y agregamos una columna con el porcentaje que representa cada conteo\n",
    "resenas_count = resenas['star_rating'].value_counts().reset_index()\n",
    "resenas_count.columns = ['star_rating','Count']\n",
    "resenas_count['Porcentaje'] = (resenas_count['Count'] / resenas_count['Count'].sum()) * 100\n",
    "resenas_count"
   ]
  },
  {
   "cell_type": "markdown",
   "metadata": {},
   "source": [
    "#### Al elmiminar las filas sin rating obtenemos un 71 % de reseñas que dan excelente calificación con el máximo de 5 estrellas.\n",
    "#### Un 16.5% da muy buena calificación con 4 estrellas. \n",
    "#### Un 2 % da una calificación Media con 3 estrellas\n",
    "#### Un 10% da calificación Mala (2.4%)  y Muy  mala (7.7%) con 2 y 1 estrellas respectivamente."
   ]
  }
 ],
 "metadata": {
  "kernelspec": {
   "display_name": "eda_env",
   "language": "python",
   "name": "python3"
  },
  "language_info": {
   "codemirror_mode": {
    "name": "ipython",
    "version": 3
   },
   "file_extension": ".py",
   "mimetype": "text/x-python",
   "name": "python",
   "nbconvert_exporter": "python",
   "pygments_lexer": "ipython3",
   "version": "3.11.6"
  }
 },
 "nbformat": 4,
 "nbformat_minor": 2
}
